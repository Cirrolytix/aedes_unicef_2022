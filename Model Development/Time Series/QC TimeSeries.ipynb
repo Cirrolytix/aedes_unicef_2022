{
 "cells": [
  {
   "cell_type": "markdown",
   "source": "## Import Libaries\n* Pandas - for data manipulation\n* Matplotlib and Plotly - for data visualization ",
   "metadata": {
    "cell_id": "e6f08b4668f349049a55f3e91be28e20",
    "tags": [],
    "deepnote_cell_type": "markdown",
    "deepnote_cell_height": 147.78125
   }
  },
  {
   "cell_type": "code",
   "metadata": {
    "cell_id": "eaf45ccb-3706-4ee0-9cc8-d21a998c4eec",
    "deepnote_to_be_reexecuted": false,
    "source_hash": "6c23bc22",
    "execution_start": 1658063892675,
    "execution_millis": 1347,
    "deepnote_cell_type": "code",
    "deepnote_cell_height": 117
   },
   "source": "import pandas as pd\nimport matplotlib.pyplot as plt\nimport plotly.express as px",
   "outputs": [],
   "execution_count": null
  },
  {
   "cell_type": "markdown",
   "source": "## Import Dengue Data\nimport processed DOH data for forecasting dengue cases.\n",
   "metadata": {
    "cell_id": "5af045ba078c47018edf9d4e519adba0",
    "tags": [],
    "deepnote_cell_type": "markdown",
    "deepnote_cell_height": 108.390625
   }
  },
  {
   "cell_type": "code",
   "metadata": {
    "cell_id": "00001-68d79861-736e-456d-a2a5-a03fe06bb111",
    "deepnote_to_be_reexecuted": false,
    "source_hash": "4905d16",
    "execution_start": 1658063907812,
    "execution_millis": 38,
    "deepnote_cell_type": "code",
    "deepnote_cell_height": 81
   },
   "source": "dengue_cases=pd.read_csv('/work/TimeSeries/DOH-Epi Dengue Data 2016-2021-20220717-131000.csv')",
   "outputs": [],
   "execution_count": null
  },
  {
   "cell_type": "markdown",
   "source": "### Select only Dengue Cases reported in Quezon City",
   "metadata": {
    "cell_id": "cc3777d1f8084645a708c789c58d133e",
    "tags": [],
    "deepnote_cell_type": "markdown",
    "deepnote_cell_height": 62
   }
  },
  {
   "cell_type": "code",
   "metadata": {
    "cell_id": "00002-d324e084-b42f-414d-9c61-a8e0f0a12765",
    "deepnote_to_be_reexecuted": false,
    "source_hash": "92a8bfdd",
    "execution_start": 1658063911482,
    "execution_millis": 8,
    "deepnote_cell_type": "code",
    "deepnote_cell_height": 81
   },
   "source": "dengue_cases=dengue_cases[dengue_cases['loc']=='QUEZON CITY']",
   "outputs": [],
   "execution_count": null
  },
  {
   "cell_type": "markdown",
   "source": "Aggregate dengue cases by date(weekly)",
   "metadata": {
    "cell_id": "c571d4414185494792fdfbfd364b8dfd",
    "tags": [],
    "deepnote_cell_type": "markdown",
    "deepnote_cell_height": 52.390625
   }
  },
  {
   "cell_type": "code",
   "metadata": {
    "cell_id": "00003-c6398c11-3bf1-41a1-a59d-c606468c66df",
    "deepnote_to_be_reexecuted": false,
    "source_hash": "1f354076",
    "execution_start": 1658063911498,
    "execution_millis": 1,
    "deepnote_cell_type": "code",
    "deepnote_cell_height": 81
   },
   "source": "dengue_cases=dengue_cases.groupby(['date']).sum().drop(columns=['deaths'])",
   "outputs": [],
   "execution_count": null
  },
  {
   "cell_type": "code",
   "metadata": {
    "cell_id": "00004-6949f544-e21f-4389-ab2e-47f6fc1e6d1f",
    "deepnote_to_be_reexecuted": false,
    "source_hash": "7c02ea5e",
    "execution_start": 1658063911516,
    "execution_millis": 27,
    "deepnote_cell_type": "code",
    "deepnote_cell_height": 600,
    "deepnote_output_heights": [
     411.1875
    ]
   },
   "source": "dengue_cases",
   "outputs": [
    {
     "output_type": "execute_result",
     "execution_count": 6,
     "data": {
      "application/vnd.deepnote.dataframe.v3+json": {
       "column_count": 1,
       "row_count": 259,
       "columns": [
        {
         "name": "cases",
         "dtype": "float64",
         "stats": {
          "unique_count": 171,
          "nan_count": 0,
          "min": "0.0",
          "max": "812.0",
          "histogram": [
           {
            "bin_start": 0,
            "bin_end": 81.2,
            "count": 126
           },
           {
            "bin_start": 81.2,
            "bin_end": 162.4,
            "count": 55
           },
           {
            "bin_start": 162.4,
            "bin_end": 243.60000000000002,
            "count": 34
           },
           {
            "bin_start": 243.60000000000002,
            "bin_end": 324.8,
            "count": 15
           },
           {
            "bin_start": 324.8,
            "bin_end": 406,
            "count": 14
           },
           {
            "bin_start": 406,
            "bin_end": 487.20000000000005,
            "count": 6
           },
           {
            "bin_start": 487.20000000000005,
            "bin_end": 568.4,
            "count": 3
           },
           {
            "bin_start": 568.4,
            "bin_end": 649.6,
            "count": 2
           },
           {
            "bin_start": 649.6,
            "bin_end": 730.8000000000001,
            "count": 3
           },
           {
            "bin_start": 730.8000000000001,
            "bin_end": 812,
            "count": 1
           }
          ]
         }
        },
        {
         "name": "_deepnote_index_column",
         "dtype": "object"
        }
       ],
       "rows": [
        {
         "cases": 58,
         "_deepnote_index_column": "2016-01-10"
        },
        {
         "cases": 81,
         "_deepnote_index_column": "2016-01-17"
        },
        {
         "cases": 85,
         "_deepnote_index_column": "2016-01-24"
        },
        {
         "cases": 73,
         "_deepnote_index_column": "2016-01-31"
        },
        {
         "cases": 75,
         "_deepnote_index_column": "2016-02-07"
        },
        {
         "cases": 75,
         "_deepnote_index_column": "2016-02-14"
        },
        {
         "cases": 62,
         "_deepnote_index_column": "2016-02-21"
        },
        {
         "cases": 55,
         "_deepnote_index_column": "2016-02-28"
        },
        {
         "cases": 55,
         "_deepnote_index_column": "2016-03-06"
        },
        {
         "cases": 52,
         "_deepnote_index_column": "2016-03-13"
        }
       ]
      },
      "text/plain": "            cases\ndate             \n2016-01-10   58.0\n2016-01-17   81.0\n2016-01-24   85.0\n2016-01-31   73.0\n2016-02-07   75.0\n...           ...\n2020-12-13   39.0\n2020-12-20   20.0\n2020-12-27   28.0\n2021-01-03   20.0\n2021-01-10   14.0\n\n[259 rows x 1 columns]",
      "text/html": "<div>\n<style scoped>\n    .dataframe tbody tr th:only-of-type {\n        vertical-align: middle;\n    }\n\n    .dataframe tbody tr th {\n        vertical-align: top;\n    }\n\n    .dataframe thead th {\n        text-align: right;\n    }\n</style>\n<table border=\"1\" class=\"dataframe\">\n  <thead>\n    <tr style=\"text-align: right;\">\n      <th></th>\n      <th>cases</th>\n    </tr>\n    <tr>\n      <th>date</th>\n      <th></th>\n    </tr>\n  </thead>\n  <tbody>\n    <tr>\n      <th>2016-01-10</th>\n      <td>58.0</td>\n    </tr>\n    <tr>\n      <th>2016-01-17</th>\n      <td>81.0</td>\n    </tr>\n    <tr>\n      <th>2016-01-24</th>\n      <td>85.0</td>\n    </tr>\n    <tr>\n      <th>2016-01-31</th>\n      <td>73.0</td>\n    </tr>\n    <tr>\n      <th>2016-02-07</th>\n      <td>75.0</td>\n    </tr>\n    <tr>\n      <th>...</th>\n      <td>...</td>\n    </tr>\n    <tr>\n      <th>2020-12-13</th>\n      <td>39.0</td>\n    </tr>\n    <tr>\n      <th>2020-12-20</th>\n      <td>20.0</td>\n    </tr>\n    <tr>\n      <th>2020-12-27</th>\n      <td>28.0</td>\n    </tr>\n    <tr>\n      <th>2021-01-03</th>\n      <td>20.0</td>\n    </tr>\n    <tr>\n      <th>2021-01-10</th>\n      <td>14.0</td>\n    </tr>\n  </tbody>\n</table>\n<p>259 rows × 1 columns</p>\n</div>"
     },
     "metadata": {}
    }
   ],
   "execution_count": null
  },
  {
   "cell_type": "markdown",
   "source": "## Import Google Trends Data\nimport processed google trends data for Quezon City with same timeseries dates (2016-2021)",
   "metadata": {
    "cell_id": "5bbcfab4e15a488aa3dfcaa8c6fab541",
    "tags": [],
    "deepnote_cell_type": "markdown",
    "deepnote_cell_height": 108.390625
   }
  },
  {
   "cell_type": "code",
   "metadata": {
    "cell_id": "00005-0577d1ec-e1d9-4141-a72e-f42bfd407d8d",
    "deepnote_to_be_reexecuted": false,
    "source_hash": "b921c595",
    "execution_start": 1658063926663,
    "execution_millis": 1,
    "deepnote_cell_type": "code",
    "deepnote_cell_height": 81
   },
   "source": "google_trends=pd.read_csv('/work/TimeSeries/Google_Trends_Data_QC.csv')",
   "outputs": [],
   "execution_count": null
  },
  {
   "cell_type": "code",
   "metadata": {
    "cell_id": "00006-3389126e-818f-4cbb-bcbd-29de08413050",
    "deepnote_to_be_reexecuted": false,
    "source_hash": "309bb64",
    "execution_start": 1658063927653,
    "execution_millis": 0,
    "deepnote_cell_type": "code",
    "deepnote_cell_height": 81
   },
   "source": "google_trends=google_trends[['date','dengue + lamok']]",
   "outputs": [],
   "execution_count": null
  },
  {
   "cell_type": "code",
   "metadata": {
    "cell_id": "00007-91c7f183-ec9e-46b5-aab6-907ff0c7923f",
    "deepnote_to_be_reexecuted": false,
    "source_hash": "b137f5ed",
    "execution_start": 1658063929416,
    "execution_millis": 2,
    "deepnote_cell_type": "code",
    "deepnote_cell_height": 81
   },
   "source": "google_trends=google_trends.set_index('date')",
   "outputs": [],
   "execution_count": null
  },
  {
   "cell_type": "code",
   "metadata": {
    "cell_id": "00008-a7eede4a-46be-48a0-8919-cefb26afb307",
    "deepnote_to_be_reexecuted": false,
    "source_hash": "cd9a31f8",
    "execution_start": 1658063930478,
    "execution_millis": 23,
    "deepnote_cell_type": "code",
    "deepnote_cell_height": 600,
    "deepnote_output_heights": [
     411.1875
    ]
   },
   "source": "google_trends",
   "outputs": [
    {
     "output_type": "execute_result",
     "execution_count": 10,
     "data": {
      "application/vnd.deepnote.dataframe.v3+json": {
       "column_count": 1,
       "row_count": 262,
       "columns": [
        {
         "name": "dengue + lamok",
         "dtype": "int64",
         "stats": {
          "unique_count": 37,
          "nan_count": 0,
          "min": "3",
          "max": "100",
          "histogram": [
           {
            "bin_start": 3,
            "bin_end": 12.7,
            "count": 143
           },
           {
            "bin_start": 12.7,
            "bin_end": 22.4,
            "count": 93
           },
           {
            "bin_start": 22.4,
            "bin_end": 32.099999999999994,
            "count": 11
           },
           {
            "bin_start": 32.099999999999994,
            "bin_end": 41.8,
            "count": 4
           },
           {
            "bin_start": 41.8,
            "bin_end": 51.5,
            "count": 3
           },
           {
            "bin_start": 51.5,
            "bin_end": 61.199999999999996,
            "count": 0
           },
           {
            "bin_start": 61.199999999999996,
            "bin_end": 70.89999999999999,
            "count": 4
           },
           {
            "bin_start": 70.89999999999999,
            "bin_end": 80.6,
            "count": 1
           },
           {
            "bin_start": 80.6,
            "bin_end": 90.3,
            "count": 2
           },
           {
            "bin_start": 90.3,
            "bin_end": 100,
            "count": 1
           }
          ]
         }
        },
        {
         "name": "_deepnote_index_column",
         "dtype": "object"
        }
       ],
       "rows": [
        {
         "dengue + lamok": 16,
         "_deepnote_index_column": "2016-01-10"
        },
        {
         "dengue + lamok": 15,
         "_deepnote_index_column": "2016-01-17"
        },
        {
         "dengue + lamok": 12,
         "_deepnote_index_column": "2016-01-24"
        },
        {
         "dengue + lamok": 15,
         "_deepnote_index_column": "2016-01-31"
        },
        {
         "dengue + lamok": 17,
         "_deepnote_index_column": "2016-02-07"
        },
        {
         "dengue + lamok": 11,
         "_deepnote_index_column": "2016-02-14"
        },
        {
         "dengue + lamok": 12,
         "_deepnote_index_column": "2016-02-21"
        },
        {
         "dengue + lamok": 12,
         "_deepnote_index_column": "2016-02-28"
        },
        {
         "dengue + lamok": 11,
         "_deepnote_index_column": "2016-03-06"
        },
        {
         "dengue + lamok": 10,
         "_deepnote_index_column": "2016-03-13"
        }
       ]
      },
      "text/plain": "            dengue + lamok\ndate                      \n2016-01-10              16\n2016-01-17              15\n2016-01-24              12\n2016-01-31              15\n2016-02-07              17\n...                    ...\n2020-12-13               8\n2020-12-20               7\n2020-12-27               8\n2021-01-03              10\n2021-01-10              10\n\n[262 rows x 1 columns]",
      "text/html": "<div>\n<style scoped>\n    .dataframe tbody tr th:only-of-type {\n        vertical-align: middle;\n    }\n\n    .dataframe tbody tr th {\n        vertical-align: top;\n    }\n\n    .dataframe thead th {\n        text-align: right;\n    }\n</style>\n<table border=\"1\" class=\"dataframe\">\n  <thead>\n    <tr style=\"text-align: right;\">\n      <th></th>\n      <th>dengue + lamok</th>\n    </tr>\n    <tr>\n      <th>date</th>\n      <th></th>\n    </tr>\n  </thead>\n  <tbody>\n    <tr>\n      <th>2016-01-10</th>\n      <td>16</td>\n    </tr>\n    <tr>\n      <th>2016-01-17</th>\n      <td>15</td>\n    </tr>\n    <tr>\n      <th>2016-01-24</th>\n      <td>12</td>\n    </tr>\n    <tr>\n      <th>2016-01-31</th>\n      <td>15</td>\n    </tr>\n    <tr>\n      <th>2016-02-07</th>\n      <td>17</td>\n    </tr>\n    <tr>\n      <th>...</th>\n      <td>...</td>\n    </tr>\n    <tr>\n      <th>2020-12-13</th>\n      <td>8</td>\n    </tr>\n    <tr>\n      <th>2020-12-20</th>\n      <td>7</td>\n    </tr>\n    <tr>\n      <th>2020-12-27</th>\n      <td>8</td>\n    </tr>\n    <tr>\n      <th>2021-01-03</th>\n      <td>10</td>\n    </tr>\n    <tr>\n      <th>2021-01-10</th>\n      <td>10</td>\n    </tr>\n  </tbody>\n</table>\n<p>262 rows × 1 columns</p>\n</div>"
     },
     "metadata": {}
    }
   ],
   "execution_count": null
  },
  {
   "cell_type": "markdown",
   "source": "## Merge Dengue Cases and Google Trends data",
   "metadata": {
    "cell_id": "bad574edddd642f5aa2661435ecf8f71",
    "tags": [],
    "deepnote_cell_type": "markdown",
    "deepnote_cell_height": 70
   }
  },
  {
   "cell_type": "code",
   "metadata": {
    "cell_id": "00009-878a1bbf-517c-4c9b-b894-df5e4ac90bfe",
    "deepnote_to_be_reexecuted": false,
    "source_hash": "b04bf90",
    "execution_start": 1658064279622,
    "execution_millis": 12,
    "deepnote_cell_type": "code",
    "deepnote_cell_height": 81
   },
   "source": "merge_qc=pd.merge(dengue_cases,google_trends,left_index=True, right_index=True)",
   "outputs": [],
   "execution_count": null
  },
  {
   "cell_type": "code",
   "metadata": {
    "cell_id": "00010-1e734e55-8e37-4c22-bd04-9ee753c1b545",
    "deepnote_to_be_reexecuted": false,
    "source_hash": "d4c07116",
    "execution_start": 1658064279635,
    "execution_millis": 36,
    "deepnote_cell_type": "code",
    "deepnote_cell_height": 600,
    "deepnote_output_heights": [
     411.1875
    ]
   },
   "source": "merge_qc",
   "outputs": [
    {
     "output_type": "execute_result",
     "execution_count": 18,
     "data": {
      "application/vnd.deepnote.dataframe.v3+json": {
       "column_count": 2,
       "row_count": 259,
       "columns": [
        {
         "name": "cases",
         "dtype": "float64",
         "stats": {
          "unique_count": 171,
          "nan_count": 0,
          "min": "0.0",
          "max": "812.0",
          "histogram": [
           {
            "bin_start": 0,
            "bin_end": 81.2,
            "count": 126
           },
           {
            "bin_start": 81.2,
            "bin_end": 162.4,
            "count": 55
           },
           {
            "bin_start": 162.4,
            "bin_end": 243.60000000000002,
            "count": 34
           },
           {
            "bin_start": 243.60000000000002,
            "bin_end": 324.8,
            "count": 15
           },
           {
            "bin_start": 324.8,
            "bin_end": 406,
            "count": 14
           },
           {
            "bin_start": 406,
            "bin_end": 487.20000000000005,
            "count": 6
           },
           {
            "bin_start": 487.20000000000005,
            "bin_end": 568.4,
            "count": 3
           },
           {
            "bin_start": 568.4,
            "bin_end": 649.6,
            "count": 2
           },
           {
            "bin_start": 649.6,
            "bin_end": 730.8000000000001,
            "count": 3
           },
           {
            "bin_start": 730.8000000000001,
            "bin_end": 812,
            "count": 1
           }
          ]
         }
        },
        {
         "name": "dengue + lamok",
         "dtype": "int64",
         "stats": {
          "unique_count": 37,
          "nan_count": 0,
          "min": "3",
          "max": "100",
          "histogram": [
           {
            "bin_start": 3,
            "bin_end": 12.7,
            "count": 142
           },
           {
            "bin_start": 12.7,
            "bin_end": 22.4,
            "count": 92
           },
           {
            "bin_start": 22.4,
            "bin_end": 32.099999999999994,
            "count": 10
           },
           {
            "bin_start": 32.099999999999994,
            "bin_end": 41.8,
            "count": 4
           },
           {
            "bin_start": 41.8,
            "bin_end": 51.5,
            "count": 3
           },
           {
            "bin_start": 51.5,
            "bin_end": 61.199999999999996,
            "count": 0
           },
           {
            "bin_start": 61.199999999999996,
            "bin_end": 70.89999999999999,
            "count": 4
           },
           {
            "bin_start": 70.89999999999999,
            "bin_end": 80.6,
            "count": 1
           },
           {
            "bin_start": 80.6,
            "bin_end": 90.3,
            "count": 2
           },
           {
            "bin_start": 90.3,
            "bin_end": 100,
            "count": 1
           }
          ]
         }
        },
        {
         "name": "_deepnote_index_column",
         "dtype": "object"
        }
       ],
       "rows": [
        {
         "cases": 58,
         "dengue + lamok": 16,
         "_deepnote_index_column": "2016-01-10"
        },
        {
         "cases": 81,
         "dengue + lamok": 15,
         "_deepnote_index_column": "2016-01-17"
        },
        {
         "cases": 85,
         "dengue + lamok": 12,
         "_deepnote_index_column": "2016-01-24"
        },
        {
         "cases": 73,
         "dengue + lamok": 15,
         "_deepnote_index_column": "2016-01-31"
        },
        {
         "cases": 75,
         "dengue + lamok": 17,
         "_deepnote_index_column": "2016-02-07"
        },
        {
         "cases": 75,
         "dengue + lamok": 11,
         "_deepnote_index_column": "2016-02-14"
        },
        {
         "cases": 62,
         "dengue + lamok": 12,
         "_deepnote_index_column": "2016-02-21"
        },
        {
         "cases": 55,
         "dengue + lamok": 12,
         "_deepnote_index_column": "2016-02-28"
        },
        {
         "cases": 55,
         "dengue + lamok": 11,
         "_deepnote_index_column": "2016-03-06"
        },
        {
         "cases": 52,
         "dengue + lamok": 10,
         "_deepnote_index_column": "2016-03-13"
        }
       ]
      },
      "text/plain": "            cases  dengue + lamok\ndate                             \n2016-01-10   58.0              16\n2016-01-17   81.0              15\n2016-01-24   85.0              12\n2016-01-31   73.0              15\n2016-02-07   75.0              17\n...           ...             ...\n2020-12-13   39.0               8\n2020-12-20   20.0               7\n2020-12-27   28.0               8\n2021-01-03   20.0              10\n2021-01-10   14.0              10\n\n[259 rows x 2 columns]",
      "text/html": "<div>\n<style scoped>\n    .dataframe tbody tr th:only-of-type {\n        vertical-align: middle;\n    }\n\n    .dataframe tbody tr th {\n        vertical-align: top;\n    }\n\n    .dataframe thead th {\n        text-align: right;\n    }\n</style>\n<table border=\"1\" class=\"dataframe\">\n  <thead>\n    <tr style=\"text-align: right;\">\n      <th></th>\n      <th>cases</th>\n      <th>dengue + lamok</th>\n    </tr>\n    <tr>\n      <th>date</th>\n      <th></th>\n      <th></th>\n    </tr>\n  </thead>\n  <tbody>\n    <tr>\n      <th>2016-01-10</th>\n      <td>58.0</td>\n      <td>16</td>\n    </tr>\n    <tr>\n      <th>2016-01-17</th>\n      <td>81.0</td>\n      <td>15</td>\n    </tr>\n    <tr>\n      <th>2016-01-24</th>\n      <td>85.0</td>\n      <td>12</td>\n    </tr>\n    <tr>\n      <th>2016-01-31</th>\n      <td>73.0</td>\n      <td>15</td>\n    </tr>\n    <tr>\n      <th>2016-02-07</th>\n      <td>75.0</td>\n      <td>17</td>\n    </tr>\n    <tr>\n      <th>...</th>\n      <td>...</td>\n      <td>...</td>\n    </tr>\n    <tr>\n      <th>2020-12-13</th>\n      <td>39.0</td>\n      <td>8</td>\n    </tr>\n    <tr>\n      <th>2020-12-20</th>\n      <td>20.0</td>\n      <td>7</td>\n    </tr>\n    <tr>\n      <th>2020-12-27</th>\n      <td>28.0</td>\n      <td>8</td>\n    </tr>\n    <tr>\n      <th>2021-01-03</th>\n      <td>20.0</td>\n      <td>10</td>\n    </tr>\n    <tr>\n      <th>2021-01-10</th>\n      <td>14.0</td>\n      <td>10</td>\n    </tr>\n  </tbody>\n</table>\n<p>259 rows × 2 columns</p>\n</div>"
     },
     "metadata": {}
    }
   ],
   "execution_count": null
  },
  {
   "cell_type": "code",
   "metadata": {
    "cell_id": "00011-602c712e-5f3e-4818-a8fe-20bd8aa4e1ed",
    "deepnote_to_be_reexecuted": false,
    "source_hash": "bb058818",
    "execution_start": 1658064015580,
    "execution_millis": 88,
    "deepnote_cell_type": "code",
    "deepnote_cell_height": 642,
    "deepnote_output_heights": [
     527,
     527
    ]
   },
   "source": "fig=px.line(dengue_cases,x=dengue_cases.index,y='cases',title=\"Dengue Cases reported in Quezon City (2016-2021)\")\nfig.show()",
   "outputs": [
    {
     "data": {
      "text/html": "<html>\n<head><meta charset=\"utf-8\" /></head>\n<body>\n    <div>            <script src=\"https://cdnjs.cloudflare.com/ajax/libs/mathjax/2.7.5/MathJax.js?config=TeX-AMS-MML_SVG\"></script><script type=\"text/javascript\">if (window.MathJax && window.MathJax.Hub && && window.MathJax.Hub.Config) {window.MathJax.Hub.Config({SVG: {font: \"STIX-Web\"}});}</script>                <script type=\"text/javascript\">window.PlotlyConfig = {MathJaxConfig: 'local'};</script>\n        <script src=\"https://cdn.plot.ly/plotly-2.12.1.min.js\"></script>                <div id=\"33b3c925-00ba-4c8e-8fc0-a14a1d81e988\" class=\"plotly-graph-div\" style=\"height:525px; width:100%;\"></div>            <script type=\"text/javascript\">                                    window.PLOTLYENV=window.PLOTLYENV || {};                                    if (document.getElementById(\"33b3c925-00ba-4c8e-8fc0-a14a1d81e988\")) {                    Plotly.newPlot(                        \"33b3c925-00ba-4c8e-8fc0-a14a1d81e988\",                        [{\"hovertemplate\":\"date=%{x}<br>cases=%{y}<extra></extra>\",\"legendgroup\":\"\",\"line\":{\"color\":\"#636efa\",\"dash\":\"solid\"},\"marker\":{\"symbol\":\"circle\"},\"mode\":\"lines\",\"name\":\"\",\"orientation\":\"v\",\"showlegend\":false,\"x\":[\"2016-01-10\",\"2016-01-17\",\"2016-01-24\",\"2016-01-31\",\"2016-02-07\",\"2016-02-14\",\"2016-02-21\",\"2016-02-28\",\"2016-03-06\",\"2016-03-13\",\"2016-03-20\",\"2016-03-27\",\"2016-04-03\",\"2016-04-10\",\"2016-04-17\",\"2016-04-24\",\"2016-05-01\",\"2016-05-08\",\"2016-05-15\",\"2016-05-22\",\"2016-05-29\",\"2016-06-05\",\"2016-06-12\",\"2016-06-19\",\"2016-06-26\",\"2016-07-03\",\"2016-07-10\",\"2016-07-17\",\"2016-07-24\",\"2016-07-31\",\"2016-08-07\",\"2016-08-14\",\"2016-08-21\",\"2016-08-28\",\"2016-09-04\",\"2016-09-11\",\"2016-09-18\",\"2016-09-25\",\"2016-10-02\",\"2016-10-09\",\"2016-10-16\",\"2016-10-23\",\"2016-10-30\",\"2016-11-06\",\"2016-11-20\",\"2016-11-27\",\"2016-12-04\",\"2016-12-11\",\"2016-12-18\",\"2016-12-25\",\"2017-01-01\",\"2017-01-08\",\"2017-01-15\",\"2017-01-22\",\"2017-01-29\",\"2017-02-05\",\"2017-02-12\",\"2017-02-19\",\"2017-02-26\",\"2017-03-05\",\"2017-03-12\",\"2017-03-19\",\"2017-03-26\",\"2017-04-02\",\"2017-04-09\",\"2017-04-16\",\"2017-04-23\",\"2017-04-30\",\"2017-05-07\",\"2017-05-14\",\"2017-05-21\",\"2017-05-28\",\"2017-06-04\",\"2017-06-11\",\"2017-06-18\",\"2017-06-25\",\"2017-07-02\",\"2017-07-09\",\"2017-07-16\",\"2017-07-23\",\"2017-07-30\",\"2017-08-06\",\"2017-08-13\",\"2017-08-20\",\"2017-08-27\",\"2017-09-03\",\"2017-09-10\",\"2017-09-17\",\"2017-09-24\",\"2017-10-01\",\"2017-10-08\",\"2017-10-15\",\"2017-10-22\",\"2017-10-29\",\"2017-11-05\",\"2017-11-12\",\"2017-11-19\",\"2017-11-26\",\"2017-12-03\",\"2017-12-10\",\"2017-12-17\",\"2017-12-24\",\"2017-12-31\",\"2018-01-07\",\"2018-01-14\",\"2018-01-21\",\"2018-01-28\",\"2018-02-04\",\"2018-02-11\",\"2018-02-18\",\"2018-02-25\",\"2018-03-04\",\"2018-03-11\",\"2018-03-18\",\"2018-03-25\",\"2018-04-01\",\"2018-04-08\",\"2018-04-15\",\"2018-04-22\",\"2018-04-29\",\"2018-05-06\",\"2018-05-13\",\"2018-05-20\",\"2018-05-27\",\"2018-06-03\",\"2018-06-10\",\"2018-06-17\",\"2018-06-24\",\"2018-07-01\",\"2018-07-08\",\"2018-07-15\",\"2018-07-22\",\"2018-07-29\",\"2018-08-05\",\"2018-08-12\",\"2018-08-19\",\"2018-08-26\",\"2018-09-02\",\"2018-09-09\",\"2018-09-16\",\"2018-09-23\",\"2018-09-30\",\"2018-10-07\",\"2018-10-14\",\"2018-10-21\",\"2018-10-28\",\"2018-11-04\",\"2018-11-11\",\"2018-11-18\",\"2018-11-25\",\"2018-12-02\",\"2018-12-09\",\"2018-12-16\",\"2018-12-23\",\"2018-12-30\",\"2019-01-13\",\"2019-01-20\",\"2019-01-27\",\"2019-02-03\",\"2019-02-10\",\"2019-02-17\",\"2019-02-24\",\"2019-03-03\",\"2019-03-10\",\"2019-03-17\",\"2019-03-24\",\"2019-03-31\",\"2019-04-07\",\"2019-04-14\",\"2019-04-21\",\"2019-04-28\",\"2019-05-05\",\"2019-05-12\",\"2019-05-19\",\"2019-05-26\",\"2019-06-02\",\"2019-06-09\",\"2019-06-16\",\"2019-06-23\",\"2019-06-30\",\"2019-07-07\",\"2019-07-14\",\"2019-07-21\",\"2019-07-28\",\"2019-08-04\",\"2019-08-11\",\"2019-08-18\",\"2019-08-25\",\"2019-09-01\",\"2019-09-08\",\"2019-09-15\",\"2019-09-22\",\"2019-09-29\",\"2019-10-06\",\"2019-10-13\",\"2019-10-20\",\"2019-10-27\",\"2019-11-03\",\"2019-11-10\",\"2019-11-17\",\"2019-11-24\",\"2019-12-01\",\"2019-12-08\",\"2019-12-15\",\"2019-12-22\",\"2019-12-29\",\"2020-01-05\",\"2020-01-12\",\"2020-01-19\",\"2020-01-26\",\"2020-02-02\",\"2020-02-09\",\"2020-02-16\",\"2020-02-23\",\"2020-03-01\",\"2020-03-08\",\"2020-03-15\",\"2020-03-22\",\"2020-03-29\",\"2020-04-05\",\"2020-04-12\",\"2020-04-19\",\"2020-04-26\",\"2020-05-03\",\"2020-05-10\",\"2020-05-17\",\"2020-05-24\",\"2020-05-31\",\"2020-06-07\",\"2020-06-14\",\"2020-06-21\",\"2020-06-28\",\"2020-07-05\",\"2020-07-12\",\"2020-07-19\",\"2020-07-26\",\"2020-08-02\",\"2020-08-09\",\"2020-08-16\",\"2020-08-23\",\"2020-08-30\",\"2020-09-06\",\"2020-09-13\",\"2020-09-20\",\"2020-09-27\",\"2020-10-04\",\"2020-10-11\",\"2020-10-18\",\"2020-10-25\",\"2020-11-01\",\"2020-11-08\",\"2020-11-22\",\"2020-11-29\",\"2020-12-06\",\"2020-12-13\",\"2020-12-20\",\"2020-12-27\",\"2021-01-03\",\"2021-01-10\"],\"xaxis\":\"x\",\"y\":[58.0,81.0,85.0,73.0,75.0,75.0,62.0,55.0,55.0,52.0,41.0,35.0,46.0,27.0,15.0,14.0,20.0,20.0,26.0,24.0,25.0,18.0,28.0,40.0,59.0,74.0,89.0,79.0,124.0,166.0,216.0,205.0,163.0,199.0,0.0,168.0,2.0,177.0,0.0,165.0,0.0,106.0,1.0,131.0,145.0,108.0,107.0,69.0,60.0,71.0,79.0,73.0,143.0,93.0,122.0,99.0,113.0,95.0,92.0,91.0,94.0,0.0,96.0,97.0,66.0,46.0,54.0,36.0,48.0,43.0,64.0,72.0,1.0,107.0,157.0,125.0,163.0,164.0,233.0,431.0,369.0,398.0,621.0,664.0,516.0,395.0,435.0,349.0,308.0,297.0,252.0,259.0,224.0,301.0,176.0,253.0,191.0,165.0,146.0,83.0,80.0,76.0,54.0,118.0,145.0,175.0,158.0,139.0,155.0,124.0,125.0,106.0,59.0,101.0,62.0,59.0,60.0,67.0,68.0,43.0,71.0,49.0,49.0,68.0,78.0,80.0,100.0,121.0,198.0,207.0,206.0,327.0,279.0,348.0,354.0,337.0,332.0,383.0,325.0,232.0,265.0,307.0,348.0,297.0,268.0,162.0,189.0,221.0,253.0,142.0,143.0,104.0,176.0,126.0,113.0,147.0,239.0,216.0,184.0,215.0,146.0,117.0,119.0,76.0,76.0,61.0,59.0,57.0,37.0,41.0,25.0,27.0,28.0,26.0,22.0,36.0,34.0,57.0,43.0,59.0,110.0,124.0,186.0,247.0,410.0,454.0,455.0,648.0,676.0,812.0,703.0,546.0,528.0,457.0,379.0,385.0,292.0,263.0,242.0,221.0,209.0,171.0,158.0,134.0,104.0,66.0,16.0,132.0,211.0,157.0,169.0,144.0,101.0,64.0,83.0,70.0,52.0,41.0,23.0,6.0,6.0,1.0,3.0,3.0,1.0,3.0,1.0,2.0,1.0,3.0,6.0,5.0,5.0,6.0,9.0,8.0,8.0,9.0,16.0,8.0,10.0,0.0,15.0,0.0,13.0,0.0,12.0,0.0,10.0,0.0,20.0,33.0,35.0,46.0,39.0,20.0,28.0,20.0,14.0],\"yaxis\":\"y\",\"type\":\"scatter\"}],                        {\"template\":{\"data\":{\"histogram2dcontour\":[{\"type\":\"histogram2dcontour\",\"colorbar\":{\"outlinewidth\":0,\"ticks\":\"\"},\"colorscale\":[[0.0,\"#0d0887\"],[0.1111111111111111,\"#46039f\"],[0.2222222222222222,\"#7201a8\"],[0.3333333333333333,\"#9c179e\"],[0.4444444444444444,\"#bd3786\"],[0.5555555555555556,\"#d8576b\"],[0.6666666666666666,\"#ed7953\"],[0.7777777777777778,\"#fb9f3a\"],[0.8888888888888888,\"#fdca26\"],[1.0,\"#f0f921\"]]}],\"choropleth\":[{\"type\":\"choropleth\",\"colorbar\":{\"outlinewidth\":0,\"ticks\":\"\"}}],\"histogram2d\":[{\"type\":\"histogram2d\",\"colorbar\":{\"outlinewidth\":0,\"ticks\":\"\"},\"colorscale\":[[0.0,\"#0d0887\"],[0.1111111111111111,\"#46039f\"],[0.2222222222222222,\"#7201a8\"],[0.3333333333333333,\"#9c179e\"],[0.4444444444444444,\"#bd3786\"],[0.5555555555555556,\"#d8576b\"],[0.6666666666666666,\"#ed7953\"],[0.7777777777777778,\"#fb9f3a\"],[0.8888888888888888,\"#fdca26\"],[1.0,\"#f0f921\"]]}],\"heatmap\":[{\"type\":\"heatmap\",\"colorbar\":{\"outlinewidth\":0,\"ticks\":\"\"},\"colorscale\":[[0.0,\"#0d0887\"],[0.1111111111111111,\"#46039f\"],[0.2222222222222222,\"#7201a8\"],[0.3333333333333333,\"#9c179e\"],[0.4444444444444444,\"#bd3786\"],[0.5555555555555556,\"#d8576b\"],[0.6666666666666666,\"#ed7953\"],[0.7777777777777778,\"#fb9f3a\"],[0.8888888888888888,\"#fdca26\"],[1.0,\"#f0f921\"]]}],\"heatmapgl\":[{\"type\":\"heatmapgl\",\"colorbar\":{\"outlinewidth\":0,\"ticks\":\"\"},\"colorscale\":[[0.0,\"#0d0887\"],[0.1111111111111111,\"#46039f\"],[0.2222222222222222,\"#7201a8\"],[0.3333333333333333,\"#9c179e\"],[0.4444444444444444,\"#bd3786\"],[0.5555555555555556,\"#d8576b\"],[0.6666666666666666,\"#ed7953\"],[0.7777777777777778,\"#fb9f3a\"],[0.8888888888888888,\"#fdca26\"],[1.0,\"#f0f921\"]]}],\"contourcarpet\":[{\"type\":\"contourcarpet\",\"colorbar\":{\"outlinewidth\":0,\"ticks\":\"\"}}],\"contour\":[{\"type\":\"contour\",\"colorbar\":{\"outlinewidth\":0,\"ticks\":\"\"},\"colorscale\":[[0.0,\"#0d0887\"],[0.1111111111111111,\"#46039f\"],[0.2222222222222222,\"#7201a8\"],[0.3333333333333333,\"#9c179e\"],[0.4444444444444444,\"#bd3786\"],[0.5555555555555556,\"#d8576b\"],[0.6666666666666666,\"#ed7953\"],[0.7777777777777778,\"#fb9f3a\"],[0.8888888888888888,\"#fdca26\"],[1.0,\"#f0f921\"]]}],\"surface\":[{\"type\":\"surface\",\"colorbar\":{\"outlinewidth\":0,\"ticks\":\"\"},\"colorscale\":[[0.0,\"#0d0887\"],[0.1111111111111111,\"#46039f\"],[0.2222222222222222,\"#7201a8\"],[0.3333333333333333,\"#9c179e\"],[0.4444444444444444,\"#bd3786\"],[0.5555555555555556,\"#d8576b\"],[0.6666666666666666,\"#ed7953\"],[0.7777777777777778,\"#fb9f3a\"],[0.8888888888888888,\"#fdca26\"],[1.0,\"#f0f921\"]]}],\"mesh3d\":[{\"type\":\"mesh3d\",\"colorbar\":{\"outlinewidth\":0,\"ticks\":\"\"}}],\"scatter\":[{\"fillpattern\":{\"fillmode\":\"overlay\",\"size\":10,\"solidity\":0.2},\"type\":\"scatter\"}],\"parcoords\":[{\"type\":\"parcoords\",\"line\":{\"colorbar\":{\"outlinewidth\":0,\"ticks\":\"\"}}}],\"scatterpolargl\":[{\"type\":\"scatterpolargl\",\"marker\":{\"colorbar\":{\"outlinewidth\":0,\"ticks\":\"\"}}}],\"bar\":[{\"error_x\":{\"color\":\"#2a3f5f\"},\"error_y\":{\"color\":\"#2a3f5f\"},\"marker\":{\"line\":{\"color\":\"#E5ECF6\",\"width\":0.5},\"pattern\":{\"fillmode\":\"overlay\",\"size\":10,\"solidity\":0.2}},\"type\":\"bar\"}],\"scattergeo\":[{\"type\":\"scattergeo\",\"marker\":{\"colorbar\":{\"outlinewidth\":0,\"ticks\":\"\"}}}],\"scatterpolar\":[{\"type\":\"scatterpolar\",\"marker\":{\"colorbar\":{\"outlinewidth\":0,\"ticks\":\"\"}}}],\"histogram\":[{\"marker\":{\"pattern\":{\"fillmode\":\"overlay\",\"size\":10,\"solidity\":0.2}},\"type\":\"histogram\"}],\"scattergl\":[{\"type\":\"scattergl\",\"marker\":{\"colorbar\":{\"outlinewidth\":0,\"ticks\":\"\"}}}],\"scatter3d\":[{\"type\":\"scatter3d\",\"line\":{\"colorbar\":{\"outlinewidth\":0,\"ticks\":\"\"}},\"marker\":{\"colorbar\":{\"outlinewidth\":0,\"ticks\":\"\"}}}],\"scattermapbox\":[{\"type\":\"scattermapbox\",\"marker\":{\"colorbar\":{\"outlinewidth\":0,\"ticks\":\"\"}}}],\"scatterternary\":[{\"type\":\"scatterternary\",\"marker\":{\"colorbar\":{\"outlinewidth\":0,\"ticks\":\"\"}}}],\"scattercarpet\":[{\"type\":\"scattercarpet\",\"marker\":{\"colorbar\":{\"outlinewidth\":0,\"ticks\":\"\"}}}],\"carpet\":[{\"aaxis\":{\"endlinecolor\":\"#2a3f5f\",\"gridcolor\":\"white\",\"linecolor\":\"white\",\"minorgridcolor\":\"white\",\"startlinecolor\":\"#2a3f5f\"},\"baxis\":{\"endlinecolor\":\"#2a3f5f\",\"gridcolor\":\"white\",\"linecolor\":\"white\",\"minorgridcolor\":\"white\",\"startlinecolor\":\"#2a3f5f\"},\"type\":\"carpet\"}],\"table\":[{\"cells\":{\"fill\":{\"color\":\"#EBF0F8\"},\"line\":{\"color\":\"white\"}},\"header\":{\"fill\":{\"color\":\"#C8D4E3\"},\"line\":{\"color\":\"white\"}},\"type\":\"table\"}],\"barpolar\":[{\"marker\":{\"line\":{\"color\":\"#E5ECF6\",\"width\":0.5},\"pattern\":{\"fillmode\":\"overlay\",\"size\":10,\"solidity\":0.2}},\"type\":\"barpolar\"}],\"pie\":[{\"automargin\":true,\"type\":\"pie\"}]},\"layout\":{\"autotypenumbers\":\"strict\",\"colorway\":[\"#636efa\",\"#EF553B\",\"#00cc96\",\"#ab63fa\",\"#FFA15A\",\"#19d3f3\",\"#FF6692\",\"#B6E880\",\"#FF97FF\",\"#FECB52\"],\"font\":{\"color\":\"#2a3f5f\"},\"hovermode\":\"closest\",\"hoverlabel\":{\"align\":\"left\"},\"paper_bgcolor\":\"white\",\"plot_bgcolor\":\"#E5ECF6\",\"polar\":{\"bgcolor\":\"#E5ECF6\",\"angularaxis\":{\"gridcolor\":\"white\",\"linecolor\":\"white\",\"ticks\":\"\"},\"radialaxis\":{\"gridcolor\":\"white\",\"linecolor\":\"white\",\"ticks\":\"\"}},\"ternary\":{\"bgcolor\":\"#E5ECF6\",\"aaxis\":{\"gridcolor\":\"white\",\"linecolor\":\"white\",\"ticks\":\"\"},\"baxis\":{\"gridcolor\":\"white\",\"linecolor\":\"white\",\"ticks\":\"\"},\"caxis\":{\"gridcolor\":\"white\",\"linecolor\":\"white\",\"ticks\":\"\"}},\"coloraxis\":{\"colorbar\":{\"outlinewidth\":0,\"ticks\":\"\"}},\"colorscale\":{\"sequential\":[[0.0,\"#0d0887\"],[0.1111111111111111,\"#46039f\"],[0.2222222222222222,\"#7201a8\"],[0.3333333333333333,\"#9c179e\"],[0.4444444444444444,\"#bd3786\"],[0.5555555555555556,\"#d8576b\"],[0.6666666666666666,\"#ed7953\"],[0.7777777777777778,\"#fb9f3a\"],[0.8888888888888888,\"#fdca26\"],[1.0,\"#f0f921\"]],\"sequentialminus\":[[0.0,\"#0d0887\"],[0.1111111111111111,\"#46039f\"],[0.2222222222222222,\"#7201a8\"],[0.3333333333333333,\"#9c179e\"],[0.4444444444444444,\"#bd3786\"],[0.5555555555555556,\"#d8576b\"],[0.6666666666666666,\"#ed7953\"],[0.7777777777777778,\"#fb9f3a\"],[0.8888888888888888,\"#fdca26\"],[1.0,\"#f0f921\"]],\"diverging\":[[0,\"#8e0152\"],[0.1,\"#c51b7d\"],[0.2,\"#de77ae\"],[0.3,\"#f1b6da\"],[0.4,\"#fde0ef\"],[0.5,\"#f7f7f7\"],[0.6,\"#e6f5d0\"],[0.7,\"#b8e186\"],[0.8,\"#7fbc41\"],[0.9,\"#4d9221\"],[1,\"#276419\"]]},\"xaxis\":{\"gridcolor\":\"white\",\"linecolor\":\"white\",\"ticks\":\"\",\"title\":{\"standoff\":15},\"zerolinecolor\":\"white\",\"automargin\":true,\"zerolinewidth\":2},\"yaxis\":{\"gridcolor\":\"white\",\"linecolor\":\"white\",\"ticks\":\"\",\"title\":{\"standoff\":15},\"zerolinecolor\":\"white\",\"automargin\":true,\"zerolinewidth\":2},\"scene\":{\"xaxis\":{\"backgroundcolor\":\"#E5ECF6\",\"gridcolor\":\"white\",\"linecolor\":\"white\",\"showbackground\":true,\"ticks\":\"\",\"zerolinecolor\":\"white\",\"gridwidth\":2},\"yaxis\":{\"backgroundcolor\":\"#E5ECF6\",\"gridcolor\":\"white\",\"linecolor\":\"white\",\"showbackground\":true,\"ticks\":\"\",\"zerolinecolor\":\"white\",\"gridwidth\":2},\"zaxis\":{\"backgroundcolor\":\"#E5ECF6\",\"gridcolor\":\"white\",\"linecolor\":\"white\",\"showbackground\":true,\"ticks\":\"\",\"zerolinecolor\":\"white\",\"gridwidth\":2}},\"shapedefaults\":{\"line\":{\"color\":\"#2a3f5f\"}},\"annotationdefaults\":{\"arrowcolor\":\"#2a3f5f\",\"arrowhead\":0,\"arrowwidth\":1},\"geo\":{\"bgcolor\":\"white\",\"landcolor\":\"#E5ECF6\",\"subunitcolor\":\"white\",\"showland\":true,\"showlakes\":true,\"lakecolor\":\"white\"},\"title\":{\"x\":0.05},\"mapbox\":{\"style\":\"light\"}}},\"xaxis\":{\"anchor\":\"y\",\"domain\":[0.0,1.0],\"title\":{\"text\":\"date\"}},\"yaxis\":{\"anchor\":\"x\",\"domain\":[0.0,1.0],\"title\":{\"text\":\"cases\"}},\"legend\":{\"tracegroupgap\":0},\"title\":{\"text\":\"Dengue Cases reported in Quezon City (2016-2021)\"}},                        {\"responsive\": true}                    ).then(function(){\n                            \nvar gd = document.getElementById('33b3c925-00ba-4c8e-8fc0-a14a1d81e988');\nvar x = new MutationObserver(function (mutations, observer) {{\n        var display = window.getComputedStyle(gd).display;\n        if (!display || display === 'none') {{\n            console.log([gd, 'removed!']);\n            Plotly.purge(gd);\n            observer.disconnect();\n        }}\n}});\n\n// Listen for the removal of the full notebook cells\nvar notebookContainer = gd.closest('#notebook-container');\nif (notebookContainer) {{\n    x.observe(notebookContainer, {childList: true});\n}}\n\n// Listen for the clearing of the current output cell\nvar outputEl = gd.closest('.output');\nif (outputEl) {{\n    x.observe(outputEl, {childList: true});\n}}\n\n                        })                };                            </script>        </div>\n</body>\n</html>"
     },
     "metadata": {},
     "output_type": "display_data"
    }
   ],
   "execution_count": null
  },
  {
   "cell_type": "markdown",
   "source": "### Check if data is stationary\n\nThe null hypothesis of the ADF test is that the time series is non-stationary. So, if the p-value of the test is less than the **significance level (0.05) then you reject the null hypothesis and infer that the time series is indeed stationary**.\n\n\nTime series are stationary if they **do not have trend or seasonal effects**. Summary statistics calculated on the time series are consistent over time, like the mean or the variance of the observations.",
   "metadata": {
    "cell_id": "cc67dc8f8037474d802a5bc32380be2e",
    "tags": [],
    "deepnote_cell_type": "markdown",
    "deepnote_cell_height": 181.5625
   }
  },
  {
   "cell_type": "code",
   "source": "!pip install statsmodels==0.13.2",
   "metadata": {
    "cell_id": "12ebb39cfc8d47b5a0da2197e9141a9b",
    "tags": [],
    "deepnote_to_be_reexecuted": false,
    "source_hash": "d5a2ae9d",
    "execution_start": 1658064095253,
    "execution_millis": 10350,
    "deepnote_cell_type": "code",
    "deepnote_cell_height": 504.375
   },
   "outputs": [
    {
     "name": "stdout",
     "text": "Collecting statsmodels==0.13.2\n  Downloading statsmodels-0.13.2-cp39-cp39-manylinux_2_17_x86_64.manylinux2014_x86_64.whl (9.9 MB)\n\u001b[2K     \u001b[90m━━━━━━━━━━━━━━━━━━━━━━━━━━━━━━━━━━━━━━━━\u001b[0m \u001b[32m9.9/9.9 MB\u001b[0m \u001b[31m48.7 MB/s\u001b[0m eta \u001b[36m0:00:00\u001b[0m\n\u001b[?25hRequirement already satisfied: pandas>=0.25 in /shared-libs/python3.9/py/lib/python3.9/site-packages (from statsmodels==0.13.2) (1.2.5)\nRequirement already satisfied: scipy>=1.3 in /shared-libs/python3.9/py/lib/python3.9/site-packages (from statsmodels==0.13.2) (1.8.1)\nCollecting patsy>=0.5.2\n  Downloading patsy-0.5.2-py2.py3-none-any.whl (233 kB)\n\u001b[2K     \u001b[90m━━━━━━━━━━━━━━━━━━━━━━━━━━━━━━━━━━━━━━\u001b[0m \u001b[32m233.7/233.7 KB\u001b[0m \u001b[31m39.5 MB/s\u001b[0m eta \u001b[36m0:00:00\u001b[0m\n\u001b[?25hRequirement already satisfied: numpy>=1.17 in /shared-libs/python3.9/py/lib/python3.9/site-packages (from statsmodels==0.13.2) (1.22.4)\nRequirement already satisfied: packaging>=21.3 in /shared-libs/python3.9/py/lib/python3.9/site-packages (from statsmodels==0.13.2) (21.3)\nRequirement already satisfied: pyparsing!=3.0.5,>=2.0.2 in /shared-libs/python3.9/py/lib/python3.9/site-packages (from packaging>=21.3->statsmodels==0.13.2) (3.0.9)\nRequirement already satisfied: pytz>=2017.3 in /shared-libs/python3.9/py/lib/python3.9/site-packages (from pandas>=0.25->statsmodels==0.13.2) (2022.1)\nRequirement already satisfied: python-dateutil>=2.7.3 in /shared-libs/python3.9/py-core/lib/python3.9/site-packages (from pandas>=0.25->statsmodels==0.13.2) (2.8.2)\nRequirement already satisfied: six in /shared-libs/python3.9/py-core/lib/python3.9/site-packages (from patsy>=0.5.2->statsmodels==0.13.2) (1.16.0)\nInstalling collected packages: patsy, statsmodels\nSuccessfully installed patsy-0.5.2 statsmodels-0.13.2\n\u001b[33mWARNING: You are using pip version 22.0.4; however, version 22.1.2 is available.\nYou should consider upgrading via the '/root/venv/bin/python -m pip install --upgrade pip' command.\u001b[0m\u001b[33m\n\u001b[0m",
     "output_type": "stream"
    }
   ],
   "execution_count": null
  },
  {
   "cell_type": "code",
   "metadata": {
    "cell_id": "00012-0955385a-0d0c-4dfe-8c37-4082905ccb5f",
    "deepnote_to_be_reexecuted": false,
    "source_hash": "751691d2",
    "execution_start": 1658064105614,
    "execution_millis": 978,
    "deepnote_cell_type": "code",
    "deepnote_cell_height": 505.5
   },
   "source": "from statsmodels.tsa.stattools import adfuller\n\ndef adf_test(dataset):\n    dftest = adfuller(dataset, autolag = 'AIC')\n    print(\"1. ADF : \",dftest[0])\n    print(\"2. P-Value : \", dftest[1])\n    print(\"3. Num Of Lags : \", dftest[2])\n    print(\"4. Num Of Observations Used For ADF Regression:\",dftest[3])\n    print(\"5. Critical Values :\")\n    for key, val in dftest[4].items():\n        print(\"\\t\",key, \": \", val)\n        \n        \n        \nadf_test(dengue_cases['cases'])",
   "outputs": [
    {
     "name": "stdout",
     "text": "1. ADF :  -3.846997454400208\n2. P-Value :  0.002461458093812467\n3. Num Of Lags :  4\n4. Num Of Observations Used For ADF Regression: 254\n5. Critical Values :\n\t 1% :  -3.456360306409983\n\t 5% :  -2.8729872043802356\n\t 10% :  -2.572870232500465\n",
     "output_type": "stream"
    }
   ],
   "execution_count": null
  },
  {
   "cell_type": "markdown",
   "source": "## Train, Test, Split\n\n75% of the data was used for **training**: from Jan 2016 to Oct 2019 (195 weeks)\n\n25% of the data was used for **testing**: from Oct 2019 to Jan 2021 (64 weeks)",
   "metadata": {
    "cell_id": "b955c07337b04ac08a09c8717cf85a54",
    "tags": [],
    "deepnote_cell_type": "markdown",
    "deepnote_cell_height": 144.78125
   }
  },
  {
   "cell_type": "code",
   "metadata": {
    "cell_id": "00013-811e7e9e-681d-4352-8539-c4b7bfcee24f",
    "deepnote_to_be_reexecuted": false,
    "source_hash": "f4dc67a1",
    "execution_start": 1658064286305,
    "execution_millis": 15334,
    "deepnote_cell_type": "code",
    "deepnote_cell_height": 117
   },
   "source": "import math\ntrain=merge_qc[:math.ceil(merge_qc.shape[0]*0.75)]\ntest=merge_qc[math.ceil(merge_qc.shape[0]*0.75):]",
   "outputs": [],
   "execution_count": null
  },
  {
   "cell_type": "code",
   "source": "train",
   "metadata": {
    "cell_id": "9f201b671872423d8709bbde7882c437",
    "tags": [],
    "deepnote_to_be_reexecuted": false,
    "source_hash": "7f737f25",
    "execution_start": 1658064294378,
    "execution_millis": 14,
    "deepnote_table_state": {
     "pageSize": 10,
     "pageIndex": 19,
     "filters": [],
     "sortBy": []
    },
    "deepnote_table_loading": false,
    "deepnote_cell_type": "code",
    "deepnote_cell_height": 395
   },
   "outputs": [
    {
     "output_type": "execute_result",
     "execution_count": 22,
     "data": {
      "application/vnd.deepnote.dataframe.v3+json": {
       "column_count": 2,
       "row_count": 195,
       "columns": [
        {
         "name": "cases",
         "dtype": "float64",
         "stats": {
          "unique_count": 147,
          "nan_count": 0,
          "min": "0.0",
          "max": "812.0",
          "histogram": [
           {
            "bin_start": 0,
            "bin_end": 81.2,
            "count": 79
           },
           {
            "bin_start": 81.2,
            "bin_end": 162.4,
            "count": 47
           },
           {
            "bin_start": 162.4,
            "bin_end": 243.60000000000002,
            "count": 28
           },
           {
            "bin_start": 243.60000000000002,
            "bin_end": 324.8,
            "count": 13
           },
           {
            "bin_start": 324.8,
            "bin_end": 406,
            "count": 13
           },
           {
            "bin_start": 406,
            "bin_end": 487.20000000000005,
            "count": 6
           },
           {
            "bin_start": 487.20000000000005,
            "bin_end": 568.4,
            "count": 3
           },
           {
            "bin_start": 568.4,
            "bin_end": 649.6,
            "count": 2
           },
           {
            "bin_start": 649.6,
            "bin_end": 730.8000000000001,
            "count": 3
           },
           {
            "bin_start": 730.8000000000001,
            "bin_end": 812,
            "count": 1
           }
          ]
         }
        },
        {
         "name": "dengue + lamok",
         "dtype": "int64",
         "stats": {
          "unique_count": 37,
          "nan_count": 0,
          "min": "3",
          "max": "100",
          "histogram": [
           {
            "bin_start": 3,
            "bin_end": 12.7,
            "count": 93
           },
           {
            "bin_start": 12.7,
            "bin_end": 22.4,
            "count": 80
           },
           {
            "bin_start": 22.4,
            "bin_end": 32.099999999999994,
            "count": 7
           },
           {
            "bin_start": 32.099999999999994,
            "bin_end": 41.8,
            "count": 4
           },
           {
            "bin_start": 41.8,
            "bin_end": 51.5,
            "count": 3
           },
           {
            "bin_start": 51.5,
            "bin_end": 61.199999999999996,
            "count": 0
           },
           {
            "bin_start": 61.199999999999996,
            "bin_end": 70.89999999999999,
            "count": 4
           },
           {
            "bin_start": 70.89999999999999,
            "bin_end": 80.6,
            "count": 1
           },
           {
            "bin_start": 80.6,
            "bin_end": 90.3,
            "count": 2
           },
           {
            "bin_start": 90.3,
            "bin_end": 100,
            "count": 1
           }
          ]
         }
        },
        {
         "name": "_deepnote_index_column",
         "dtype": "object"
        }
       ],
       "rows": [
        {
         "cases": 703,
         "dengue + lamok": 64,
         "_deepnote_index_column": "2019-09-15"
        },
        {
         "cases": 546,
         "dengue + lamok": 62,
         "_deepnote_index_column": "2019-09-22"
        },
        {
         "cases": 528,
         "dengue + lamok": 50,
         "_deepnote_index_column": "2019-09-29"
        },
        {
         "cases": 457,
         "dengue + lamok": 45,
         "_deepnote_index_column": "2019-10-06"
        },
        {
         "cases": 379,
         "dengue + lamok": 35,
         "_deepnote_index_column": "2019-10-13"
        }
       ]
      },
      "text/plain": "            cases  dengue + lamok\ndate                             \n2016-01-10   58.0              16\n2016-01-17   81.0              15\n2016-01-24   85.0              12\n2016-01-31   73.0              15\n2016-02-07   75.0              17\n...           ...             ...\n2019-09-15  703.0              64\n2019-09-22  546.0              62\n2019-09-29  528.0              50\n2019-10-06  457.0              45\n2019-10-13  379.0              35\n\n[195 rows x 2 columns]",
      "text/html": "<div>\n<style scoped>\n    .dataframe tbody tr th:only-of-type {\n        vertical-align: middle;\n    }\n\n    .dataframe tbody tr th {\n        vertical-align: top;\n    }\n\n    .dataframe thead th {\n        text-align: right;\n    }\n</style>\n<table border=\"1\" class=\"dataframe\">\n  <thead>\n    <tr style=\"text-align: right;\">\n      <th></th>\n      <th>cases</th>\n      <th>dengue + lamok</th>\n    </tr>\n    <tr>\n      <th>date</th>\n      <th></th>\n      <th></th>\n    </tr>\n  </thead>\n  <tbody>\n    <tr>\n      <th>2016-01-10</th>\n      <td>58.0</td>\n      <td>16</td>\n    </tr>\n    <tr>\n      <th>2016-01-17</th>\n      <td>81.0</td>\n      <td>15</td>\n    </tr>\n    <tr>\n      <th>2016-01-24</th>\n      <td>85.0</td>\n      <td>12</td>\n    </tr>\n    <tr>\n      <th>2016-01-31</th>\n      <td>73.0</td>\n      <td>15</td>\n    </tr>\n    <tr>\n      <th>2016-02-07</th>\n      <td>75.0</td>\n      <td>17</td>\n    </tr>\n    <tr>\n      <th>...</th>\n      <td>...</td>\n      <td>...</td>\n    </tr>\n    <tr>\n      <th>2019-09-15</th>\n      <td>703.0</td>\n      <td>64</td>\n    </tr>\n    <tr>\n      <th>2019-09-22</th>\n      <td>546.0</td>\n      <td>62</td>\n    </tr>\n    <tr>\n      <th>2019-09-29</th>\n      <td>528.0</td>\n      <td>50</td>\n    </tr>\n    <tr>\n      <th>2019-10-06</th>\n      <td>457.0</td>\n      <td>45</td>\n    </tr>\n    <tr>\n      <th>2019-10-13</th>\n      <td>379.0</td>\n      <td>35</td>\n    </tr>\n  </tbody>\n</table>\n<p>195 rows × 2 columns</p>\n</div>"
     },
     "metadata": {}
    }
   ],
   "execution_count": null
  },
  {
   "cell_type": "code",
   "metadata": {
    "cell_id": "00014-8ebf7b43-ccd2-424d-9c33-c5321598a802",
    "deepnote_to_be_reexecuted": false,
    "source_hash": "951a9862",
    "execution_start": 1658064298710,
    "execution_millis": 24,
    "deepnote_table_state": {
     "pageSize": 10,
     "pageIndex": 6,
     "filters": [],
     "sortBy": []
    },
    "deepnote_table_loading": false,
    "deepnote_cell_type": "code",
    "deepnote_cell_height": 354,
    "deepnote_output_heights": [
     411.1875
    ]
   },
   "source": "test",
   "outputs": [
    {
     "output_type": "execute_result",
     "execution_count": 22,
     "data": {
      "application/vnd.deepnote.dataframe.v3+json": {
       "column_count": 2,
       "row_count": 64,
       "columns": [
        {
         "name": "cases",
         "dtype": "float64",
         "stats": {
          "unique_count": 43,
          "nan_count": 0,
          "min": "0.0",
          "max": "385.0",
          "histogram": [
           {
            "bin_start": 0,
            "bin_end": 38.5,
            "count": 40
           },
           {
            "bin_start": 38.5,
            "bin_end": 77,
            "count": 7
           },
           {
            "bin_start": 77,
            "bin_end": 115.5,
            "count": 3
           },
           {
            "bin_start": 115.5,
            "bin_end": 154,
            "count": 3
           },
           {
            "bin_start": 154,
            "bin_end": 192.5,
            "count": 4
           },
           {
            "bin_start": 192.5,
            "bin_end": 231,
            "count": 3
           },
           {
            "bin_start": 231,
            "bin_end": 269.5,
            "count": 2
           },
           {
            "bin_start": 269.5,
            "bin_end": 308,
            "count": 1
           },
           {
            "bin_start": 308,
            "bin_end": 346.5,
            "count": 0
           },
           {
            "bin_start": 346.5,
            "bin_end": 385,
            "count": 1
           }
          ]
         }
        },
        {
         "name": "dengue + lamok",
         "dtype": "int64",
         "stats": {
          "unique_count": 17,
          "nan_count": 0,
          "min": "4",
          "max": "26",
          "histogram": [
           {
            "bin_start": 4,
            "bin_end": 6.2,
            "count": 17
           },
           {
            "bin_start": 6.2,
            "bin_end": 8.4,
            "count": 18
           },
           {
            "bin_start": 8.4,
            "bin_end": 10.600000000000001,
            "count": 10
           },
           {
            "bin_start": 10.600000000000001,
            "bin_end": 12.8,
            "count": 4
           },
           {
            "bin_start": 12.8,
            "bin_end": 15,
            "count": 2
           },
           {
            "bin_start": 15,
            "bin_end": 17.200000000000003,
            "count": 5
           },
           {
            "bin_start": 17.200000000000003,
            "bin_end": 19.400000000000002,
            "count": 3
           },
           {
            "bin_start": 19.400000000000002,
            "bin_end": 21.6,
            "count": 2
           },
           {
            "bin_start": 21.6,
            "bin_end": 23.8,
            "count": 0
           },
           {
            "bin_start": 23.8,
            "bin_end": 26,
            "count": 3
           }
          ]
         }
        },
        {
         "name": "_deepnote_index_column",
         "dtype": "object"
        }
       ],
       "rows": [
        {
         "cases": 20,
         "dengue + lamok": 7,
         "_deepnote_index_column": "2020-12-20"
        },
        {
         "cases": 28,
         "dengue + lamok": 8,
         "_deepnote_index_column": "2020-12-27"
        },
        {
         "cases": 20,
         "dengue + lamok": 10,
         "_deepnote_index_column": "2021-01-03"
        },
        {
         "cases": 14,
         "dengue + lamok": 10,
         "_deepnote_index_column": "2021-01-10"
        }
       ]
      },
      "text/plain": "            cases  dengue + lamok\ndate                             \n2019-10-20  385.0              26\n2019-10-27  292.0              26\n2019-11-03  263.0              21\n2019-11-10  242.0              24\n2019-11-17  221.0              20\n...           ...             ...\n2020-12-13   39.0               8\n2020-12-20   20.0               7\n2020-12-27   28.0               8\n2021-01-03   20.0              10\n2021-01-10   14.0              10\n\n[64 rows x 2 columns]",
      "text/html": "<div>\n<style scoped>\n    .dataframe tbody tr th:only-of-type {\n        vertical-align: middle;\n    }\n\n    .dataframe tbody tr th {\n        vertical-align: top;\n    }\n\n    .dataframe thead th {\n        text-align: right;\n    }\n</style>\n<table border=\"1\" class=\"dataframe\">\n  <thead>\n    <tr style=\"text-align: right;\">\n      <th></th>\n      <th>cases</th>\n      <th>dengue + lamok</th>\n    </tr>\n    <tr>\n      <th>date</th>\n      <th></th>\n      <th></th>\n    </tr>\n  </thead>\n  <tbody>\n    <tr>\n      <th>2019-10-20</th>\n      <td>385.0</td>\n      <td>26</td>\n    </tr>\n    <tr>\n      <th>2019-10-27</th>\n      <td>292.0</td>\n      <td>26</td>\n    </tr>\n    <tr>\n      <th>2019-11-03</th>\n      <td>263.0</td>\n      <td>21</td>\n    </tr>\n    <tr>\n      <th>2019-11-10</th>\n      <td>242.0</td>\n      <td>24</td>\n    </tr>\n    <tr>\n      <th>2019-11-17</th>\n      <td>221.0</td>\n      <td>20</td>\n    </tr>\n    <tr>\n      <th>...</th>\n      <td>...</td>\n      <td>...</td>\n    </tr>\n    <tr>\n      <th>2020-12-13</th>\n      <td>39.0</td>\n      <td>8</td>\n    </tr>\n    <tr>\n      <th>2020-12-20</th>\n      <td>20.0</td>\n      <td>7</td>\n    </tr>\n    <tr>\n      <th>2020-12-27</th>\n      <td>28.0</td>\n      <td>8</td>\n    </tr>\n    <tr>\n      <th>2021-01-03</th>\n      <td>20.0</td>\n      <td>10</td>\n    </tr>\n    <tr>\n      <th>2021-01-10</th>\n      <td>14.0</td>\n      <td>10</td>\n    </tr>\n  </tbody>\n</table>\n<p>64 rows × 2 columns</p>\n</div>"
     },
     "metadata": {}
    }
   ],
   "execution_count": null
  },
  {
   "cell_type": "markdown",
   "source": "## Train the model \n\nTrain a forecast model using the ARIMA algorithm for forecasting dengue with DOH Data and Google Trends",
   "metadata": {
    "cell_id": "0fb1f8904bbc412f8682bf155f5a766f",
    "tags": [],
    "deepnote_cell_type": "markdown",
    "deepnote_cell_height": 108.390625
   }
  },
  {
   "cell_type": "code",
   "metadata": {
    "cell_id": "00015-e82895c5-6918-456c-93de-548e61a52f9e",
    "deepnote_cell_type": "code",
    "deepnote_cell_height": 1577,
    "deepnote_output_heights": [
     null,
     611
    ]
   },
   "source": "import pmdarima as pm\n\n# SARIMAX Model\nsxmodel = pm.auto_arima(train[['cases']], exogenous=train[['dengue + lamok']],\n                           start_p=1, start_q=1,\n                           test='adf',\n                           max_p=3, max_q=3, m=12,\n                           start_P=0, seasonal=True,\n                           d=None, D=1, trace=True,\n                           error_action='ignore',  \n                           suppress_warnings=True, \n                           stepwise=True)\n\nsxmodel.summary()",
   "outputs": [
    {
     "name": "stdout",
     "output_type": "stream",
     "text": "Performing stepwise search to minimize aic\n ARIMA(1,0,1)(0,1,1)[12] intercept   : AIC=inf, Time=1.09 sec\n ARIMA(0,0,0)(0,1,0)[12] intercept   : AIC=2331.826, Time=0.03 sec\n ARIMA(1,0,0)(1,1,0)[12] intercept   : AIC=2122.254, Time=0.60 sec\n ARIMA(0,0,1)(0,1,1)[12] intercept   : AIC=inf, Time=0.80 sec\n ARIMA(0,0,0)(0,1,0)[12]             : AIC=2329.863, Time=0.09 sec\n ARIMA(1,0,0)(0,1,0)[12] intercept   : AIC=2168.490, Time=0.13 sec\n ARIMA(1,0,0)(2,1,0)[12] intercept   : AIC=2103.367, Time=2.14 sec\n ARIMA(1,0,0)(2,1,1)[12] intercept   : AIC=inf, Time=2.66 sec\n ARIMA(1,0,0)(1,1,1)[12] intercept   : AIC=inf, Time=0.91 sec\n ARIMA(0,0,0)(2,1,0)[12] intercept   : AIC=2299.254, Time=0.90 sec\n ARIMA(2,0,0)(2,1,0)[12] intercept   : AIC=2086.111, Time=2.40 sec\n ARIMA(2,0,0)(1,1,0)[12] intercept   : AIC=2098.733, Time=0.92 sec\n ARIMA(2,0,0)(2,1,1)[12] intercept   : AIC=inf, Time=4.01 sec\n ARIMA(2,0,0)(1,1,1)[12] intercept   : AIC=inf, Time=1.50 sec\n ARIMA(3,0,0)(2,1,0)[12] intercept   : AIC=2081.145, Time=3.17 sec\n ARIMA(3,0,0)(1,1,0)[12] intercept   : AIC=2094.441, Time=0.95 sec\n ARIMA(3,0,0)(2,1,1)[12] intercept   : AIC=inf, Time=4.87 sec\n ARIMA(3,0,0)(1,1,1)[12] intercept   : AIC=inf, Time=1.52 sec\n ARIMA(3,0,1)(2,1,0)[12] intercept   : AIC=2073.419, Time=4.21 sec\n ARIMA(3,0,1)(1,1,0)[12] intercept   : AIC=2083.111, Time=1.62 sec\n ARIMA(3,0,1)(2,1,1)[12] intercept   : AIC=inf, Time=4.59 sec\n ARIMA(3,0,1)(1,1,1)[12] intercept   : AIC=inf, Time=1.68 sec\n ARIMA(2,0,1)(2,1,0)[12] intercept   : AIC=2079.853, Time=3.33 sec\n ARIMA(3,0,2)(2,1,0)[12] intercept   : AIC=2070.232, Time=4.70 sec\n ARIMA(3,0,2)(1,1,0)[12] intercept   : AIC=2091.478, Time=1.75 sec\n ARIMA(3,0,2)(2,1,1)[12] intercept   : AIC=inf, Time=4.42 sec\n ARIMA(3,0,2)(1,1,1)[12] intercept   : AIC=inf, Time=1.95 sec\n ARIMA(2,0,2)(2,1,0)[12] intercept   : AIC=2081.825, Time=3.66 sec\n ARIMA(3,0,3)(2,1,0)[12] intercept   : AIC=inf, Time=4.70 sec\n ARIMA(2,0,3)(2,1,0)[12] intercept   : AIC=inf, Time=3.82 sec\n ARIMA(3,0,2)(2,1,0)[12]             : AIC=2070.329, Time=3.66 sec\n\nBest model:  ARIMA(3,0,2)(2,1,0)[12] intercept\nTotal fit time: 72.791 seconds\n"
    },
    {
     "data": {
      "text/html": "<table class=\"simpletable\">\n<caption>SARIMAX Results</caption>\n<tr>\n  <th>Dep. Variable:</th>                  <td>y</td>                <th>  No. Observations:  </th>    <td>195</td>   \n</tr>\n<tr>\n  <th>Model:</th>           <td>SARIMAX(3, 0, 2)x(2, 1, [], 12)</td> <th>  Log Likelihood     </th> <td>-1025.116</td>\n</tr>\n<tr>\n  <th>Date:</th>                   <td>Fri, 15 Jul 2022</td>         <th>  AIC                </th> <td>2070.232</td> \n</tr>\n<tr>\n  <th>Time:</th>                       <td>10:07:49</td>             <th>  BIC                </th> <td>2102.327</td> \n</tr>\n<tr>\n  <th>Sample:</th>                         <td>0</td>                <th>  HQIC               </th> <td>2083.242</td> \n</tr>\n<tr>\n  <th></th>                             <td> - 195</td>              <th>                     </th>     <td> </td>    \n</tr>\n<tr>\n  <th>Covariance Type:</th>               <td>opg</td>               <th>                     </th>     <td> </td>    \n</tr>\n</table>\n<table class=\"simpletable\">\n<tr>\n         <td></td>           <th>coef</th>     <th>std err</th>      <th>z</th>      <th>P>|z|</th>  <th>[0.025</th>    <th>0.975]</th>  \n</tr>\n<tr>\n  <th>intercept</th>      <td>    0.6207</td> <td>    0.562</td> <td>    1.104</td> <td> 0.270</td> <td>   -0.481</td> <td>    1.723</td>\n</tr>\n<tr>\n  <th>dengue + lamok</th> <td>    0.6047</td> <td>    1.053</td> <td>    0.574</td> <td> 0.566</td> <td>   -1.460</td> <td>    2.669</td>\n</tr>\n<tr>\n  <th>ar.L1</th>          <td>    1.1466</td> <td>    0.104</td> <td>   11.065</td> <td> 0.000</td> <td>    0.943</td> <td>    1.350</td>\n</tr>\n<tr>\n  <th>ar.L2</th>          <td>    0.5747</td> <td>    0.190</td> <td>    3.028</td> <td> 0.002</td> <td>    0.203</td> <td>    0.947</td>\n</tr>\n<tr>\n  <th>ar.L3</th>          <td>   -0.7527</td> <td>    0.092</td> <td>   -8.217</td> <td> 0.000</td> <td>   -0.932</td> <td>   -0.573</td>\n</tr>\n<tr>\n  <th>ma.L1</th>          <td>   -0.4565</td> <td>    0.140</td> <td>   -3.272</td> <td> 0.001</td> <td>   -0.730</td> <td>   -0.183</td>\n</tr>\n<tr>\n  <th>ma.L2</th>          <td>   -0.4613</td> <td>    0.139</td> <td>   -3.320</td> <td> 0.001</td> <td>   -0.734</td> <td>   -0.189</td>\n</tr>\n<tr>\n  <th>ar.S.L12</th>       <td>   -0.6989</td> <td>    0.074</td> <td>   -9.392</td> <td> 0.000</td> <td>   -0.845</td> <td>   -0.553</td>\n</tr>\n<tr>\n  <th>ar.S.L24</th>       <td>   -0.2938</td> <td>    0.083</td> <td>   -3.542</td> <td> 0.000</td> <td>   -0.456</td> <td>   -0.131</td>\n</tr>\n<tr>\n  <th>sigma2</th>         <td> 3999.1609</td> <td>  332.953</td> <td>   12.011</td> <td> 0.000</td> <td> 3346.585</td> <td> 4651.737</td>\n</tr>\n</table>\n<table class=\"simpletable\">\n<tr>\n  <th>Ljung-Box (L1) (Q):</th>     <td>0.10</td> <th>  Jarque-Bera (JB):  </th> <td>38.02</td>\n</tr>\n<tr>\n  <th>Prob(Q):</th>                <td>0.75</td> <th>  Prob(JB):          </th> <td>0.00</td> \n</tr>\n<tr>\n  <th>Heteroskedasticity (H):</th> <td>1.50</td> <th>  Skew:              </th> <td>0.52</td> \n</tr>\n<tr>\n  <th>Prob(H) (two-sided):</th>    <td>0.11</td> <th>  Kurtosis:          </th> <td>4.98</td> \n</tr>\n</table><br/><br/>Warnings:<br/>[1] Covariance matrix calculated using the outer product of gradients (complex-step).",
      "text/plain": "<class 'statsmodels.iolib.summary.Summary'>\n\"\"\"\n                                      SARIMAX Results                                      \n===========================================================================================\nDep. Variable:                                   y   No. Observations:                  195\nModel:             SARIMAX(3, 0, 2)x(2, 1, [], 12)   Log Likelihood               -1025.116\nDate:                             Fri, 15 Jul 2022   AIC                           2070.232\nTime:                                     10:07:49   BIC                           2102.327\nSample:                                          0   HQIC                          2083.242\n                                             - 195                                         \nCovariance Type:                               opg                                         \n==================================================================================\n                     coef    std err          z      P>|z|      [0.025      0.975]\n----------------------------------------------------------------------------------\nintercept          0.6207      0.562      1.104      0.270      -0.481       1.723\ndengue + lamok     0.6047      1.053      0.574      0.566      -1.460       2.669\nar.L1              1.1466      0.104     11.065      0.000       0.943       1.350\nar.L2              0.5747      0.190      3.028      0.002       0.203       0.947\nar.L3             -0.7527      0.092     -8.217      0.000      -0.932      -0.573\nma.L1             -0.4565      0.140     -3.272      0.001      -0.730      -0.183\nma.L2             -0.4613      0.139     -3.320      0.001      -0.734      -0.189\nar.S.L12          -0.6989      0.074     -9.392      0.000      -0.845      -0.553\nar.S.L24          -0.2938      0.083     -3.542      0.000      -0.456      -0.131\nsigma2          3999.1609    332.953     12.011      0.000    3346.585    4651.737\n===================================================================================\nLjung-Box (L1) (Q):                   0.10   Jarque-Bera (JB):                38.02\nProb(Q):                              0.75   Prob(JB):                         0.00\nHeteroskedasticity (H):               1.50   Skew:                             0.52\nProb(H) (two-sided):                  0.11   Kurtosis:                         4.98\n===================================================================================\n\nWarnings:\n[1] Covariance matrix calculated using the outer product of gradients (complex-step).\n\"\"\""
     },
     "execution_count": 42,
     "metadata": {},
     "output_type": "execute_result"
    }
   ],
   "execution_count": null
  },
  {
   "cell_type": "markdown",
   "source": "## Model Results",
   "metadata": {
    "cell_id": "d11ceb2c7d5f484580701ea5554bf965",
    "tags": [],
    "deepnote_cell_type": "markdown",
    "deepnote_cell_height": 70
   }
  },
  {
   "cell_type": "code",
   "metadata": {
    "cell_id": "00016-4e5e71c9-cfe2-44d1-acc8-bfcf8b21f3f7",
    "deepnote_cell_type": "code",
    "deepnote_cell_height": 1280.25,
    "deepnote_output_heights": [
     null,
     443
    ]
   },
   "source": "\nfitted, confint = sxmodel.predict(n_periods=len(test),\n                                  exogenous=exo,\n                                  return_conf_int=True)\n\ntest['Forecast']=fitted\n# index_of_fc = pd.date_range(test.index[-1], periods = n_periods, freq='MS')\n\n# # make series for plotting purpose\n# fitted_series = pd.Series(fitted, index=index_of_fc)\n# lower_series = pd.Series(confint[:, 0], index=index_of_fc)\n# upper_series = pd.Series(confint[:, 1], index=index_of_fc)\n\n# # Plot\n# plt.plot(test['cases'])\n# plt.plot(fitted_series, color='darkgreen')\n# plt.fill_between(lower_series.index, \n#                  lower_series, \n#                  upper_series, \n#                  color='k', alpha=.15)\n\n\n\ntest[[\"cases\", \"Forecast\"]].plot(figsize=(14, 7))\n\nplt.title(\"SARIMAX Forecast of Quezon City w GTrends\")\nplt.show()",
   "outputs": [
    {
     "name": "stderr",
     "output_type": "stream",
     "text": "D:\\Program Files - Data Drive\\Anaconda 3\\envs\\aedes\\lib\\site-packages\\statsmodels\\tsa\\base\\tsa_model.py:834: ValueWarning:\n\nNo supported index is available. Prediction results will be given with an integer index beginning at `start`.\n\n<ipython-input-77-38607ca547a8>:5: SettingWithCopyWarning:\n\n\nA value is trying to be set on a copy of a slice from a DataFrame.\nTry using .loc[row_indexer,col_indexer] = value instead\n\nSee the caveats in the documentation: https://pandas.pydata.org/pandas-docs/stable/user_guide/indexing.html#returning-a-view-versus-a-copy\n\n"
    },
    {
     "data": {
      "image/png": "[encoded data removed]",
      "text/plain": "<Figure size 1008x504 with 1 Axes>"
     },
     "metadata": {
      "needs_background": "light",
      "image/png": {
       "width": 821,
       "height": 441
      }
     },
     "output_type": "display_data"
    }
   ],
   "execution_count": null
  },
  {
   "cell_type": "markdown",
   "source": "## Model error metrics",
   "metadata": {
    "cell_id": "303c92152a094502a0c8504a1d282c7a",
    "tags": [],
    "deepnote_cell_type": "markdown",
    "deepnote_cell_height": 70
   }
  },
  {
   "cell_type": "code",
   "metadata": {
    "cell_id": "00017-6beda6f6-a250-4a7d-b00c-039a4ce3e456",
    "owner_user_id": "5e6af1a4-1e78-40b9-9c26-1d7d59ec0331",
    "deepnote_cell_type": "code",
    "deepnote_cell_height": 206.5625
   },
   "source": "import numpy as np\nfrom sklearn.metrics import mean_absolute_error, mean_squared_error\nprint(\"RMSE of Auto ARIMAX:\", np.sqrt(mean_squared_error(test.cases, test.Forecast)))\nprint(\"\\nMAE of Auto ARIMAX:\", mean_absolute_error(test.cases, test.Forecast))",
   "outputs": [
    {
     "name": "stdout",
     "output_type": "stream",
     "text": "RMSE of Auto ARIMAX: 219.94514552461885\n\nMAE of Auto ARIMAX: 183.42144339611548\n"
    }
   ],
   "execution_count": null
  },
  {
   "cell_type": "code",
   "metadata": {
    "cell_id": "00018-93dd8aaf-ed67-4dcb-b2b6-9ced0d33faad",
    "deepnote_cell_type": "code",
    "deepnote_cell_height": 406,
    "deepnote_output_heights": [
     309
    ]
   },
   "source": "fitted",
   "outputs": [
    {
     "data": {
      "text/plain": "array([363.75363642, 343.08381004, 302.91467588, 251.69275351,\n       262.91388273, 225.27507566, 234.78361099, 159.26218393,\n        87.49757063,  68.41425733,  27.94680186,   5.04919058,\n         7.83584067,  53.62524472,  53.95745212,  23.36757996,\n       116.11866386, 119.97912997, 198.98283032, 142.83735476,\n        79.48828495, 101.07069128,  82.51925918,  86.19935756,\n       124.7632187 , 198.71269047, 220.33433838, 209.89694995,\n       327.00124889, 344.6005442 , 438.06913955, 379.3510861 ,\n       303.56897252, 314.58193207, 286.98723835, 268.21348037,\n       287.2565835 , 329.11472223, 327.74595518, 298.78969804,\n       373.30936809, 366.14979828, 423.96853882, 353.5679907 ,\n       272.98423249, 269.06281309, 228.67227417, 205.11862705,\n       215.86409996, 256.55744448, 250.74560004, 217.10542409,\n       299.62639266, 293.13128516, 359.65455088, 286.66855801,\n       204.66271046, 206.14485093, 169.66101474, 149.3013848 ,\n       165.75883376, 214.50772306, 218.37989016, 192.94451039])"
     },
     "execution_count": 72,
     "metadata": {},
     "output_type": "execute_result"
    }
   ],
   "execution_count": null
  },
  {
   "cell_type": "code",
   "metadata": {
    "cell_id": "00019-26e51051-ce02-41ea-ba7d-4bfcf959e012",
    "deepnote_cell_type": "code",
    "deepnote_cell_height": 66
   },
   "source": "exo=test['dengue + lamok']",
   "outputs": [],
   "execution_count": null
  },
  {
   "cell_type": "code",
   "metadata": {
    "cell_id": "00020-10e87f12-4810-4d00-9aba-828f2bc4f645",
    "deepnote_cell_type": "code",
    "deepnote_cell_height": 84
   },
   "source": "exo=exo.reset_index()\n",
   "outputs": [],
   "execution_count": null
  },
  {
   "cell_type": "code",
   "metadata": {
    "cell_id": "00021-0b79381c-703f-44b2-b356-d92cec231b67",
    "deepnote_cell_type": "code",
    "deepnote_cell_height": 66
   },
   "source": "exo['date']=pd.to_datetime(exo['date'])",
   "outputs": [],
   "execution_count": null
  },
  {
   "cell_type": "code",
   "metadata": {
    "cell_id": "00022-428fe9e1-0743-424f-8f61-47ea057623e1",
    "deepnote_cell_type": "code",
    "deepnote_cell_height": 66
   },
   "source": "exo=exo['dengue + lamok']",
   "outputs": [],
   "execution_count": null
  },
  {
   "cell_type": "code",
   "metadata": {
    "cell_id": "00023-67ad5eba-47ec-4e2b-995a-893d7a229e6b",
    "deepnote_cell_type": "code",
    "deepnote_cell_height": 329.25,
    "deepnote_output_heights": [
     232.25
    ]
   },
   "source": "exo",
   "outputs": [
    {
     "data": {
      "text/plain": "0     26\n1     26\n2     21\n3     24\n4     20\n      ..\n59     8\n60     7\n61     8\n62    10\n63    10\nName: dengue + lamok, Length: 64, dtype: int64"
     },
     "execution_count": 61,
     "metadata": {},
     "output_type": "execute_result"
    }
   ],
   "execution_count": null
  },
  {
   "cell_type": "code",
   "metadata": {
    "cell_id": "00024-040c2802-b9d6-41a3-9c46-538356590922",
    "deepnote_cell_type": "code",
    "deepnote_cell_height": 66
   },
   "source": "exo=test['dengue + lamok'].to_frame()",
   "outputs": [],
   "execution_count": null
  },
  {
   "cell_type": "code",
   "metadata": {
    "cell_id": "00025-55eb37c5-82d7-4bee-94dc-ec5121a8b1a0",
    "deepnote_cell_type": "code",
    "deepnote_cell_height": 508.1875,
    "deepnote_output_heights": [
     411.1875
    ]
   },
   "source": "exo",
   "outputs": [
    {
     "data": {
      "text/html": "<div>\n<style scoped>\n    .dataframe tbody tr th:only-of-type {\n        vertical-align: middle;\n    }\n\n    .dataframe tbody tr th {\n        vertical-align: top;\n    }\n\n    .dataframe thead th {\n        text-align: right;\n    }\n</style>\n<table border=\"1\" class=\"dataframe\">\n  <thead>\n    <tr style=\"text-align: right;\">\n      <th></th>\n      <th>dengue + lamok</th>\n    </tr>\n    <tr>\n      <th>date</th>\n      <th></th>\n    </tr>\n  </thead>\n  <tbody>\n    <tr>\n      <th>2019-10-20</th>\n      <td>26</td>\n    </tr>\n    <tr>\n      <th>2019-10-27</th>\n      <td>26</td>\n    </tr>\n    <tr>\n      <th>2019-11-03</th>\n      <td>21</td>\n    </tr>\n    <tr>\n      <th>2019-11-10</th>\n      <td>24</td>\n    </tr>\n    <tr>\n      <th>2019-11-17</th>\n      <td>20</td>\n    </tr>\n    <tr>\n      <th>...</th>\n      <td>...</td>\n    </tr>\n    <tr>\n      <th>2020-12-13</th>\n      <td>8</td>\n    </tr>\n    <tr>\n      <th>2020-12-20</th>\n      <td>7</td>\n    </tr>\n    <tr>\n      <th>2020-12-27</th>\n      <td>8</td>\n    </tr>\n    <tr>\n      <th>2021-01-03</th>\n      <td>10</td>\n    </tr>\n    <tr>\n      <th>2021-01-10</th>\n      <td>10</td>\n    </tr>\n  </tbody>\n</table>\n<p>64 rows × 1 columns</p>\n</div>",
      "text/plain": "            dengue + lamok\ndate                      \n2019-10-20              26\n2019-10-27              26\n2019-11-03              21\n2019-11-10              24\n2019-11-17              20\n...                    ...\n2020-12-13               8\n2020-12-20               7\n2020-12-27               8\n2021-01-03              10\n2021-01-10              10\n\n[64 rows x 1 columns]"
     },
     "execution_count": 67,
     "metadata": {},
     "output_type": "execute_result"
    }
   ],
   "execution_count": null
  },
  {
   "cell_type": "code",
   "metadata": {
    "cell_id": "00026-2b326ae1-8f0d-4676-b87f-5b0ace90cd81",
    "deepnote_cell_type": "code",
    "deepnote_cell_height": 66
   },
   "source": "",
   "execution_count": null,
   "outputs": []
  },
  {
   "cell_type": "markdown",
   "source": "<a style='text-decoration:none;line-height:16px;display:flex;color:#5B5B62;padding:10px;justify-content:end;' href='https://deepnote.com?utm_source=created-in-deepnote-cell&projectId=e9b552be-cac8-4d99-a00a-9c19989297ab' target=\"_blank\">\n<img alt='Created in deepnote.com' style='display:inline;max-height:16px;margin:0px;margin-right:7.5px;' src='data:image/svg+xml;base64,PD94bWwgdmVyc2lvbj0iMS4wIiBlbmNvZGluZz0iVVRGLTgiPz4KPHN2ZyB3aWR0aD0iODBweCIgaGVpZ2h0PSI4MHB4IiB2aWV3Qm94PSIwIDAgODAgODAiIHZlcnNpb249IjEuMSIgeG1sbnM9Imh0dHA6Ly93d3cudzMub3JnLzIwMDAvc3ZnIiB4bWxuczp4bGluaz0iaHR0cDovL3d3dy53My5vcmcvMTk5OS94bGluayI+CiAgICA8IS0tIEdlbmVyYXRvcjogU2tldGNoIDU0LjEgKDc2NDkwKSAtIGh0dHBzOi8vc2tldGNoYXBwLmNvbSAtLT4KICAgIDx0aXRsZT5Hcm91cCAzPC90aXRsZT4KICAgIDxkZXNjPkNyZWF0ZWQgd2l0aCBTa2V0Y2guPC9kZXNjPgogICAgPGcgaWQ9IkxhbmRpbmciIHN0cm9rZT0ibm9uZSIgc3Ryb2tlLXdpZHRoPSIxIiBmaWxsPSJub25lIiBmaWxsLXJ1bGU9ImV2ZW5vZGQiPgogICAgICAgIDxnIGlkPSJBcnRib2FyZCIgdHJhbnNmb3JtPSJ0cmFuc2xhdGUoLTEyMzUuMDAwMDAwLCAtNzkuMDAwMDAwKSI+CiAgICAgICAgICAgIDxnIGlkPSJHcm91cC0zIiB0cmFuc2Zvcm09InRyYW5zbGF0ZSgxMjM1LjAwMDAwMCwgNzkuMDAwMDAwKSI+CiAgICAgICAgICAgICAgICA8cG9seWdvbiBpZD0iUGF0aC0yMCIgZmlsbD0iIzAyNjVCNCIgcG9pbnRzPSIyLjM3NjIzNzYyIDgwIDM4LjA0NzY2NjcgODAgNTcuODIxNzgyMiA3My44MDU3NTkyIDU3LjgyMTc4MjIgMzIuNzU5MjczOSAzOS4xNDAyMjc4IDMxLjY4MzE2ODMiPjwvcG9seWdvbj4KICAgICAgICAgICAgICAgIDxwYXRoIGQ9Ik0zNS4wMDc3MTgsODAgQzQyLjkwNjIwMDcsNzYuNDU0OTM1OCA0Ny41NjQ5MTY3LDcxLjU0MjI2NzEgNDguOTgzODY2LDY1LjI2MTk5MzkgQzUxLjExMjI4OTksNTUuODQxNTg0MiA0MS42NzcxNzk1LDQ5LjIxMjIyODQgMjUuNjIzOTg0Niw0OS4yMTIyMjg0IEMyNS40ODQ5Mjg5LDQ5LjEyNjg0NDggMjkuODI2MTI5Niw0My4yODM4MjQ4IDM4LjY0NzU4NjksMzEuNjgzMTY4MyBMNzIuODcxMjg3MSwzMi41NTQ0MjUgTDY1LjI4MDk3Myw2Ny42NzYzNDIxIEw1MS4xMTIyODk5LDc3LjM3NjE0NCBMMzUuMDA3NzE4LDgwIFoiIGlkPSJQYXRoLTIyIiBmaWxsPSIjMDAyODY4Ij48L3BhdGg+CiAgICAgICAgICAgICAgICA8cGF0aCBkPSJNMCwzNy43MzA0NDA1IEwyNy4xMTQ1MzcsMC4yNTcxMTE0MzYgQzYyLjM3MTUxMjMsLTEuOTkwNzE3MDEgODAsMTAuNTAwMzkyNyA4MCwzNy43MzA0NDA1IEM4MCw2NC45NjA0ODgyIDY0Ljc3NjUwMzgsNzkuMDUwMzQxNCAzNC4zMjk1MTEzLDgwIEM0Ny4wNTUzNDg5LDc3LjU2NzA4MDggNTMuNDE4MjY3Nyw3MC4zMTM2MTAzIDUzLjQxODI2NzcsNTguMjM5NTg4NSBDNTMuNDE4MjY3Nyw0MC4xMjg1NTU3IDM2LjMwMzk1NDQsMzcuNzMwNDQwNSAyNS4yMjc0MTcsMzcuNzMwNDQwNSBDMTcuODQzMDU4NiwzNy43MzA0NDA1IDkuNDMzOTE5NjYsMzcuNzMwNDQwNSAwLDM3LjczMDQ0MDUgWiIgaWQ9IlBhdGgtMTkiIGZpbGw9IiMzNzkzRUYiPjwvcGF0aD4KICAgICAgICAgICAgPC9nPgogICAgICAgIDwvZz4KICAgIDwvZz4KPC9zdmc+' > </img>\nCreated in <span style='font-weight:600;margin-left:4px;'>Deepnote</span></a>",
   "metadata": {
    "tags": [],
    "created_in_deepnote_cell": true,
    "deepnote_cell_type": "markdown"
   }
  }
 ],
 "nbformat": 4,
 "nbformat_minor": 5,
 "metadata": {
  "kernelspec": {
   "display_name": "Python 3",
   "language": "python",
   "name": "python3"
  },
  "language_info": {
   "codemirror_mode": {
    "name": "ipython",
    "version": 3
   },
   "file_extension": ".py",
   "mimetype": "text/x-python",
   "name": "python",
   "nbconvert_exporter": "python",
   "pygments_lexer": "ipython3",
   "version": "3.9.12"
  },
  "deepnote_notebook_id": "f0203e71-3553-4cbb-b19a-c5f7daa61c3c",
  "deepnote": {},
  "deepnote_execution_queue": []
 }
}