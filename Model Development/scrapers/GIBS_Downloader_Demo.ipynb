{
  "nbformat": 4,
  "nbformat_minor": 0,
  "metadata": {
    "colab": {
      "provenance": [],
      "collapsed_sections": []
    },
    "kernelspec": {
      "name": "python3",
      "display_name": "Python 3"
    },
    "language_info": {
      "name": "python"
    }
  },
  "cells": [
    {
      "cell_type": "markdown",
      "metadata": {
        "id": "SmPVLgATQCx0"
      },
      "source": [
        "# GIBS Downloader Demo"
      ]
    },
    {
      "cell_type": "markdown",
      "metadata": {
        "id": "DPIk2DKJ6zYs"
      },
      "source": [
        "### Installing GIBS Downloader\n",
        "\n",
        "We first need to install GDAL. To do that, we first install Miniconda."
      ]
    },
    {
      "cell_type": "code",
      "metadata": {
        "id": "6GOE_owRfF0K",
        "outputId": "60590f98-6c44-4333-f32b-0d01ab49a9fe",
        "colab": {
          "base_uri": "https://localhost:8080/"
        }
      },
      "source": [
        "# This cell installs Miniconda. It will restart the kernel, don't worry\n",
        "!pip install -q condacolab\n",
        "import condacolab\n",
        "condacolab.install_miniconda()"
      ],
      "execution_count": 1,
      "outputs": [
        {
          "output_type": "stream",
          "name": "stdout",
          "text": [
            "⏬ Downloading https://repo.anaconda.com/miniconda/Miniconda3-py37_4.12.0-Linux-x86_64.sh...\n",
            "📦 Installing...\n",
            "📌 Adjusting configuration...\n",
            "🩹 Patching environment...\n",
            "⏲ Done in 0:00:15\n",
            "🔁 Restarting kernel...\n"
          ]
        }
      ]
    },
    {
      "cell_type": "markdown",
      "metadata": {
        "id": "bk6jC813gxrq"
      },
      "source": [
        "Now, install GDAL"
      ]
    },
    {
      "cell_type": "code",
      "metadata": {
        "id": "AlZNzwpId9xA",
        "outputId": "0bb66012-2af3-4281-f11c-6061a5c459d7",
        "colab": {
          "base_uri": "https://localhost:8080/"
        }
      },
      "source": [
        "!conda install -c conda-forge gdal=3.2.0"
      ],
      "execution_count": 1,
      "outputs": [
        {
          "output_type": "stream",
          "name": "stdout",
          "text": [
            "\rcudatoolkit-11.2.2   | 877.3 MB  | : 100% 1.0/1 [01:25<00:00, 85.76s/it]               \n",
            "\rca-certificates-2022 | 150 KB    | :   0% 0/1 [00:00<?, ?it/s]\rca-certificates-2022 | 150 KB    | : 100% 1.0/1 [00:00<00:00, 17.33it/s]\n",
            "\rlibrttopo-1.1.0      | 235 KB    | :   0% 0/1 [00:00<?, ?it/s]\rlibrttopo-1.1.0      | 235 KB    | : 100% 1.0/1 [00:00<00:00, 18.73it/s]\n",
            "libxcb-1.13          | 395 KB    | : 100% 1.0/1 [00:00<00:00, 10.23it/s]\n",
            "boost-cpp-1.74.0     | 16.4 MB   | : 100% 1.0/1 [00:05<00:00,  5.72s/it]\n",
            "libblas-3.9.0        | 12 KB     | : 100% 1.0/1 [00:00<00:00, 40.17it/s]\n",
            "xorg-libxrender-0.9. | 32 KB     | : 100% 1.0/1 [00:00<00:00, 31.59it/s]\n",
            "xorg-kbproto-1.0.7   | 27 KB     | : 100% 1.0/1 [00:00<00:00, 25.00it/s]\n",
            "xorg-xextproto-7.3.0 | 28 KB     | : 100% 1.0/1 [00:00<00:00, 27.46it/s]\n",
            "gdal-3.2.0           | 1.3 MB    | : 100% 1.0/1 [00:00<00:00,  4.87it/s]\n",
            "jpeg-9d              | 264 KB    | : 100% 1.0/1 [00:00<00:00, 16.34it/s]\n",
            "fontconfig-2.13.1    | 357 KB    | : 100% 1.0/1 [00:00<00:00, 13.90it/s]\n",
            "python_abi-3.7       | 4 KB      | : 100% 1.0/1 [00:00<00:00, 34.35it/s]\n",
            "glib-tools-2.68.3    | 86 KB     | : 100% 1.0/1 [00:00<00:00, 27.54it/s]\n",
            "numpy-1.21.1         | 6.1 MB    | : 100% 1.0/1 [00:01<00:00,  1.01s/it]\n",
            "gettext-0.19.8.1     | 3.6 MB    | : 100% 1.0/1 [00:00<00:00,  1.49it/s]\n",
            "libpq-12.3           | 2.6 MB    | : 100% 1.0/1 [00:00<00:00,  1.03it/s]               \n",
            "proj-7.1.1           | 2.5 MB    | : 100% 1.0/1 [00:00<00:00,  1.03it/s]               \n",
            "libev-4.33           | 104 KB    | : 100% 1.0/1 [00:00<00:00, 19.06it/s]\n",
            "xorg-libxdmcp-1.1.3  | 19 KB     | : 100% 1.0/1 [00:00<00:00, 41.42it/s]\n",
            "icu-67.1             | 12.9 MB   | : 100% 1.0/1 [00:01<00:00,  1.70s/it]               \n",
            "bzip2-1.0.8          | 484 KB    | : 100% 1.0/1 [00:00<00:00, 10.39it/s]\n",
            "libgdal-3.2.0        | 12.0 MB   | : 100% 1.0/1 [00:02<00:00,  2.44s/it]               \n",
            "libgfortran-ng-12.2. | 22 KB     | : 100% 1.0/1 [00:00<00:00, 24.57it/s]\n",
            "c-ares-1.17.1        | 109 KB    | : 100% 1.0/1 [00:00<00:00, 23.97it/s]\n",
            "openjpeg-2.3.1       | 395 KB    | : 100% 1.0/1 [00:00<00:00, 13.59it/s]\n",
            "hdf4-4.2.15          | 950 KB    | : 100% 1.0/1 [00:00<00:00,  6.96it/s]\n",
            "libnghttp2-1.43.0    | 808 KB    | : 100% 1.0/1 [00:00<00:00,  7.48it/s]\n",
            "certifi-2022.9.24    | 155 KB    | : 100% 1.0/1 [00:00<00:00, 23.90it/s]\n",
            "libkml-1.3.0         | 591 KB    | : 100% 1.0/1 [00:00<00:00,  9.01it/s]\n",
            "lz4-c-1.9.3          | 179 KB    | : 100% 1.0/1 [00:00<00:00, 17.74it/s]\n",
            "cfitsio-3.470        | 1.3 MB    | : 100% 1.0/1 [00:00<00:00,  5.05it/s]\n",
            "pixman-0.40.0        | 627 KB    | : 100% 1.0/1 [00:00<00:00,  9.79it/s]\n",
            "freetype-2.10.4      | 890 KB    | : 100% 1.0/1 [00:00<00:00,  8.36it/s]\n",
            "libopenblas-0.3.17   | 9.2 MB    | : 100% 1.0/1 [00:01<00:00,  1.25s/it]               \n",
            "conda-22.9.0         | 960 KB    | : 100% 1.0/1 [00:00<00:00,  5.35it/s]\n",
            "geotiff-1.6.0        | 278 KB    | : 100% 1.0/1 [00:00<00:00, 19.06it/s]\n",
            "krb5-1.17.2          | 1.4 MB    | : 100% 1.0/1 [00:00<00:00,  5.00it/s]\n",
            "hdf5-1.10.6          | 3.1 MB    | : 100% 1.0/1 [00:00<00:00,  2.94it/s]\n",
            "xorg-libx11-1.7.2    | 941 KB    | : 100% 1.0/1 [00:00<00:00,  7.49it/s]\n",
            "xorg-libxext-1.3.4   | 54 KB     | : 100% 1.0/1 [00:00<00:00, 29.10it/s]\n",
            "libgfortran5-12.2.0  | 1.8 MB    | : 100% 1.0/1 [00:00<00:00,  4.20it/s]\n",
            "libcblas-3.9.0       | 11 KB     | : 100% 1.0/1 [00:00<00:00, 26.55it/s]\n",
            "libedit-3.1.20191231 | 121 KB    | : 100% 1.0/1 [00:00<00:00, 25.03it/s]\n",
            "cairo-1.16.0         | 1.5 MB    | : 100% 1.0/1 [00:00<00:00,  4.34it/s]\n",
            "libpng-1.6.37        | 306 KB    | : 100% 1.0/1 [00:00<00:00, 15.68it/s]\n",
            "toolz-0.12.0         | 48 KB     | : 100% 1.0/1 [00:00<00:00, 22.31it/s]\n",
            "poppler-0.89.0       | 13.4 MB   | : 100% 1.0/1 [00:01<00:00,  1.71s/it]              \n",
            "libglib-2.68.3       | 3.1 MB    | : 100% 1.0/1 [00:00<00:00,  2.14it/s]\n",
            "libdap4-3.20.6       | 11.3 MB   | : 100% 1.0/1 [00:01<00:00,  1.37s/it]               \n",
            "json-c-0.13.1        | 76 KB     | : 100% 1.0/1 [00:00<00:00, 30.41it/s]\n",
            "libcurl-7.76.1       | 328 KB    | : 100% 1.0/1 [00:00<00:00, 15.57it/s]\n",
            "libnetcdf-4.7.4      | 1.3 MB    | : 100% 1.0/1 [00:00<00:00,  6.25it/s]\n",
            "poppler-data-0.4.11  | 3.6 MB    | : 100% 1.0/1 [00:00<00:00,  2.26it/s]\n",
            "zstd-1.4.9           | 431 KB    | : 100% 1.0/1 [00:00<00:00, 11.98it/s]\n",
            "xorg-renderproto-0.1 | 9 KB      | : 100% 1.0/1 [00:00<00:00, 42.62it/s]\n",
            "curl-7.76.1          | 149 KB    | : 100% 1.0/1 [00:00<00:00, 29.43it/s]\n",
            "postgresql-12.3      | 5.0 MB    | : 100% 1.0/1 [00:00<00:00,  1.61it/s]\n",
            "libwebp-base-1.2.0   | 815 KB    | : 100% 1.0/1 [00:00<00:00,  8.00it/s]\n",
            "Preparing transaction: / \b\b- \b\b\\ \b\b| \b\b/ \b\b- \b\b\\ \b\bdone\n",
            "Verifying transaction: / \b\b- \b\b\\ \b\b| \b\b/ \b\b- \b\b\\ \b\b| \b\b/ \b\b- \b\b\\ \b\b| \b\b/ \b\b- \b\b\\ \b\b| \b\b/ \b\b- \b\b\\ \b\b| \b\b/ \b\b- \b\b\\ \b\b| \b\bdone\n",
            "Executing transaction: - \b\b\\ \b\b| \b\b/ \b\b- \b\b\\ \b\b| \b\b/ \b\b- \b\b\\ \b\b| \b\b/ \b\b- \b\b\\ \b\b| \b\b/ \b\b- \b\b\\ \b\b| \b\b/ \b\b- \b\b\\ \b\b| \b\b/ By downloading and using the CUDA Toolkit conda packages, you accept the terms and conditions of the CUDA End User License Agreement (EULA): https://docs.nvidia.com/cuda/eula/index.html\n",
            "\n",
            "\b\b- \b\b\\ \b\b| \b\b/ \b\b- \b\b\\ \b\b| \b\b/ \b\b- \b\b\\ \b\b| \b\b/ \b\b- \b\b\\ \b\b| \b\bdone\n"
          ]
        }
      ]
    },
    {
      "cell_type": "markdown",
      "metadata": {
        "id": "G0MqJqOaS4qV"
      },
      "source": [
        "Next, we install the actual GIBS Downloader. You will see some warnings, but they can be ignored."
      ]
    },
    {
      "cell_type": "code",
      "metadata": {
        "id": "w4bLsF-Iz0aG",
        "outputId": "94744350-eee9-4b83-c75b-d000a147cb3e",
        "colab": {
          "base_uri": "https://localhost:8080/",
          "height": 1000
        }
      },
      "source": [
        "# You will need to run this as well just for this colab notebook\n",
        "!pip install ipykernel\n",
        "\n",
        "# Install GIBS Downloader\n",
        "!pip install \"git+https://github.com/spaceml-org/GIBS-Downloader.git#egg=GIBSDownloader\""
      ],
      "execution_count": 2,
      "outputs": [
        {
          "output_type": "stream",
          "name": "stdout",
          "text": [
            "Looking in indexes: https://pypi.org/simple, https://us-python.pkg.dev/colab-wheels/public/simple/\n",
            "Collecting ipykernel\n",
            "  Downloading ipykernel-6.16.2-py3-none-any.whl (138 kB)\n",
            "\u001b[K     |████████████████████████████████| 138 kB 33.2 MB/s \n",
            "\u001b[?25hCollecting tornado>=6.1\n",
            "  Downloading tornado-6.2-cp37-abi3-manylinux_2_5_x86_64.manylinux1_x86_64.manylinux_2_17_x86_64.manylinux2014_x86_64.whl (423 kB)\n",
            "\u001b[K     |████████████████████████████████| 423 kB 77.2 MB/s \n",
            "\u001b[?25hCollecting psutil\n",
            "  Downloading psutil-5.9.3-cp37-cp37m-manylinux_2_12_x86_64.manylinux2010_x86_64.manylinux_2_17_x86_64.manylinux2014_x86_64.whl (291 kB)\n",
            "\u001b[K     |████████████████████████████████| 291 kB 76.6 MB/s \n",
            "\u001b[?25hCollecting matplotlib-inline>=0.1\n",
            "  Downloading matplotlib_inline-0.1.6-py3-none-any.whl (9.4 kB)\n",
            "Collecting jupyter-client>=6.1.12\n",
            "  Downloading jupyter_client-7.4.4-py3-none-any.whl (132 kB)\n",
            "\u001b[K     |████████████████████████████████| 132 kB 77.2 MB/s \n",
            "\u001b[?25hCollecting packaging\n",
            "  Downloading packaging-21.3-py3-none-any.whl (40 kB)\n",
            "\u001b[K     |████████████████████████████████| 40 kB 6.1 MB/s \n",
            "\u001b[?25hCollecting traitlets>=5.1.0\n",
            "  Downloading traitlets-5.5.0-py3-none-any.whl (107 kB)\n",
            "\u001b[K     |████████████████████████████████| 107 kB 79.5 MB/s \n",
            "\u001b[?25hCollecting ipython>=7.23.1\n",
            "  Downloading ipython-7.34.0-py3-none-any.whl (793 kB)\n",
            "\u001b[K     |████████████████████████████████| 793 kB 66.6 MB/s \n",
            "\u001b[?25hCollecting nest-asyncio\n",
            "  Downloading nest_asyncio-1.5.6-py3-none-any.whl (5.2 kB)\n",
            "Collecting debugpy>=1.0\n",
            "  Downloading debugpy-1.6.3-cp37-cp37m-manylinux_2_5_x86_64.manylinux1_x86_64.manylinux_2_12_x86_64.manylinux2010_x86_64.whl (1.8 MB)\n",
            "\u001b[K     |████████████████████████████████| 1.8 MB 73.8 MB/s \n",
            "\u001b[?25hCollecting pyzmq>=17\n",
            "  Downloading pyzmq-24.0.1-cp37-cp37m-manylinux_2_5_x86_64.manylinux1_x86_64.whl (1.1 MB)\n",
            "\u001b[K     |████████████████████████████████| 1.1 MB 71.2 MB/s \n",
            "\u001b[?25hCollecting jedi>=0.16\n",
            "  Downloading jedi-0.18.1-py2.py3-none-any.whl (1.6 MB)\n",
            "\u001b[K     |████████████████████████████████| 1.6 MB 76.9 MB/s \n",
            "\u001b[?25hCollecting pickleshare\n",
            "  Downloading pickleshare-0.7.5-py2.py3-none-any.whl (6.9 kB)\n",
            "Collecting pygments\n",
            "  Downloading Pygments-2.13.0-py3-none-any.whl (1.1 MB)\n",
            "\u001b[K     |████████████████████████████████| 1.1 MB 97.5 MB/s \n",
            "\u001b[?25hCollecting decorator\n",
            "  Downloading decorator-5.1.1-py3-none-any.whl (9.1 kB)\n",
            "Requirement already satisfied: setuptools>=18.5 in /usr/local/lib/python3.7/site-packages (from ipython>=7.23.1->ipykernel) (61.2.0)\n",
            "Collecting pexpect>4.3\n",
            "  Downloading pexpect-4.8.0-py2.py3-none-any.whl (59 kB)\n",
            "\u001b[K     |████████████████████████████████| 59 kB 8.3 MB/s \n",
            "\u001b[?25hCollecting backcall\n",
            "  Downloading backcall-0.2.0-py2.py3-none-any.whl (11 kB)\n",
            "Collecting prompt-toolkit!=3.0.0,!=3.0.1,<3.1.0,>=2.0.0\n",
            "  Downloading prompt_toolkit-3.0.31-py3-none-any.whl (382 kB)\n",
            "\u001b[K     |████████████████████████████████| 382 kB 81.1 MB/s \n",
            "\u001b[?25hCollecting parso<0.9.0,>=0.8.0\n",
            "  Downloading parso-0.8.3-py2.py3-none-any.whl (100 kB)\n",
            "\u001b[K     |████████████████████████████████| 100 kB 16.1 MB/s \n",
            "\u001b[?25hCollecting jupyter-core>=4.9.2\n",
            "  Downloading jupyter_core-4.11.2-py3-none-any.whl (88 kB)\n",
            "\u001b[K     |████████████████████████████████| 88 kB 10.7 MB/s \n",
            "\u001b[?25hCollecting entrypoints\n",
            "  Downloading entrypoints-0.4-py3-none-any.whl (5.3 kB)\n",
            "Collecting python-dateutil>=2.8.2\n",
            "  Downloading python_dateutil-2.8.2-py2.py3-none-any.whl (247 kB)\n",
            "\u001b[K     |████████████████████████████████| 247 kB 101.5 MB/s \n",
            "\u001b[?25hCollecting ptyprocess>=0.5\n",
            "  Downloading ptyprocess-0.7.0-py2.py3-none-any.whl (13 kB)\n",
            "Collecting wcwidth\n",
            "  Downloading wcwidth-0.2.5-py2.py3-none-any.whl (30 kB)\n",
            "Requirement already satisfied: six>=1.5 in /usr/local/lib/python3.7/site-packages (from python-dateutil>=2.8.2->jupyter-client>=6.1.12->ipykernel) (1.16.0)\n",
            "Collecting pyparsing!=3.0.5,>=2.0.2\n",
            "  Downloading pyparsing-3.0.9-py3-none-any.whl (98 kB)\n",
            "\u001b[K     |████████████████████████████████| 98 kB 10.1 MB/s \n",
            "\u001b[?25hInstalling collected packages: wcwidth, traitlets, ptyprocess, parso, tornado, pyzmq, python-dateutil, pyparsing, pygments, prompt-toolkit, pickleshare, pexpect, nest-asyncio, matplotlib-inline, jupyter-core, jedi, entrypoints, decorator, backcall, psutil, packaging, jupyter-client, ipython, debugpy, ipykernel\n",
            "Successfully installed backcall-0.2.0 debugpy-1.6.3 decorator-5.1.1 entrypoints-0.4 ipykernel-6.16.2 ipython-7.34.0 jedi-0.18.1 jupyter-client-7.4.4 jupyter-core-4.11.2 matplotlib-inline-0.1.6 nest-asyncio-1.5.6 packaging-21.3 parso-0.8.3 pexpect-4.8.0 pickleshare-0.7.5 prompt-toolkit-3.0.31 psutil-5.9.3 ptyprocess-0.7.0 pygments-2.13.0 pyparsing-3.0.9 python-dateutil-2.8.2 pyzmq-24.0.1 tornado-6.2 traitlets-5.5.0 wcwidth-0.2.5\n",
            "\u001b[33mWARNING: Running pip as the 'root' user can result in broken permissions and conflicting behaviour with the system package manager. It is recommended to use a virtual environment instead: https://pip.pypa.io/warnings/venv\u001b[0m\n"
          ]
        },
        {
          "output_type": "display_data",
          "data": {
            "application/vnd.colab-display-data+json": {
              "pip_warning": {
                "packages": [
                  "dateutil",
                  "pexpect",
                  "pickleshare",
                  "wcwidth"
                ]
              }
            }
          },
          "metadata": {}
        },
        {
          "output_type": "stream",
          "name": "stdout",
          "text": [
            "Looking in indexes: https://pypi.org/simple, https://us-python.pkg.dev/colab-wheels/public/simple/\n",
            "Collecting GIBSDownloader\n",
            "  Cloning https://github.com/spaceml-org/GIBS-Downloader.git to /tmp/pip-install-5kwlmzty/gibsdownloader_eb0e43a359394a5baab623638ee049a7\n",
            "  Running command git clone -q https://github.com/spaceml-org/GIBS-Downloader.git /tmp/pip-install-5kwlmzty/gibsdownloader_eb0e43a359394a5baab623638ee049a7\n",
            "  Resolved https://github.com/spaceml-org/GIBS-Downloader.git to commit 2e2939ff72b42d4625b9372aaf649ae22559ec37\n",
            "Collecting beautifulsoup4~=4.9.3\n",
            "  Downloading beautifulsoup4-4.9.3-py3-none-any.whl (115 kB)\n",
            "\u001b[K     |████████████████████████████████| 115 kB 30.2 MB/s \n",
            "\u001b[?25hCollecting certifi~=2020.12.5\n",
            "  Downloading certifi-2020.12.5-py2.py3-none-any.whl (147 kB)\n",
            "\u001b[K     |████████████████████████████████| 147 kB 75.5 MB/s \n",
            "\u001b[?25hCollecting cycler~=0.10.0\n",
            "  Downloading cycler-0.10.0-py2.py3-none-any.whl (6.5 kB)\n",
            "Requirement already satisfied: GDAL==3.2.0 in /usr/local/lib/python3.7/site-packages (from GIBSDownloader) (3.2.0)\n",
            "Collecting kiwisolver~=1.3.1\n",
            "  Downloading kiwisolver-1.3.2-cp37-cp37m-manylinux_2_5_x86_64.manylinux1_x86_64.whl (1.1 MB)\n",
            "\u001b[K     |████████████████████████████████| 1.1 MB 99.4 MB/s \n",
            "\u001b[?25hCollecting lxml~=4.6.3\n",
            "  Downloading lxml-4.6.5-cp37-cp37m-manylinux_2_17_x86_64.manylinux2014_x86_64.manylinux_2_24_x86_64.whl (6.3 MB)\n",
            "\u001b[K     |████████████████████████████████| 6.3 MB 52.1 MB/s \n",
            "\u001b[?25hCollecting matplotlib~=3.3.3\n",
            "  Downloading matplotlib-3.3.4-cp37-cp37m-manylinux1_x86_64.whl (11.5 MB)\n",
            "\u001b[K     |████████████████████████████████| 11.5 MB 48.4 MB/s \n",
            "\u001b[?25hCollecting numpy~=1.19.5\n",
            "  Downloading numpy-1.19.5-cp37-cp37m-manylinux2010_x86_64.whl (14.8 MB)\n",
            "\u001b[K     |████████████████████████████████| 14.8 MB 64.9 MB/s \n",
            "\u001b[?25hCollecting opencv-python-headless~=4.5.1.48\n",
            "  Downloading opencv_python_headless-4.5.1.48-cp37-cp37m-manylinux2014_x86_64.whl (37.6 MB)\n",
            "\u001b[K     |████████████████████████████████| 37.6 MB 81 kB/s \n",
            "\u001b[?25hCollecting pandas~=1.2.4\n",
            "  Downloading pandas-1.2.5-cp37-cp37m-manylinux_2_5_x86_64.manylinux1_x86_64.whl (9.9 MB)\n",
            "\u001b[K     |████████████████████████████████| 9.9 MB 64.4 MB/s \n",
            "\u001b[?25hCollecting Pillow~=8.3.2\n",
            "  Downloading Pillow-8.3.2-cp37-cp37m-manylinux_2_17_x86_64.manylinux2014_x86_64.whl (3.0 MB)\n",
            "\u001b[K     |████████████████████████████████| 3.0 MB 64.9 MB/s \n",
            "\u001b[?25hCollecting pyparsing~=2.4.7\n",
            "  Downloading pyparsing-2.4.7-py2.py3-none-any.whl (67 kB)\n",
            "\u001b[K     |████████████████████████████████| 67 kB 8.2 MB/s \n",
            "\u001b[?25hCollecting pyproj~=3.0.0.post1\n",
            "  Downloading pyproj-3.0.1-cp37-cp37m-manylinux2010_x86_64.whl (6.5 MB)\n",
            "\u001b[K     |████████████████████████████████| 6.5 MB 21.6 MB/s \n",
            "\u001b[?25hRequirement already satisfied: python-dateutil~=2.8.1 in /usr/local/lib/python3.7/site-packages (from GIBSDownloader) (2.8.2)\n",
            "Collecting six~=1.15.0\n",
            "  Downloading six-1.15.0-py2.py3-none-any.whl (10 kB)\n",
            "Collecting tqdm~=4.56.0\n",
            "  Downloading tqdm-4.56.2-py2.py3-none-any.whl (72 kB)\n",
            "\u001b[K     |████████████████████████████████| 72 kB 1.6 MB/s \n",
            "\u001b[?25hCollecting soupsieve>1.2\n",
            "  Downloading soupsieve-2.3.2.post1-py3-none-any.whl (37 kB)\n",
            "Collecting pytz>=2017.3\n",
            "  Downloading pytz-2022.5-py2.py3-none-any.whl (500 kB)\n",
            "\u001b[K     |████████████████████████████████| 500 kB 68.7 MB/s \n",
            "\u001b[?25hBuilding wheels for collected packages: GIBSDownloader\n",
            "  Building wheel for GIBSDownloader (setup.py) ... \u001b[?25l\u001b[?25hdone\n",
            "  Created wheel for GIBSDownloader: filename=GIBSDownloader-1.0.0-py3-none-any.whl size=28861 sha256=ff15bb21026c3ce4a896095b925100fd962fa3fc4b945dde465ed3d299ca0826\n",
            "  Stored in directory: /tmp/pip-ephem-wheel-cache-koxh3rzg/wheels/b8/68/bb/07a74e07afaa9cc13c921cde06566fcbec0460225bef229c15\n",
            "Successfully built GIBSDownloader\n",
            "Installing collected packages: six, soupsieve, pytz, pyparsing, Pillow, numpy, kiwisolver, cycler, certifi, tqdm, pyproj, pandas, opencv-python-headless, matplotlib, lxml, beautifulsoup4, GIBSDownloader\n",
            "  Attempting uninstall: six\n",
            "    Found existing installation: six 1.16.0\n",
            "    Uninstalling six-1.16.0:\n",
            "      Successfully uninstalled six-1.16.0\n",
            "  Attempting uninstall: pyparsing\n",
            "    Found existing installation: pyparsing 3.0.9\n",
            "    Uninstalling pyparsing-3.0.9:\n",
            "      Successfully uninstalled pyparsing-3.0.9\n",
            "  Attempting uninstall: numpy\n",
            "    Found existing installation: numpy 1.21.1\n",
            "    Uninstalling numpy-1.21.1:\n",
            "      Successfully uninstalled numpy-1.21.1\n",
            "  Attempting uninstall: certifi\n",
            "    Found existing installation: certifi 2022.9.24\n",
            "    Uninstalling certifi-2022.9.24:\n",
            "      Successfully uninstalled certifi-2022.9.24\n",
            "  Attempting uninstall: tqdm\n",
            "    Found existing installation: tqdm 4.63.0\n",
            "    Uninstalling tqdm-4.63.0:\n",
            "      Successfully uninstalled tqdm-4.63.0\n",
            "Successfully installed GIBSDownloader-1.0.0 Pillow-8.3.2 beautifulsoup4-4.9.3 certifi-2020.12.5 cycler-0.10.0 kiwisolver-1.3.2 lxml-4.6.5 matplotlib-3.3.4 numpy-1.19.5 opencv-python-headless-4.5.1.48 pandas-1.2.5 pyparsing-2.4.7 pyproj-3.0.1 pytz-2022.5 six-1.15.0 soupsieve-2.3.2.post1 tqdm-4.56.2\n",
            "\u001b[33mWARNING: Running pip as the 'root' user can result in broken permissions and conflicting behaviour with the system package manager. It is recommended to use a virtual environment instead: https://pip.pypa.io/warnings/venv\u001b[0m\n"
          ]
        },
        {
          "output_type": "display_data",
          "data": {
            "application/vnd.colab-display-data+json": {
              "pip_warning": {
                "packages": [
                  "six"
                ]
              }
            }
          },
          "metadata": {}
        }
      ]
    },
    {
      "cell_type": "markdown",
      "metadata": {
        "id": "13pXv5_a6-xg"
      },
      "source": [
        "### Installing TensorFlow\n",
        "If you wish to generate TFRecords, then you will need to install TensorFlow as well"
      ]
    },
    {
      "cell_type": "code",
      "metadata": {
        "id": "W2eF71MA6Z4J",
        "outputId": "aa25b3c2-47cb-44b5-82af-ea886812e50b",
        "colab": {
          "base_uri": "https://localhost:8080/"
        }
      },
      "source": [
        "# If you want to generate TFRecords:\n",
        "!pip install tensorflow==2.5.0"
      ],
      "execution_count": null,
      "outputs": [
        {
          "output_type": "stream",
          "name": "stdout",
          "text": [
            "Looking in indexes: https://pypi.org/simple, https://us-python.pkg.dev/colab-wheels/public/simple/\n",
            "Collecting tensorflow==2.5.0\n",
            "  Downloading tensorflow-2.5.0-cp37-cp37m-manylinux2010_x86_64.whl (454.3 MB)\n",
            "\u001b[K     |████████████████████████████████| 454.3 MB 15 kB/s \n",
            "\u001b[?25hCollecting typing-extensions~=3.7.4\n",
            "  Downloading typing_extensions-3.7.4.3-py3-none-any.whl (22 kB)\n",
            "Collecting keras-nightly~=2.5.0.dev\n",
            "  Downloading keras_nightly-2.5.0.dev2021032900-py2.py3-none-any.whl (1.2 MB)\n",
            "\u001b[K     |████████████████████████████████| 1.2 MB 44.1 MB/s \n",
            "\u001b[?25hCollecting google-pasta~=0.2\n",
            "  Downloading google_pasta-0.2.0-py3-none-any.whl (57 kB)\n",
            "\u001b[K     |████████████████████████████████| 57 kB 6.1 MB/s \n",
            "\u001b[?25hRequirement already satisfied: six~=1.15.0 in /usr/local/lib/python3.7/site-packages (from tensorflow==2.5.0) (1.15.0)\n",
            "Collecting h5py~=3.1.0\n",
            "  Downloading h5py-3.1.0-cp37-cp37m-manylinux1_x86_64.whl (4.0 MB)\n",
            "\u001b[K     |████████████████████████████████| 4.0 MB 46.8 MB/s \n",
            "\u001b[?25hCollecting termcolor~=1.1.0\n",
            "  Downloading termcolor-1.1.0.tar.gz (3.9 kB)\n",
            "Collecting gast==0.4.0\n",
            "  Downloading gast-0.4.0-py3-none-any.whl (9.8 kB)\n",
            "Collecting flatbuffers~=1.12.0\n",
            "  Downloading flatbuffers-1.12-py2.py3-none-any.whl (15 kB)\n",
            "Collecting opt-einsum~=3.3.0\n",
            "  Downloading opt_einsum-3.3.0-py3-none-any.whl (65 kB)\n",
            "\u001b[K     |████████████████████████████████| 65 kB 4.3 MB/s \n",
            "\u001b[?25hRequirement already satisfied: wheel~=0.35 in /usr/local/lib/python3.7/site-packages (from tensorflow==2.5.0) (0.37.1)\n",
            "Requirement already satisfied: numpy~=1.19.2 in /usr/local/lib/python3.7/site-packages (from tensorflow==2.5.0) (1.19.5)\n",
            "Collecting tensorflow-estimator<2.6.0,>=2.5.0rc0\n",
            "  Downloading tensorflow_estimator-2.5.0-py2.py3-none-any.whl (462 kB)\n",
            "\u001b[K     |████████████████████████████████| 462 kB 78.1 MB/s \n",
            "\u001b[?25hCollecting absl-py~=0.10\n",
            "  Downloading absl_py-0.15.0-py3-none-any.whl (132 kB)\n",
            "\u001b[K     |████████████████████████████████| 132 kB 65.6 MB/s \n",
            "\u001b[?25hCollecting grpcio~=1.34.0\n",
            "  Downloading grpcio-1.34.1-cp37-cp37m-manylinux2014_x86_64.whl (4.0 MB)\n",
            "\u001b[K     |████████████████████████████████| 4.0 MB 43.3 MB/s \n",
            "\u001b[?25hCollecting astunparse~=1.6.3\n",
            "  Downloading astunparse-1.6.3-py2.py3-none-any.whl (12 kB)\n",
            "Collecting tensorboard~=2.5\n",
            "  Downloading tensorboard-2.10.1-py3-none-any.whl (5.9 MB)\n",
            "\u001b[K     |████████████████████████████████| 5.9 MB 59.9 MB/s \n",
            "\u001b[?25hCollecting wrapt~=1.12.1\n",
            "  Downloading wrapt-1.12.1.tar.gz (27 kB)\n",
            "Collecting keras-preprocessing~=1.1.2\n",
            "  Downloading Keras_Preprocessing-1.1.2-py2.py3-none-any.whl (42 kB)\n",
            "\u001b[K     |████████████████████████████████| 42 kB 1.2 MB/s \n",
            "\u001b[?25hCollecting protobuf>=3.9.2\n",
            "  Downloading protobuf-4.21.9-cp37-abi3-manylinux2014_x86_64.whl (408 kB)\n",
            "\u001b[K     |████████████████████████████████| 408 kB 55.5 MB/s \n",
            "\u001b[?25hCollecting cached-property\n",
            "  Downloading cached_property-1.5.2-py2.py3-none-any.whl (7.6 kB)\n",
            "Collecting werkzeug>=1.0.1\n",
            "  Downloading Werkzeug-2.2.2-py3-none-any.whl (232 kB)\n",
            "\u001b[K     |████████████████████████████████| 232 kB 63.6 MB/s \n",
            "\u001b[?25hCollecting tensorboard-data-server<0.7.0,>=0.6.0\n",
            "  Downloading tensorboard_data_server-0.6.1-py3-none-manylinux2010_x86_64.whl (4.9 MB)\n",
            "\u001b[K     |████████████████████████████████| 4.9 MB 53.6 MB/s \n",
            "\u001b[?25hCollecting google-auth-oauthlib<0.5,>=0.4.1\n",
            "  Downloading google_auth_oauthlib-0.4.6-py2.py3-none-any.whl (18 kB)\n",
            "Collecting protobuf>=3.9.2\n",
            "  Downloading protobuf-3.19.6-cp37-cp37m-manylinux_2_17_x86_64.manylinux2014_x86_64.whl (1.1 MB)\n",
            "\u001b[K     |████████████████████████████████| 1.1 MB 68.5 MB/s \n",
            "\u001b[?25hCollecting tensorboard-plugin-wit>=1.6.0\n",
            "  Downloading tensorboard_plugin_wit-1.8.1-py3-none-any.whl (781 kB)\n",
            "\u001b[K     |████████████████████████████████| 781 kB 62.6 MB/s \n",
            "\u001b[?25hCollecting markdown>=2.6.8\n",
            "  Downloading Markdown-3.4.1-py3-none-any.whl (93 kB)\n",
            "\u001b[K     |████████████████████████████████| 93 kB 1.9 MB/s \n",
            "\u001b[?25hCollecting google-auth<3,>=1.6.3\n",
            "  Downloading google_auth-2.13.0-py2.py3-none-any.whl (174 kB)\n",
            "\u001b[K     |████████████████████████████████| 174 kB 49.2 MB/s \n",
            "\u001b[?25hRequirement already satisfied: setuptools>=41.0.0 in /usr/local/lib/python3.7/site-packages (from tensorboard~=2.5->tensorflow==2.5.0) (61.2.0)\n",
            "Requirement already satisfied: requests<3,>=2.21.0 in /usr/local/lib/python3.7/site-packages (from tensorboard~=2.5->tensorflow==2.5.0) (2.27.1)\n",
            "Collecting pyasn1-modules>=0.2.1\n",
            "  Downloading pyasn1_modules-0.2.8-py2.py3-none-any.whl (155 kB)\n",
            "\u001b[K     |████████████████████████████████| 155 kB 77.6 MB/s \n",
            "\u001b[?25hCollecting cachetools<6.0,>=2.0.0\n",
            "  Downloading cachetools-5.2.0-py3-none-any.whl (9.3 kB)\n",
            "Collecting rsa<5,>=3.1.4\n",
            "  Downloading rsa-4.9-py3-none-any.whl (34 kB)\n",
            "Collecting requests-oauthlib>=0.7.0\n",
            "  Downloading requests_oauthlib-1.3.1-py2.py3-none-any.whl (23 kB)\n",
            "Collecting importlib-metadata>=4.4\n",
            "  Downloading importlib_metadata-5.0.0-py3-none-any.whl (21 kB)\n",
            "Collecting zipp>=0.5\n",
            "  Downloading zipp-3.10.0-py3-none-any.whl (6.2 kB)\n",
            "Collecting pyasn1<0.5.0,>=0.4.6\n",
            "  Downloading pyasn1-0.4.8-py2.py3-none-any.whl (77 kB)\n",
            "\u001b[K     |████████████████████████████████| 77 kB 7.2 MB/s \n",
            "\u001b[?25hRequirement already satisfied: charset-normalizer~=2.0.0 in /usr/local/lib/python3.7/site-packages (from requests<3,>=2.21.0->tensorboard~=2.5->tensorflow==2.5.0) (2.0.4)\n",
            "Requirement already satisfied: certifi>=2017.4.17 in /usr/local/lib/python3.7/site-packages (from requests<3,>=2.21.0->tensorboard~=2.5->tensorflow==2.5.0) (2020.12.5)\n",
            "Requirement already satisfied: urllib3<1.27,>=1.21.1 in /usr/local/lib/python3.7/site-packages (from requests<3,>=2.21.0->tensorboard~=2.5->tensorflow==2.5.0) (1.26.8)\n",
            "Requirement already satisfied: idna<4,>=2.5 in /usr/local/lib/python3.7/site-packages (from requests<3,>=2.21.0->tensorboard~=2.5->tensorflow==2.5.0) (3.3)\n",
            "Collecting oauthlib>=3.0.0\n",
            "  Downloading oauthlib-3.2.2-py3-none-any.whl (151 kB)\n",
            "\u001b[K     |████████████████████████████████| 151 kB 69.8 MB/s \n",
            "\u001b[?25hCollecting MarkupSafe>=2.1.1\n",
            "  Downloading MarkupSafe-2.1.1-cp37-cp37m-manylinux_2_17_x86_64.manylinux2014_x86_64.whl (25 kB)\n",
            "Building wheels for collected packages: termcolor, wrapt\n",
            "  Building wheel for termcolor (setup.py) ... \u001b[?25l\u001b[?25hdone\n",
            "  Created wheel for termcolor: filename=termcolor-1.1.0-py3-none-any.whl size=4848 sha256=a3981f330aed242d58432c97136e592263d0893183294691317447bfdd78af9f\n",
            "  Stored in directory: /root/.cache/pip/wheels/3f/e3/ec/8a8336ff196023622fbcb36de0c5a5c218cbb24111d1d4c7f2\n",
            "  Building wheel for wrapt (setup.py) ... \u001b[?25l\u001b[?25hdone\n",
            "  Created wheel for wrapt: filename=wrapt-1.12.1-cp37-cp37m-linux_x86_64.whl size=70976 sha256=d3fd7a8fd2a042fb581dcf375493429caca38a55903215641de4cff2219d7efd\n",
            "  Stored in directory: /root/.cache/pip/wheels/62/76/4c/aa25851149f3f6d9785f6c869387ad82b3fd37582fa8147ac6\n",
            "Successfully built termcolor wrapt\n",
            "Installing collected packages: pyasn1, zipp, typing-extensions, rsa, pyasn1-modules, oauthlib, cachetools, requests-oauthlib, MarkupSafe, importlib-metadata, google-auth, werkzeug, tensorboard-plugin-wit, tensorboard-data-server, protobuf, markdown, grpcio, google-auth-oauthlib, cached-property, absl-py, wrapt, termcolor, tensorflow-estimator, tensorboard, opt-einsum, keras-preprocessing, keras-nightly, h5py, google-pasta, gast, flatbuffers, astunparse, tensorflow\n",
            "Successfully installed MarkupSafe-2.1.1 absl-py-0.15.0 astunparse-1.6.3 cached-property-1.5.2 cachetools-5.2.0 flatbuffers-1.12 gast-0.4.0 google-auth-2.13.0 google-auth-oauthlib-0.4.6 google-pasta-0.2.0 grpcio-1.34.1 h5py-3.1.0 importlib-metadata-5.0.0 keras-nightly-2.5.0.dev2021032900 keras-preprocessing-1.1.2 markdown-3.4.1 oauthlib-3.2.2 opt-einsum-3.3.0 protobuf-3.19.6 pyasn1-0.4.8 pyasn1-modules-0.2.8 requests-oauthlib-1.3.1 rsa-4.9 tensorboard-2.10.1 tensorboard-data-server-0.6.1 tensorboard-plugin-wit-1.8.1 tensorflow-2.5.0 tensorflow-estimator-2.5.0 termcolor-1.1.0 typing-extensions-3.7.4.3 werkzeug-2.2.2 wrapt-1.12.1 zipp-3.10.0\n",
            "\u001b[33mWARNING: Running pip as the 'root' user can result in broken permissions and conflicting behaviour with the system package manager. It is recommended to use a virtual environment instead: https://pip.pypa.io/warnings/venv\u001b[0m\n"
          ]
        }
      ]
    },
    {
      "cell_type": "markdown",
      "metadata": {
        "id": "a3gXFLC1TZHg"
      },
      "source": [
        "We are now ready to make use of GIBS Downloader and all of its features!"
      ]
    },
    {
      "cell_type": "markdown",
      "metadata": {
        "id": "dtFwzUc77e-a"
      },
      "source": [
        "# Using GIBS Downloader\n",
        "\n",
        "Let's break down the example in the README"
      ]
    },
    {
      "cell_type": "code",
      "metadata": {
        "id": "COkeX-skuo86"
      },
      "source": [
        "# Simply download images of this region covering this range of dates (2020-09-15 to 2020-09-30)\n",
        "!gdl 2020-09-15 2020-09-30 \"37.003277, -124.328539\" \"40.353784, -120.253964\""
      ],
      "execution_count": null,
      "outputs": []
    },
    {
      "cell_type": "code",
      "metadata": {
        "id": "A35UOpnoyw4f"
      },
      "source": [
        "# Check that the images have been downloaded\n",
        "%ls"
      ],
      "execution_count": null,
      "outputs": []
    },
    {
      "cell_type": "markdown",
      "metadata": {
        "id": "er7j1NtpUlEA"
      },
      "source": [
        "The images have been downloaded. What else can we do with them?"
      ]
    },
    {
      "cell_type": "markdown",
      "metadata": {
        "id": "z62bXz7NV4oi"
      },
      "source": [
        "#### Tiling"
      ]
    },
    {
      "cell_type": "code",
      "metadata": {
        "id": "tdxTFZ6lUtix"
      },
      "source": [
        "# Break the downloaded images into 256x256 tiles WITH multiprocessing.\n",
        "# Note that the download command looks almost the same as the previous, except for the new flags.\n",
        "# The downloader will first check to see if that region and range of dates has been downloaded already before it downloads the same images twice.\n",
        "# When we run this cell after the prior, we will skip directly to tiling the downloaded images.\n",
        "!gdl 2020-09-15 2020-09-30 \"37.003277, -124.328539\" \"40.353784, -120.253964\" --tile=true --tile-width=256 --tile-height=256 --mp=true"
      ],
      "execution_count": null,
      "outputs": []
    },
    {
      "cell_type": "markdown",
      "metadata": {
        "id": "vJciBFNsV7OM"
      },
      "source": [
        "#### TFRecord writing\n",
        "\n",
        "TFRecords is a binary file format can be used in efficient machine learning pipelines. We generate them with one flag which enables high performance machine training. (Autoencoder Colab notebook which utilizes TFRecords will be soon released) "
      ]
    },
    {
      "cell_type": "code",
      "metadata": {
        "id": "uEnqGB5eWBKh"
      },
      "source": [
        "# In order to generate TFRecords, we specify which tile sizes we would like to turn into TFRecords\n",
        "# Like with downloading the original images, if the specified tile size already exists, we use the already generated tiles\n",
        "# If the tiles do not exist, we create them\n",
        "!gdl 2020-09-15 2020-09-30 \"37.003277, -124.328539\" \"40.353784, -120.253964\" --tile=true --tile-width=256 --tile-height=256 --mp=true --gen-tfrecords=true"
      ],
      "execution_count": null,
      "outputs": []
    },
    {
      "cell_type": "markdown",
      "metadata": {
        "id": "KyZITjhtYQ8i"
      },
      "source": [
        "#### Animation\n",
        "\n",
        "With one additional flag, we can bring out images to life by generating a timelapse-style video."
      ]
    },
    {
      "cell_type": "code",
      "metadata": {
        "id": "hz9i6p9eYRP9"
      },
      "source": [
        "!gdl 2020-09-15 2020-09-30 \"37.003277, -124.328539\" \"40.353784, -120.253964\" --animate=true"
      ],
      "execution_count": null,
      "outputs": []
    },
    {
      "cell_type": "markdown",
      "metadata": {
        "id": "fjuXbdiMzTwd"
      },
      "source": [
        "### Product Search\n",
        "\n",
        "How about other kinds of imagery products? We can search for certain products by keywords with the same command. \n",
        "\n",
        "\n",
        "Let's say we would like to download imagery of the population density of northeastern United States. We can search for a matching product as follows:"
      ]
    },
    {
      "cell_type": "code",
      "metadata": {
        "id": "Tilv34STzwtw"
      },
      "source": [
        "!gdl 2020-09-15 2020-09-15 \"33.33220194089801, -116.2071864542481\" \"47.13878705347208, -66.28531296463223\" --name=\"population density\""
      ],
      "execution_count": null,
      "outputs": []
    },
    {
      "cell_type": "code",
      "source": [],
      "metadata": {
        "id": "Lv1uMGOAHkHE"
      },
      "execution_count": null,
      "outputs": []
    },
    {
      "cell_type": "markdown",
      "metadata": {
        "id": "iVkN6pfp5Xz9"
      },
      "source": [
        "We can now copy the valid product name for 2020 from the prior cell's output and download population density images"
      ]
    },
    {
      "cell_type": "code",
      "metadata": {
        "id": "MEUvpeCQ5gnz",
        "colab": {
          "base_uri": "https://localhost:8080/"
        },
        "outputId": "30425863-b8b0-4ad1-8890-ac4feec65b1e"
      },
      "source": [
        "!gdl 2020-07-15 2020-09-15 \"14.2191,120.8264\" \"14.4397,121.047\" --name=\"Landsat_Global_Man-made_Impervious_Surface\"\n",
        "\n",
        "# '14.2191,120.8264,14.4397,121.047'"
      ],
      "execution_count": 4,
      "outputs": [
        {
          "output_type": "stream",
          "name": "stdout",
          "text": [
            "GIBSDownloader : Downloading: 2020-07-15\n",
            "Input file size is 1310720, 655360\n",
            "0...10...20...30...40...50...60...70...80...90...100 - done.\n",
            "GIBSDownloader : Downloading: 2020-07-16\n",
            "Input file size is 1310720, 655360\n",
            "0...10...20...30...40...50...60...70...80...90...100 - done.\n",
            "GIBSDownloader : Downloading: 2020-07-17\n",
            "Input file size is 1310720, 655360\n",
            "0...10...20...30...40...50...60...70...80...90...100 - done.\n",
            "GIBSDownloader : Downloading: 2020-07-18\n",
            "Input file size is 1310720, 655360\n",
            "0...10...20...30...40...50...60...70...80...90...100 - done.\n",
            "GIBSDownloader : Downloading: 2020-07-19\n",
            "Input file size is 1310720, 655360\n",
            "0...10...20...30...40...50...60...70...80...90...100 - done.\n",
            "GIBSDownloader : Downloading: 2020-07-20\n",
            "Input file size is 1310720, 655360\n",
            "0...10...20...30...40...50...60...70...80...90...100 - done.\n",
            "GIBSDownloader : Downloading: 2020-07-21\n",
            "Input file size is 1310720, 655360\n",
            "0...10...20...30...40...50...60...70...80...90...100 - done.\n",
            "GIBSDownloader : Downloading: 2020-07-22\n",
            "Input file size is 1310720, 655360\n",
            "0...10...20...30...40...50...60...70...80...90...100 - done.\n",
            "GIBSDownloader : Downloading: 2020-07-23\n",
            "Input file size is 1310720, 655360\n",
            "0...10...20...30...40...50...60...70...80...90...100 - done.\n",
            "GIBSDownloader : Downloading: 2020-07-24\n",
            "Input file size is 1310720, 655360\n",
            "0...10...20...30...40...50...60...70...80...90...100 - done.\n",
            "GIBSDownloader : Downloading: 2020-07-25\n",
            "Input file size is 1310720, 655360\n",
            "0...10...20...30...40...50...60...70...80...90...100 - done.\n",
            "GIBSDownloader : Downloading: 2020-07-26\n",
            "Input file size is 1310720, 655360\n",
            "0...10...20...30...40...50...60...70...80...90...100 - done.\n",
            "GIBSDownloader : Downloading: 2020-07-27\n",
            "Input file size is 1310720, 655360\n",
            "0...10...20...30...40...50...60...70...80...90...100 - done.\n",
            "GIBSDownloader : Downloading: 2020-07-28\n",
            "Input file size is 1310720, 655360\n",
            "0...10...20...30...40...50...60...70...80...90...100 - done.\n",
            "GIBSDownloader : Downloading: 2020-07-29\n",
            "Input file size is 1310720, 655360\n",
            "0...10...20...30...40...50...60...70...80...90...100 - done.\n",
            "GIBSDownloader : Downloading: 2020-07-30\n",
            "Input file size is 1310720, 655360\n",
            "0...10...20...30...40...50...60...70...80...90...100 - done.\n",
            "GIBSDownloader : Downloading: 2020-07-31\n",
            "Input file size is 1310720, 655360\n",
            "0...10...20...30...40...50...60...70...80...90...100 - done.\n",
            "GIBSDownloader : Downloading: 2020-08-01\n",
            "Input file size is 1310720, 655360\n",
            "0...10...20...30...40...50...60...70...80...90...100 - done.\n",
            "GIBSDownloader : Downloading: 2020-08-02\n",
            "Input file size is 1310720, 655360\n",
            "0...10...20...30...40...50...60...70...80...90...100 - done.\n",
            "GIBSDownloader : Downloading: 2020-08-03\n",
            "Input file size is 1310720, 655360\n",
            "0...10...20...30...40...50...60...70...80...90...100 - done.\n",
            "GIBSDownloader : Downloading: 2020-08-04\n",
            "Input file size is 1310720, 655360\n",
            "0...10...20...30...40...50...60...70...80...90...100 - done.\n",
            "GIBSDownloader : Downloading: 2020-08-05\n",
            "Input file size is 1310720, 655360\n",
            "0...10...20...30...40...50...60...70...80...90...100 - done.\n",
            "GIBSDownloader : Downloading: 2020-08-06\n",
            "Input file size is 1310720, 655360\n",
            "0...10...20...30...40...50...60...70...80...90...100 - done.\n",
            "GIBSDownloader : Downloading: 2020-08-07\n",
            "Input file size is 1310720, 655360\n",
            "0...10...20...30...40...50...60...70...80...90...100 - done.\n",
            "GIBSDownloader : Downloading: 2020-08-08\n",
            "Input file size is 1310720, 655360\n",
            "0...10...20...30...40...50...60...70...80...90...100 - done.\n",
            "GIBSDownloader : Downloading: 2020-08-09\n",
            "Input file size is 1310720, 655360\n",
            "0...10...20...30...40...50...60...70...80...90...100 - done.\n",
            "GIBSDownloader : Downloading: 2020-08-10\n",
            "Input file size is 1310720, 655360\n",
            "0...10...20...30...40...50...60...70...80...90...100 - done.\n",
            "GIBSDownloader : Downloading: 2020-08-11\n",
            "Input file size is 1310720, 655360\n",
            "0...10...20...30...40...50...60...70...80...90...100 - done.\n",
            "GIBSDownloader : Downloading: 2020-08-12\n",
            "Input file size is 1310720, 655360\n",
            "0...10...20...30...40...50...60...70...80...90...100 - done.\n",
            "GIBSDownloader : Downloading: 2020-08-13\n",
            "Input file size is 1310720, 655360\n",
            "0...10...20...30...40...50...60...70...80...90...100 - done.\n",
            "GIBSDownloader : Downloading: 2020-08-14\n",
            "Input file size is 1310720, 655360\n",
            "0...10...20...30...40...50...60...70...80...90...100 - done.\n",
            "GIBSDownloader : Downloading: 2020-08-15\n",
            "Input file size is 1310720, 655360\n",
            "0...10...20...30...40...50...60...70...80...90...100 - done.\n",
            "GIBSDownloader : Downloading: 2020-08-16\n",
            "Input file size is 1310720, 655360\n",
            "0...10...20...30...40...50...60...70...80...90...100 - done.\n",
            "GIBSDownloader : Downloading: 2020-08-17\n",
            "Input file size is 1310720, 655360\n",
            "0...10...20...30...40...50...60...70...80...90...100 - done.\n",
            "GIBSDownloader : Downloading: 2020-08-18\n",
            "Input file size is 1310720, 655360\n",
            "0...10...20...30...40...50...60...70...80...90...100 - done.\n",
            "GIBSDownloader : Downloading: 2020-08-19\n",
            "Input file size is 1310720, 655360\n",
            "0...10...20...30...40...50...60...70...80...90...100 - done.\n",
            "GIBSDownloader : Downloading: 2020-08-20\n",
            "Input file size is 1310720, 655360\n",
            "0...10...20...30...40...50...60...70...80...90...100 - done.\n",
            "GIBSDownloader : Downloading: 2020-08-21\n",
            "Input file size is 1310720, 655360\n",
            "0...10...20...30...40...50...60...70...80...90...100 - done.\n",
            "GIBSDownloader : Downloading: 2020-08-22\n",
            "Input file size is 1310720, 655360\n",
            "0...10...20...30...40...50...60...70...80...90...100 - done.\n",
            "GIBSDownloader : Downloading: 2020-08-23\n",
            "Input file size is 1310720, 655360\n",
            "0...10...20...30...40...50...60...70...80...90...100 - done.\n",
            "GIBSDownloader : Downloading: 2020-08-24\n",
            "Input file size is 1310720, 655360\n",
            "0...10...20...30...40...50...60...70...80...90...100 - done.\n",
            "GIBSDownloader : Downloading: 2020-08-25\n",
            "Input file size is 1310720, 655360\n",
            "0...10...20...30...40...50...60...70...80...90...100 - done.\n",
            "GIBSDownloader : Downloading: 2020-08-26\n",
            "Input file size is 1310720, 655360\n",
            "0...10...20...30...40...50...60...70...80...90...100 - done.\n",
            "GIBSDownloader : Downloading: 2020-08-27\n",
            "Input file size is 1310720, 655360\n",
            "0...10...20...30...40...50...60...70...80...90...100 - done.\n",
            "GIBSDownloader : Downloading: 2020-08-28\n",
            "Input file size is 1310720, 655360\n",
            "0...10...20...30...40...50...60...70...80...90...100 - done.\n",
            "GIBSDownloader : Downloading: 2020-08-29\n",
            "Input file size is 1310720, 655360\n",
            "0...10...20...30...40...50...60...70...80...90...100 - done.\n",
            "GIBSDownloader : Downloading: 2020-08-30\n",
            "Input file size is 1310720, 655360\n",
            "0...10...20...30...40...50...60...70...80...90...100 - done.\n",
            "GIBSDownloader : Downloading: 2020-08-31\n",
            "Input file size is 1310720, 655360\n",
            "0...10...20...30...40...50...60...70...80...90...100 - done.\n",
            "GIBSDownloader : Downloading: 2020-09-01\n",
            "Input file size is 1310720, 655360\n",
            "0...10...20...30...40...50...60...70...80...90...100 - done.\n",
            "GIBSDownloader : Downloading: 2020-09-02\n",
            "Input file size is 1310720, 655360\n",
            "0...10...20...30...40...50...60...70...80...90...100 - done.\n",
            "GIBSDownloader : Downloading: 2020-09-03\n",
            "Input file size is 1310720, 655360\n",
            "0...10...20...30...40...50...60...70...80...90...100 - done.\n",
            "GIBSDownloader : Downloading: 2020-09-04\n",
            "Input file size is 1310720, 655360\n",
            "0...10...20...30...40...50...60...70...80...90...100 - done.\n",
            "GIBSDownloader : Downloading: 2020-09-05\n",
            "Input file size is 1310720, 655360\n",
            "0...10...20...30...40...50...60...70...80...90...100 - done.\n",
            "GIBSDownloader : Downloading: 2020-09-06\n",
            "Input file size is 1310720, 655360\n",
            "0...10...20...30...40...50...60...70...80...90...100 - done.\n",
            "GIBSDownloader : Downloading: 2020-09-07\n",
            "Input file size is 1310720, 655360\n",
            "0...10...20...30...40...50...60...70...80...90...100 - done.\n",
            "GIBSDownloader : Downloading: 2020-09-08\n",
            "Input file size is 1310720, 655360\n",
            "0...10...20...30...40...50...60...70...80...90...100 - done.\n",
            "GIBSDownloader : Downloading: 2020-09-09\n",
            "Input file size is 1310720, 655360\n",
            "0...10...20...30...40...50...60...70...80...90...100 - done.\n",
            "GIBSDownloader : Downloading: 2020-09-10\n",
            "Input file size is 1310720, 655360\n",
            "0...10...20...30...40...50...60...70...80...90...100 - done.\n",
            "GIBSDownloader : Downloading: 2020-09-11\n",
            "Input file size is 1310720, 655360\n",
            "0...10...20...30...40...50...60...70...80...90...100 - done.\n",
            "GIBSDownloader : Downloading: 2020-09-12\n",
            "Input file size is 1310720, 655360\n",
            "0...10...20...30...40...50...60...70...80...90...100 - done.\n",
            "GIBSDownloader : Downloading: 2020-09-13\n",
            "Input file size is 1310720, 655360\n",
            "0...10...20...30...40...50...60...70...80...90...100 - done.\n",
            "GIBSDownloader : Downloading: 2020-09-14\n",
            "Input file size is 1310720, 655360\n",
            "0...10...20...30...40...50...60...70...80...90...100 - done.\n",
            "GIBSDownloader : Downloading: 2020-09-15\n",
            "Input file size is 1310720, 655360\n",
            "0...10...20...30...40...50...60...70...80...90...100 - done.\n",
            "GIBSDownloader : The region and set of dates have been downloaded\n"
          ]
        }
      ]
    },
    {
      "cell_type": "code",
      "metadata": {
        "id": "eCaBFZUZ5rz2",
        "colab": {
          "base_uri": "https://localhost:8080/",
          "height": 269
        },
        "outputId": "a7964989-7d79-4e89-c479-8fa86906c9c2"
      },
      "source": [
        "import matplotlib.pyplot as plt\n",
        "import matplotlib.image as mpimg\n",
        "img = plt.imread('Landsat-Global-Man-made-Impervious-Surface_14.22_120.83_14.44_121.05_20200715-20200915/original_images/Landsat-Global-Man-made-Impervious-Surface_2020-07-15.png')\n",
        "imgplot = plt.imshow(img)\n",
        "plt.show()\n",
        "\n",
        "# '14.2191,120.8264,14.4397,121.047' extract the levels"
      ],
      "execution_count": 5,
      "outputs": [
        {
          "output_type": "display_data",
          "data": {
            "text/plain": [
              "<Figure size 432x288 with 1 Axes>"
            ],
            "image/png": "[encoded data removed]"
          },
          "metadata": {
            "needs_background": "light"
          }
        }
      ]
    },
    {
      "cell_type": "markdown",
      "metadata": {
        "id": "P4Vuk2wXx66n"
      },
      "source": [
        "Congratulations, you are now ready to begin acquiring NASA imagery for all of your Earth science needs with just one line!"
      ]
    }
  ]
}