{
 "cells": [
  {
   "cell_type": "markdown",
   "metadata": {},
   "source": [
    "Codes from Demo.ipynb Located at Main Repo"
   ]
  },
  {
   "cell_type": "code",
   "execution_count": 1,
   "metadata": {},
   "outputs": [],
   "source": [
    "import aedes"
   ]
  },
  {
   "cell_type": "code",
   "execution_count": 3,
   "metadata": {},
   "outputs": [],
   "source": [
    "from aedes.remote_sensing_utils import df_to_ee_points, generate_random_ee_points\n",
    "from aedes.remote_sensing_utils import visualize_on_map, get_satellite_measures_from_points\n",
    "from aedes.automl_utils import perform_clustering\n",
    "from aedes.osm_utils import initialize_OSM_network, get_OSM_network_data, reverse_geocode_points, reverse_geocode_center_of_geojson"
   ]
  },
  {
   "cell_type": "code",
   "execution_count": 9,
   "metadata": {},
   "outputs": [],
   "source": [
    "import datetime\n",
    "import pandas as pd\n",
    "pd.options.display.max_rows = 999\n",
    "pd.options.display.max_columns = 999"
   ]
  },
  {
   "cell_type": "markdown",
   "metadata": {},
   "source": [
    "## Remote Sensing"
   ]
  },
  {
   "cell_type": "code",
   "execution_count": 4,
   "metadata": {},
   "outputs": [],
   "source": [
    "# initialize AEDES\n",
    "aedes.remote_sensing_utils.initialize()"
   ]
  },
  {
   "cell_type": "code",
   "execution_count": 6,
   "metadata": {},
   "outputs": [],
   "source": [
    "# Location : QC\n",
    "aoi_geojson = [[\n",
    "                [120.98976275,14.58936896],\n",
    "                [121.13383232,14.58936896],\n",
    "                [121.13383232,14.77641364],\n",
    "                [120.98976275,14.77641364],\n",
    "                [120.98976275,14.58936896]\n",
    "]]"
   ]
  },
  {
   "cell_type": "code",
   "execution_count": 7,
   "metadata": {},
   "outputs": [],
   "source": [
    "# Sample long lat points and get satellite remote sensing data\n",
    "points = generate_random_ee_points(aoi_geojson, sample_points=5)"
   ]
  },
  {
   "cell_type": "markdown",
   "metadata": {},
   "source": [
    "Function generate_random_ee_points generates random points from a box boundary. There is no support for string location input."
   ]
  },
  {
   "cell_type": "code",
   "execution_count": 10,
   "metadata": {},
   "outputs": [
    {
     "name": "stdout",
     "output_type": "stream",
     "text": [
      "Wall time: 37.6 s\n"
     ]
    }
   ],
   "source": [
    "# Sample long lat points and get satellite remote sensing data\n",
    "points = generate_random_ee_points(aoi_geojson, sample_points=5)\n",
    "%time satellite_df = get_satellite_measures_from_points(points, aoi_geojson)\n",
    "\n",
    "clustering_model = perform_clustering(satellite_df, n_clusters=3)\n",
    "satellite_df['labels'] = pd.Series(clustering_model.labels_)\n",
    "\n",
    "mapper = visualize_on_map(satellite_df, ignore_labels=[1])\n"
   ]
  },
  {
   "cell_type": "markdown",
   "metadata": {},
   "source": [
    "Collecting data from satellite takes quite a while, 37.6 sec for just 5 points."
   ]
  },
  {
   "cell_type": "code",
   "execution_count": 11,
   "metadata": {},
   "outputs": [
    {
     "data": {
      "text/html": [
       "<div style=\"width:100%;\"><div style=\"position:relative;width:100%;height:0;padding-bottom:60%;\"><span style=\"color:#565656\">Make this Notebook Trusted to load map: File -> Trust Notebook</span><iframe src=\"about:blank\" style=\"position:absolute;width:100%;height:100%;left:0;top:0;border:none !important;\" data-html=%3C%21DOCTYPE%20html%3E%0A%3Chead%3E%20%20%20%20%0A%20%20%20%20%3Cmeta%20http-equiv%3D%22content-type%22%20content%3D%22text/html%3B%20charset%3DUTF-8%22%20/%3E%0A%20%20%20%20%0A%20%20%20%20%20%20%20%20%3Cscript%3E%0A%20%20%20%20%20%20%20%20%20%20%20%20L_NO_TOUCH%20%3D%20false%3B%0A%20%20%20%20%20%20%20%20%20%20%20%20L_DISABLE_3D%20%3D%20false%3B%0A%20%20%20%20%20%20%20%20%3C/script%3E%0A%20%20%20%20%0A%20%20%20%20%3Cstyle%3Ehtml%2C%20body%20%7Bwidth%3A%20100%25%3Bheight%3A%20100%25%3Bmargin%3A%200%3Bpadding%3A%200%3B%7D%3C/style%3E%0A%20%20%20%20%3Cstyle%3E%23map%20%7Bposition%3Aabsolute%3Btop%3A0%3Bbottom%3A0%3Bright%3A0%3Bleft%3A0%3B%7D%3C/style%3E%0A%20%20%20%20%3Cscript%20src%3D%22https%3A//cdn.jsdelivr.net/npm/leaflet%401.6.0/dist/leaflet.js%22%3E%3C/script%3E%0A%20%20%20%20%3Cscript%20src%3D%22https%3A//code.jquery.com/jquery-1.12.4.min.js%22%3E%3C/script%3E%0A%20%20%20%20%3Cscript%20src%3D%22https%3A//maxcdn.bootstrapcdn.com/bootstrap/3.2.0/js/bootstrap.min.js%22%3E%3C/script%3E%0A%20%20%20%20%3Cscript%20src%3D%22https%3A//cdnjs.cloudflare.com/ajax/libs/Leaflet.awesome-markers/2.0.2/leaflet.awesome-markers.js%22%3E%3C/script%3E%0A%20%20%20%20%3Clink%20rel%3D%22stylesheet%22%20href%3D%22https%3A//cdn.jsdelivr.net/npm/leaflet%401.6.0/dist/leaflet.css%22/%3E%0A%20%20%20%20%3Clink%20rel%3D%22stylesheet%22%20href%3D%22https%3A//maxcdn.bootstrapcdn.com/bootstrap/3.2.0/css/bootstrap.min.css%22/%3E%0A%20%20%20%20%3Clink%20rel%3D%22stylesheet%22%20href%3D%22https%3A//maxcdn.bootstrapcdn.com/bootstrap/3.2.0/css/bootstrap-theme.min.css%22/%3E%0A%20%20%20%20%3Clink%20rel%3D%22stylesheet%22%20href%3D%22https%3A//maxcdn.bootstrapcdn.com/font-awesome/4.6.3/css/font-awesome.min.css%22/%3E%0A%20%20%20%20%3Clink%20rel%3D%22stylesheet%22%20href%3D%22https%3A//cdnjs.cloudflare.com/ajax/libs/Leaflet.awesome-markers/2.0.2/leaflet.awesome-markers.css%22/%3E%0A%20%20%20%20%3Clink%20rel%3D%22stylesheet%22%20href%3D%22https%3A//cdn.jsdelivr.net/gh/python-visualization/folium/folium/templates/leaflet.awesome.rotate.min.css%22/%3E%0A%20%20%20%20%0A%20%20%20%20%20%20%20%20%20%20%20%20%3Cmeta%20name%3D%22viewport%22%20content%3D%22width%3Ddevice-width%2C%0A%20%20%20%20%20%20%20%20%20%20%20%20%20%20%20%20initial-scale%3D1.0%2C%20maximum-scale%3D1.0%2C%20user-scalable%3Dno%22%20/%3E%0A%20%20%20%20%20%20%20%20%20%20%20%20%3Cstyle%3E%0A%20%20%20%20%20%20%20%20%20%20%20%20%20%20%20%20%23map_9866fc7db9844ccbb2f47af59f61f7c8%20%7B%0A%20%20%20%20%20%20%20%20%20%20%20%20%20%20%20%20%20%20%20%20position%3A%20relative%3B%0A%20%20%20%20%20%20%20%20%20%20%20%20%20%20%20%20%20%20%20%20width%3A%20100.0%25%3B%0A%20%20%20%20%20%20%20%20%20%20%20%20%20%20%20%20%20%20%20%20height%3A%20100.0%25%3B%0A%20%20%20%20%20%20%20%20%20%20%20%20%20%20%20%20%20%20%20%20left%3A%200.0%25%3B%0A%20%20%20%20%20%20%20%20%20%20%20%20%20%20%20%20%20%20%20%20top%3A%200.0%25%3B%0A%20%20%20%20%20%20%20%20%20%20%20%20%20%20%20%20%7D%0A%20%20%20%20%20%20%20%20%20%20%20%20%3C/style%3E%0A%20%20%20%20%20%20%20%20%0A%3C/head%3E%0A%3Cbody%3E%20%20%20%20%0A%20%20%20%20%0A%20%20%20%20%20%20%20%20%20%20%20%20%3Cdiv%20class%3D%22folium-map%22%20id%3D%22map_9866fc7db9844ccbb2f47af59f61f7c8%22%20%3E%3C/div%3E%0A%20%20%20%20%20%20%20%20%0A%3C/body%3E%0A%3Cscript%3E%20%20%20%20%0A%20%20%20%20%0A%20%20%20%20%20%20%20%20%20%20%20%20var%20map_9866fc7db9844ccbb2f47af59f61f7c8%20%3D%20L.map%28%0A%20%20%20%20%20%20%20%20%20%20%20%20%20%20%20%20%22map_9866fc7db9844ccbb2f47af59f61f7c8%22%2C%0A%20%20%20%20%20%20%20%20%20%20%20%20%20%20%20%20%7B%0A%20%20%20%20%20%20%20%20%20%20%20%20%20%20%20%20%20%20%20%20center%3A%20%5B14.66216847415746%2C%20121.11159888156345%5D%2C%0A%20%20%20%20%20%20%20%20%20%20%20%20%20%20%20%20%20%20%20%20crs%3A%20L.CRS.EPSG3857%2C%0A%20%20%20%20%20%20%20%20%20%20%20%20%20%20%20%20%20%20%20%20zoom%3A%2010%2C%0A%20%20%20%20%20%20%20%20%20%20%20%20%20%20%20%20%20%20%20%20zoomControl%3A%20true%2C%0A%20%20%20%20%20%20%20%20%20%20%20%20%20%20%20%20%20%20%20%20preferCanvas%3A%20false%2C%0A%20%20%20%20%20%20%20%20%20%20%20%20%20%20%20%20%7D%0A%20%20%20%20%20%20%20%20%20%20%20%20%29%3B%0A%0A%20%20%20%20%20%20%20%20%20%20%20%20%0A%0A%20%20%20%20%20%20%20%20%0A%20%20%20%20%0A%20%20%20%20%20%20%20%20%20%20%20%20var%20tile_layer_eb924950f5ed4aaab53a64cffa0cdb64%20%3D%20L.tileLayer%28%0A%20%20%20%20%20%20%20%20%20%20%20%20%20%20%20%20%22https%3A//%7Bs%7D.tile.openstreetmap.org/%7Bz%7D/%7Bx%7D/%7By%7D.png%22%2C%0A%20%20%20%20%20%20%20%20%20%20%20%20%20%20%20%20%7B%22attribution%22%3A%20%22Data%20by%20%5Cu0026copy%3B%20%5Cu003ca%20href%3D%5C%22http%3A//openstreetmap.org%5C%22%5Cu003eOpenStreetMap%5Cu003c/a%5Cu003e%2C%20under%20%5Cu003ca%20href%3D%5C%22http%3A//www.openstreetmap.org/copyright%5C%22%5Cu003eODbL%5Cu003c/a%5Cu003e.%22%2C%20%22detectRetina%22%3A%20false%2C%20%22maxNativeZoom%22%3A%2018%2C%20%22maxZoom%22%3A%2018%2C%20%22minZoom%22%3A%200%2C%20%22noWrap%22%3A%20false%2C%20%22opacity%22%3A%201%2C%20%22subdomains%22%3A%20%22abc%22%2C%20%22tms%22%3A%20false%7D%0A%20%20%20%20%20%20%20%20%20%20%20%20%29.addTo%28map_9866fc7db9844ccbb2f47af59f61f7c8%29%3B%0A%20%20%20%20%20%20%20%20%0A%20%20%20%20%0A%20%20%20%20%20%20%20%20%20%20%20%20var%20tile_layer_0c958dedbf134309ae695a5b3ce85730%20%3D%20L.tileLayer%28%0A%20%20%20%20%20%20%20%20%20%20%20%20%20%20%20%20%22https%3A//cartodb-basemaps-%7Bs%7D.global.ssl.fastly.net/dark_all/%7Bz%7D/%7Bx%7D/%7By%7D.png%22%2C%0A%20%20%20%20%20%20%20%20%20%20%20%20%20%20%20%20%7B%22attribution%22%3A%20%22%5Cu0026copy%3B%20%5Cu003ca%20href%3D%5C%22http%3A//www.openstreetmap.org/copyright%5C%22%5Cu003eOpenStreetMap%5Cu003c/a%5Cu003e%20contributors%20%5Cu0026copy%3B%20%5Cu003ca%20href%3D%5C%22http%3A//cartodb.com/attributions%5C%22%5Cu003eCartoDB%5Cu003c/a%5Cu003e%2C%20CartoDB%20%5Cu003ca%20href%20%3D%5C%22http%3A//cartodb.com/attributions%5C%22%5Cu003eattributions%5Cu003c/a%5Cu003e%22%2C%20%22detectRetina%22%3A%20false%2C%20%22maxNativeZoom%22%3A%2018%2C%20%22maxZoom%22%3A%2018%2C%20%22minZoom%22%3A%200%2C%20%22noWrap%22%3A%20false%2C%20%22opacity%22%3A%201%2C%20%22subdomains%22%3A%20%22abc%22%2C%20%22tms%22%3A%20false%7D%0A%20%20%20%20%20%20%20%20%20%20%20%20%29.addTo%28map_9866fc7db9844ccbb2f47af59f61f7c8%29%3B%0A%20%20%20%20%20%20%20%20%0A%20%20%20%20%0A%20%20%20%20%20%20%20%20%20%20%20%20var%20marker_bb7e1fc969d740f9b6bd698409d3e7c7%20%3D%20L.marker%28%0A%20%20%20%20%20%20%20%20%20%20%20%20%20%20%20%20%5B14.66216847415746%2C%20121.11159888156345%5D%2C%0A%20%20%20%20%20%20%20%20%20%20%20%20%20%20%20%20%7B%7D%0A%20%20%20%20%20%20%20%20%20%20%20%20%29.addTo%28map_9866fc7db9844ccbb2f47af59f61f7c8%29%3B%0A%20%20%20%20%20%20%20%20%0A%20%20%20%20%0A%20%20%20%20%20%20%20%20%20%20%20%20var%20icon_9e338e3c58bb4f0b902728c28331a97d%20%3D%20L.AwesomeMarkers.icon%28%0A%20%20%20%20%20%20%20%20%20%20%20%20%20%20%20%20%7B%22extraClasses%22%3A%20%22fa-rotate-0%22%2C%20%22icon%22%3A%20%22info-sign%22%2C%20%22iconColor%22%3A%20%22white%22%2C%20%22markerColor%22%3A%20%22lightred%22%2C%20%22prefix%22%3A%20%22glyphicon%22%7D%0A%20%20%20%20%20%20%20%20%20%20%20%20%29%3B%0A%20%20%20%20%20%20%20%20%20%20%20%20marker_bb7e1fc969d740f9b6bd698409d3e7c7.setIcon%28icon_9e338e3c58bb4f0b902728c28331a97d%29%3B%0A%20%20%20%20%20%20%20%20%0A%20%20%20%20%0A%20%20%20%20%20%20%20%20var%20popup_c8f85adebf714acc848283a78ea1c41a%20%3D%20L.popup%28%7B%22maxWidth%22%3A%20%22100%25%22%7D%29%3B%0A%0A%20%20%20%20%20%20%20%20%0A%20%20%20%20%20%20%20%20%20%20%20%20var%20html_0e548eca03524be099e65e2b642defc8%20%3D%20%24%28%60%3Cdiv%20id%3D%22html_0e548eca03524be099e65e2b642defc8%22%20style%3D%22width%3A%20100.0%25%3B%20height%3A%20100.0%25%3B%22%3E0%3C/div%3E%60%29%5B0%5D%3B%0A%20%20%20%20%20%20%20%20%20%20%20%20popup_c8f85adebf714acc848283a78ea1c41a.setContent%28html_0e548eca03524be099e65e2b642defc8%29%3B%0A%20%20%20%20%20%20%20%20%0A%0A%20%20%20%20%20%20%20%20marker_bb7e1fc969d740f9b6bd698409d3e7c7.bindPopup%28popup_c8f85adebf714acc848283a78ea1c41a%29%0A%20%20%20%20%20%20%20%20%3B%0A%0A%20%20%20%20%20%20%20%20%0A%20%20%20%20%0A%20%20%20%20%0A%20%20%20%20%20%20%20%20%20%20%20%20var%20marker_0aaa8b1370fd4dbfb89720b586368fba%20%3D%20L.marker%28%0A%20%20%20%20%20%20%20%20%20%20%20%20%20%20%20%20%5B14.627311330247775%2C%20121.0499885978804%5D%2C%0A%20%20%20%20%20%20%20%20%20%20%20%20%20%20%20%20%7B%7D%0A%20%20%20%20%20%20%20%20%20%20%20%20%29.addTo%28map_9866fc7db9844ccbb2f47af59f61f7c8%29%3B%0A%20%20%20%20%20%20%20%20%0A%20%20%20%20%0A%20%20%20%20%20%20%20%20%20%20%20%20var%20icon_176293bb6c2b419ab6d39d1305e6580e%20%3D%20L.AwesomeMarkers.icon%28%0A%20%20%20%20%20%20%20%20%20%20%20%20%20%20%20%20%7B%22extraClasses%22%3A%20%22fa-rotate-0%22%2C%20%22icon%22%3A%20%22info-sign%22%2C%20%22iconColor%22%3A%20%22white%22%2C%20%22markerColor%22%3A%20%22lightred%22%2C%20%22prefix%22%3A%20%22glyphicon%22%7D%0A%20%20%20%20%20%20%20%20%20%20%20%20%29%3B%0A%20%20%20%20%20%20%20%20%20%20%20%20marker_0aaa8b1370fd4dbfb89720b586368fba.setIcon%28icon_176293bb6c2b419ab6d39d1305e6580e%29%3B%0A%20%20%20%20%20%20%20%20%0A%20%20%20%20%0A%20%20%20%20%20%20%20%20var%20popup_efeb029229874ce7a51d22548d1bba56%20%3D%20L.popup%28%7B%22maxWidth%22%3A%20%22100%25%22%7D%29%3B%0A%0A%20%20%20%20%20%20%20%20%0A%20%20%20%20%20%20%20%20%20%20%20%20var%20html_a34b3611b23b4cb18099cb4c6d549d66%20%3D%20%24%28%60%3Cdiv%20id%3D%22html_a34b3611b23b4cb18099cb4c6d549d66%22%20style%3D%22width%3A%20100.0%25%3B%20height%3A%20100.0%25%3B%22%3E0%3C/div%3E%60%29%5B0%5D%3B%0A%20%20%20%20%20%20%20%20%20%20%20%20popup_efeb029229874ce7a51d22548d1bba56.setContent%28html_a34b3611b23b4cb18099cb4c6d549d66%29%3B%0A%20%20%20%20%20%20%20%20%0A%0A%20%20%20%20%20%20%20%20marker_0aaa8b1370fd4dbfb89720b586368fba.bindPopup%28popup_efeb029229874ce7a51d22548d1bba56%29%0A%20%20%20%20%20%20%20%20%3B%0A%0A%20%20%20%20%20%20%20%20%0A%20%20%20%20%0A%20%20%20%20%0A%20%20%20%20%20%20%20%20%20%20%20%20var%20marker_1de45466c5dc4cd0a67084ff075bdfc9%20%3D%20L.marker%28%0A%20%20%20%20%20%20%20%20%20%20%20%20%20%20%20%20%5B14.6073317854173%2C%20121.1238206746426%5D%2C%0A%20%20%20%20%20%20%20%20%20%20%20%20%20%20%20%20%7B%7D%0A%20%20%20%20%20%20%20%20%20%20%20%20%29.addTo%28map_9866fc7db9844ccbb2f47af59f61f7c8%29%3B%0A%20%20%20%20%20%20%20%20%0A%20%20%20%20%0A%20%20%20%20%20%20%20%20%20%20%20%20var%20icon_cfae106c9df7439691bf75ca9e6ebd19%20%3D%20L.AwesomeMarkers.icon%28%0A%20%20%20%20%20%20%20%20%20%20%20%20%20%20%20%20%7B%22extraClasses%22%3A%20%22fa-rotate-0%22%2C%20%22icon%22%3A%20%22info-sign%22%2C%20%22iconColor%22%3A%20%22white%22%2C%20%22markerColor%22%3A%20%22lightred%22%2C%20%22prefix%22%3A%20%22glyphicon%22%7D%0A%20%20%20%20%20%20%20%20%20%20%20%20%29%3B%0A%20%20%20%20%20%20%20%20%20%20%20%20marker_1de45466c5dc4cd0a67084ff075bdfc9.setIcon%28icon_cfae106c9df7439691bf75ca9e6ebd19%29%3B%0A%20%20%20%20%20%20%20%20%0A%20%20%20%20%0A%20%20%20%20%20%20%20%20var%20popup_37ccbcb86d8a4496afef18ecc871fce2%20%3D%20L.popup%28%7B%22maxWidth%22%3A%20%22100%25%22%7D%29%3B%0A%0A%20%20%20%20%20%20%20%20%0A%20%20%20%20%20%20%20%20%20%20%20%20var%20html_a0794f18f99049399dfd49f9a4b9e528%20%3D%20%24%28%60%3Cdiv%20id%3D%22html_a0794f18f99049399dfd49f9a4b9e528%22%20style%3D%22width%3A%20100.0%25%3B%20height%3A%20100.0%25%3B%22%3E0%3C/div%3E%60%29%5B0%5D%3B%0A%20%20%20%20%20%20%20%20%20%20%20%20popup_37ccbcb86d8a4496afef18ecc871fce2.setContent%28html_a0794f18f99049399dfd49f9a4b9e528%29%3B%0A%20%20%20%20%20%20%20%20%0A%0A%20%20%20%20%20%20%20%20marker_1de45466c5dc4cd0a67084ff075bdfc9.bindPopup%28popup_37ccbcb86d8a4496afef18ecc871fce2%29%0A%20%20%20%20%20%20%20%20%3B%0A%0A%20%20%20%20%20%20%20%20%0A%20%20%20%20%0A%20%20%20%20%0A%20%20%20%20%20%20%20%20%20%20%20%20var%20marker_6955f65987b743b59ddd30db09e32ca3%20%3D%20L.marker%28%0A%20%20%20%20%20%20%20%20%20%20%20%20%20%20%20%20%5B14.595171314116392%2C%20121.1241868653561%5D%2C%0A%20%20%20%20%20%20%20%20%20%20%20%20%20%20%20%20%7B%7D%0A%20%20%20%20%20%20%20%20%20%20%20%20%29.addTo%28map_9866fc7db9844ccbb2f47af59f61f7c8%29%3B%0A%20%20%20%20%20%20%20%20%0A%20%20%20%20%0A%20%20%20%20%20%20%20%20%20%20%20%20var%20icon_3bd6d3fcab8e4b5da7a11b4f7471af29%20%3D%20L.AwesomeMarkers.icon%28%0A%20%20%20%20%20%20%20%20%20%20%20%20%20%20%20%20%7B%22extraClasses%22%3A%20%22fa-rotate-0%22%2C%20%22icon%22%3A%20%22info-sign%22%2C%20%22iconColor%22%3A%20%22white%22%2C%20%22markerColor%22%3A%20%22orange%22%2C%20%22prefix%22%3A%20%22glyphicon%22%7D%0A%20%20%20%20%20%20%20%20%20%20%20%20%29%3B%0A%20%20%20%20%20%20%20%20%20%20%20%20marker_6955f65987b743b59ddd30db09e32ca3.setIcon%28icon_3bd6d3fcab8e4b5da7a11b4f7471af29%29%3B%0A%20%20%20%20%20%20%20%20%0A%20%20%20%20%0A%20%20%20%20%20%20%20%20var%20popup_ee9578bfebc6457e8b8a1937aa0f0e52%20%3D%20L.popup%28%7B%22maxWidth%22%3A%20%22100%25%22%7D%29%3B%0A%0A%20%20%20%20%20%20%20%20%0A%20%20%20%20%20%20%20%20%20%20%20%20var%20html_8f3ac9ff8871468bb257e77fb54fdc07%20%3D%20%24%28%60%3Cdiv%20id%3D%22html_8f3ac9ff8871468bb257e77fb54fdc07%22%20style%3D%22width%3A%20100.0%25%3B%20height%3A%20100.0%25%3B%22%3E2%3C/div%3E%60%29%5B0%5D%3B%0A%20%20%20%20%20%20%20%20%20%20%20%20popup_ee9578bfebc6457e8b8a1937aa0f0e52.setContent%28html_8f3ac9ff8871468bb257e77fb54fdc07%29%3B%0A%20%20%20%20%20%20%20%20%0A%0A%20%20%20%20%20%20%20%20marker_6955f65987b743b59ddd30db09e32ca3.bindPopup%28popup_ee9578bfebc6457e8b8a1937aa0f0e52%29%0A%20%20%20%20%20%20%20%20%3B%0A%0A%20%20%20%20%20%20%20%20%0A%20%20%20%20%0A%3C/script%3E onload=\"this.contentDocument.open();this.contentDocument.write(    decodeURIComponent(this.getAttribute('data-html')));this.contentDocument.close();\" allowfullscreen webkitallowfullscreen mozallowfullscreen></iframe></div></div>"
      ],
      "text/plain": [
       "<folium.folium.Map at 0x1755bbbbe50>"
      ]
     },
     "execution_count": 11,
     "metadata": {},
     "output_type": "execute_result"
    }
   ],
   "source": [
    "mapper"
   ]
  },
  {
   "cell_type": "markdown",
   "metadata": {},
   "source": [
    "Random points are used in data collection using get_satellite_measures_from_points. There is currently no function that returns raster data for the whole geoJson. Looking at the source code, get_satellite_measures_from_points collects data from a buffered_geometry but returns an average over the whole geometry.\n",
    "```\n",
    "def get_satellite_measures_from_points...\n",
    "...\n",
    "points_df['ndvi'] = points_df['buffered_geometry'].apply(lambda x: meanNDVICollection(sat_image, x))\n",
    "...\n",
    "def meanNDVICollection\n",
    "...\n",
    "Compute the mean of NDVI over the 'region'\n",
    "    ndviValue = ndviImage.reduceRegion(**{\n",
    "    'geometry': aoi.getInfo(),\n",
    "    'reducer': ee.Reducer.mean(),\n",
    "    'scale': 1000\n",
    "    }).get('NDVI');  \n",
    "\n",
    "...\n",
    "```\n",
    "\n",
    "A refactor of the code is possible to create a function that returns manipulatable raster data."
   ]
  },
  {
   "cell_type": "markdown",
   "metadata": {},
   "source": [
    "## Social Listening"
   ]
  },
  {
   "cell_type": "code",
   "execution_count": 13,
   "metadata": {},
   "outputs": [
    {
     "name": "stdout",
     "output_type": "stream",
     "text": [
      "Requesting network data within bounding box from Overpass API in 1 request(s)\n",
      "Posting to http://www.overpass-api.de/api/interpreter with timeout=180, \"{'data': '[out:json][timeout:180];(way[\"highway\"][\"highway\"!~\"motor|proposed|construction|abandoned|platform|raceway\"][\"foot\"!~\"no\"][\"pedestrians\"!~\"no\"](14.58936896,120.98976275,14.77641364,121.13383232);>;);out;'}\"\n",
      "Downloaded 27,654.3KB from www.overpass-api.de in 20.42 seconds\n",
      "Downloaded OSM network data within bounding box from Overpass API in 1 request(s) and 21.07 seconds\n",
      "Returning OSM data with 185,475 nodes and 49,866 ways...\n",
      "Edge node pairs completed. Took 30.52 seconds\n",
      "Returning processed graph with 64,692 nodes and 89,341 edges...\n",
      "Completed OSM data download and Pandana node and edge table creation in 53.98 seconds\n",
      "Wall time: 55.3 s\n"
     ]
    }
   ],
   "source": [
    "%%time\n",
    "network = initialize_OSM_network(aoi_geojson)"
   ]
  },
  {
   "cell_type": "markdown",
   "metadata": {},
   "source": [
    "Function initialize_OSM_network only accepts a 4-coordinate geojson box. This denies collecting data by string location or by geometry of administrative boundaries. \n",
    "```\n",
    "def initialize_OSM_network(aoi_geojson)\n",
    "...   \n",
    "    # Set AOI CSV from geojson\n",
    "    aoi_csv = aoi_geojson[0][0][1], aoi_geojson[0][3][0], aoi_geojson[0][2][1], aoi_geojson[0][1][0]\n",
    "...\n",
    "\n",
    "    network = osm.pdna_network_from_bbox(*aoi_csv)\n",
    "```"
   ]
  },
  {
   "cell_type": "code",
   "execution_count": 16,
   "metadata": {},
   "outputs": [
    {
     "name": "stdout",
     "output_type": "stream",
     "text": [
      "Wall time: 32.4 s\n"
     ]
    }
   ],
   "source": [
    "%%time\n",
    "# Hospitals and clinics\n",
    "\n",
    "final_with_hospital_df5k, hospital_amenities_df, hospital_count_distance_df = get_OSM_network_data(network,\n",
    "                     satellite_df,\n",
    "                     aoi_geojson,\n",
    "                    ['clinic', 'hospital', 'doctors'],\n",
    "                    5,\n",
    "                    5000,\n",
    "                    show_viz=True)"
   ]
  },
  {
   "cell_type": "markdown",
   "metadata": {},
   "source": [
    "show_viz function does not work. Map does not show up. Again, data collection is time consuming, 33 sec for 5 points, although this time, a distance parameter is available to collect data faster at the cost of accuracy."
   ]
  },
  {
   "cell_type": "code",
   "execution_count": 18,
   "metadata": {},
   "outputs": [
    {
     "data": {
      "text/html": [
       "<div>\n",
       "<style scoped>\n",
       "    .dataframe tbody tr th:only-of-type {\n",
       "        vertical-align: middle;\n",
       "    }\n",
       "\n",
       "    .dataframe tbody tr th {\n",
       "        vertical-align: top;\n",
       "    }\n",
       "\n",
       "    .dataframe thead th {\n",
       "        text-align: right;\n",
       "    }\n",
       "</style>\n",
       "<table border=\"1\" class=\"dataframe\">\n",
       "  <thead>\n",
       "    <tr style=\"text-align: right;\">\n",
       "      <th></th>\n",
       "      <th>geometry</th>\n",
       "      <th>buffered_geometry</th>\n",
       "      <th>longitude</th>\n",
       "      <th>latitude</th>\n",
       "      <th>ndvi</th>\n",
       "      <th>fapar</th>\n",
       "      <th>ndbi</th>\n",
       "      <th>ndwi</th>\n",
       "      <th>ndmi</th>\n",
       "      <th>aerosol</th>\n",
       "      <th>surface_temperature</th>\n",
       "      <th>precipitation_rate</th>\n",
       "      <th>relative_humidity</th>\n",
       "      <th>labels</th>\n",
       "      <th>OSM_network_id</th>\n",
       "      <th>nearest_clinic_hospital_doctors_1</th>\n",
       "      <th>nearest_clinic_hospital_doctors_2</th>\n",
       "      <th>nearest_clinic_hospital_doctors_3</th>\n",
       "      <th>nearest_clinic_hospital_doctors_4</th>\n",
       "      <th>nearest_clinic_hospital_doctors_5</th>\n",
       "      <th>count_clinic_hospital_doctors_within_5.0km</th>\n",
       "    </tr>\n",
       "  </thead>\n",
       "  <tbody>\n",
       "    <tr>\n",
       "      <th>0</th>\n",
       "      <td>POINT (121.11160 14.66217)</td>\n",
       "      <td>ee.Geometry({\\n  \"functionInvocationValue\": {\\...</td>\n",
       "      <td>121.111599</td>\n",
       "      <td>14.662168</td>\n",
       "      <td>0.154349</td>\n",
       "      <td>0.000000</td>\n",
       "      <td>-0.009122</td>\n",
       "      <td>-0.156812</td>\n",
       "      <td>0.009122</td>\n",
       "      <td>116.431122</td>\n",
       "      <td>36.436481</td>\n",
       "      <td>9.171103e-07</td>\n",
       "      <td>77.704048</td>\n",
       "      <td>0</td>\n",
       "      <td>335307290</td>\n",
       "      <td>1710.287964</td>\n",
       "      <td>1710.287964</td>\n",
       "      <td>1746.331055</td>\n",
       "      <td>1830.510010</td>\n",
       "      <td>1874.386963</td>\n",
       "      <td>33.0</td>\n",
       "    </tr>\n",
       "    <tr>\n",
       "      <th>1</th>\n",
       "      <td>POINT (121.12419 14.59517)</td>\n",
       "      <td>ee.Geometry({\\n  \"functionInvocationValue\": {\\...</td>\n",
       "      <td>121.124187</td>\n",
       "      <td>14.595171</td>\n",
       "      <td>0.191877</td>\n",
       "      <td>0.047703</td>\n",
       "      <td>-0.076692</td>\n",
       "      <td>-0.117247</td>\n",
       "      <td>0.076692</td>\n",
       "      <td>147.654912</td>\n",
       "      <td>33.343179</td>\n",
       "      <td>9.171103e-07</td>\n",
       "      <td>77.704048</td>\n",
       "      <td>2</td>\n",
       "      <td>1298216111</td>\n",
       "      <td>2230.879883</td>\n",
       "      <td>3574.030029</td>\n",
       "      <td>5000.000000</td>\n",
       "      <td>5000.000000</td>\n",
       "      <td>5000.000000</td>\n",
       "      <td>2.0</td>\n",
       "    </tr>\n",
       "    <tr>\n",
       "      <th>2</th>\n",
       "      <td>POINT (121.04999 14.62731)</td>\n",
       "      <td>ee.Geometry({\\n  \"functionInvocationValue\": {\\...</td>\n",
       "      <td>121.049989</td>\n",
       "      <td>14.627311</td>\n",
       "      <td>0.096444</td>\n",
       "      <td>0.000000</td>\n",
       "      <td>-0.027322</td>\n",
       "      <td>-0.076104</td>\n",
       "      <td>0.027322</td>\n",
       "      <td>208.057935</td>\n",
       "      <td>36.603021</td>\n",
       "      <td>9.171103e-07</td>\n",
       "      <td>77.704048</td>\n",
       "      <td>0</td>\n",
       "      <td>32088850</td>\n",
       "      <td>301.251007</td>\n",
       "      <td>566.177979</td>\n",
       "      <td>566.177979</td>\n",
       "      <td>566.177979</td>\n",
       "      <td>597.189026</td>\n",
       "      <td>91.0</td>\n",
       "    </tr>\n",
       "    <tr>\n",
       "      <th>3</th>\n",
       "      <td>POINT (121.12382 14.60733)</td>\n",
       "      <td>ee.Geometry({\\n  \"functionInvocationValue\": {\\...</td>\n",
       "      <td>121.123821</td>\n",
       "      <td>14.607332</td>\n",
       "      <td>0.188294</td>\n",
       "      <td>0.052000</td>\n",
       "      <td>-0.068768</td>\n",
       "      <td>-0.124935</td>\n",
       "      <td>0.068768</td>\n",
       "      <td>148.002541</td>\n",
       "      <td>35.082785</td>\n",
       "      <td>9.171103e-07</td>\n",
       "      <td>77.704048</td>\n",
       "      <td>0</td>\n",
       "      <td>5373695258</td>\n",
       "      <td>3630.863037</td>\n",
       "      <td>4351.748047</td>\n",
       "      <td>4473.473145</td>\n",
       "      <td>4531.158203</td>\n",
       "      <td>4926.420898</td>\n",
       "      <td>5.0</td>\n",
       "    </tr>\n",
       "    <tr>\n",
       "      <th>4</th>\n",
       "      <td>POINT (121.05697 14.76081)</td>\n",
       "      <td>ee.Geometry({\\n  \"functionInvocationValue\": {\\...</td>\n",
       "      <td>121.056969</td>\n",
       "      <td>14.760809</td>\n",
       "      <td>0.130988</td>\n",
       "      <td>0.032000</td>\n",
       "      <td>-0.038837</td>\n",
       "      <td>-0.101535</td>\n",
       "      <td>0.038837</td>\n",
       "      <td>209.410579</td>\n",
       "      <td>35.887674</td>\n",
       "      <td>9.090909e-07</td>\n",
       "      <td>81.611534</td>\n",
       "      <td>1</td>\n",
       "      <td>8332611161</td>\n",
       "      <td>905.219971</td>\n",
       "      <td>993.471008</td>\n",
       "      <td>1210.093018</td>\n",
       "      <td>1724.852051</td>\n",
       "      <td>1905.125000</td>\n",
       "      <td>18.0</td>\n",
       "    </tr>\n",
       "  </tbody>\n",
       "</table>\n",
       "</div>"
      ],
      "text/plain": [
       "                     geometry  \\\n",
       "0  POINT (121.11160 14.66217)   \n",
       "1  POINT (121.12419 14.59517)   \n",
       "2  POINT (121.04999 14.62731)   \n",
       "3  POINT (121.12382 14.60733)   \n",
       "4  POINT (121.05697 14.76081)   \n",
       "\n",
       "                                   buffered_geometry   longitude   latitude  \\\n",
       "0  ee.Geometry({\\n  \"functionInvocationValue\": {\\...  121.111599  14.662168   \n",
       "1  ee.Geometry({\\n  \"functionInvocationValue\": {\\...  121.124187  14.595171   \n",
       "2  ee.Geometry({\\n  \"functionInvocationValue\": {\\...  121.049989  14.627311   \n",
       "3  ee.Geometry({\\n  \"functionInvocationValue\": {\\...  121.123821  14.607332   \n",
       "4  ee.Geometry({\\n  \"functionInvocationValue\": {\\...  121.056969  14.760809   \n",
       "\n",
       "       ndvi     fapar      ndbi      ndwi      ndmi     aerosol  \\\n",
       "0  0.154349  0.000000 -0.009122 -0.156812  0.009122  116.431122   \n",
       "1  0.191877  0.047703 -0.076692 -0.117247  0.076692  147.654912   \n",
       "2  0.096444  0.000000 -0.027322 -0.076104  0.027322  208.057935   \n",
       "3  0.188294  0.052000 -0.068768 -0.124935  0.068768  148.002541   \n",
       "4  0.130988  0.032000 -0.038837 -0.101535  0.038837  209.410579   \n",
       "\n",
       "   surface_temperature  precipitation_rate  relative_humidity  labels  \\\n",
       "0            36.436481        9.171103e-07          77.704048       0   \n",
       "1            33.343179        9.171103e-07          77.704048       2   \n",
       "2            36.603021        9.171103e-07          77.704048       0   \n",
       "3            35.082785        9.171103e-07          77.704048       0   \n",
       "4            35.887674        9.090909e-07          81.611534       1   \n",
       "\n",
       "   OSM_network_id  nearest_clinic_hospital_doctors_1  \\\n",
       "0       335307290                        1710.287964   \n",
       "1      1298216111                        2230.879883   \n",
       "2        32088850                         301.251007   \n",
       "3      5373695258                        3630.863037   \n",
       "4      8332611161                         905.219971   \n",
       "\n",
       "   nearest_clinic_hospital_doctors_2  nearest_clinic_hospital_doctors_3  \\\n",
       "0                        1710.287964                        1746.331055   \n",
       "1                        3574.030029                        5000.000000   \n",
       "2                         566.177979                         566.177979   \n",
       "3                        4351.748047                        4473.473145   \n",
       "4                         993.471008                        1210.093018   \n",
       "\n",
       "   nearest_clinic_hospital_doctors_4  nearest_clinic_hospital_doctors_5  \\\n",
       "0                        1830.510010                        1874.386963   \n",
       "1                        5000.000000                        5000.000000   \n",
       "2                         566.177979                         597.189026   \n",
       "3                        4531.158203                        4926.420898   \n",
       "4                        1724.852051                        1905.125000   \n",
       "\n",
       "   count_clinic_hospital_doctors_within_5.0km  \n",
       "0                                        33.0  \n",
       "1                                         2.0  \n",
       "2                                        91.0  \n",
       "3                                         5.0  \n",
       "4                                        18.0  "
      ]
     },
     "execution_count": 18,
     "metadata": {},
     "output_type": "execute_result"
    }
   ],
   "source": [
    "final_with_hospital_df5k"
   ]
  },
  {
   "cell_type": "markdown",
   "metadata": {},
   "source": [
    "## Trends"
   ]
  },
  {
   "cell_type": "code",
   "execution_count": 24,
   "metadata": {},
   "outputs": [],
   "source": [
    "from aedes.social_listening_utils import get_search_trends\n",
    "\n",
    "search_df = get_search_trends(\"PH-00\")"
   ]
  },
  {
   "cell_type": "markdown",
   "metadata": {},
   "source": [
    "get_search_trends only has geo-tag as parameter. Several integral parameters should include \n",
    "search term/s, \n",
    "bool to decide whether to search for related searches, \n",
    "number of related searches\n",
    "\n",
    "The function have no support to choose range of date when to search.\n",
    "\n",
    "It should also be noted that geo-tags are available only down to provincial divisions."
   ]
  },
  {
   "cell_type": "code",
   "execution_count": 28,
   "metadata": {},
   "outputs": [
    {
     "data": {
      "text/html": [
       "<div>\n",
       "<style scoped>\n",
       "    .dataframe tbody tr th:only-of-type {\n",
       "        vertical-align: middle;\n",
       "    }\n",
       "\n",
       "    .dataframe tbody tr th {\n",
       "        vertical-align: top;\n",
       "    }\n",
       "\n",
       "    .dataframe thead th {\n",
       "        text-align: right;\n",
       "    }\n",
       "</style>\n",
       "<table border=\"1\" class=\"dataframe\">\n",
       "  <thead>\n",
       "    <tr style=\"text-align: right;\">\n",
       "      <th></th>\n",
       "      <th>date</th>\n",
       "      <th>dengue</th>\n",
       "      <th>dengue symptoms</th>\n",
       "      <th>symptoms</th>\n",
       "      <th>dengue fever</th>\n",
       "      <th>fever</th>\n",
       "      <th>isPartial</th>\n",
       "    </tr>\n",
       "  </thead>\n",
       "  <tbody>\n",
       "    <tr>\n",
       "      <th>0</th>\n",
       "      <td>2017-04-30</td>\n",
       "      <td>1</td>\n",
       "      <td>0</td>\n",
       "      <td>17</td>\n",
       "      <td>0</td>\n",
       "      <td>5</td>\n",
       "      <td>False</td>\n",
       "    </tr>\n",
       "    <tr>\n",
       "      <th>1</th>\n",
       "      <td>2017-05-31</td>\n",
       "      <td>1</td>\n",
       "      <td>0</td>\n",
       "      <td>20</td>\n",
       "      <td>0</td>\n",
       "      <td>5</td>\n",
       "      <td>False</td>\n",
       "    </tr>\n",
       "    <tr>\n",
       "      <th>2</th>\n",
       "      <td>2017-06-30</td>\n",
       "      <td>3</td>\n",
       "      <td>1</td>\n",
       "      <td>19</td>\n",
       "      <td>0</td>\n",
       "      <td>6</td>\n",
       "      <td>False</td>\n",
       "    </tr>\n",
       "    <tr>\n",
       "      <th>3</th>\n",
       "      <td>2017-07-31</td>\n",
       "      <td>4</td>\n",
       "      <td>1</td>\n",
       "      <td>19</td>\n",
       "      <td>1</td>\n",
       "      <td>7</td>\n",
       "      <td>False</td>\n",
       "    </tr>\n",
       "    <tr>\n",
       "      <th>4</th>\n",
       "      <td>2017-08-31</td>\n",
       "      <td>5</td>\n",
       "      <td>1</td>\n",
       "      <td>25</td>\n",
       "      <td>1</td>\n",
       "      <td>8</td>\n",
       "      <td>False</td>\n",
       "    </tr>\n",
       "  </tbody>\n",
       "</table>\n",
       "</div>"
      ],
      "text/plain": [
       "         date  dengue  dengue symptoms  symptoms  dengue fever  fever  \\\n",
       "0  2017-04-30       1                0        17             0      5   \n",
       "1  2017-05-31       1                0        20             0      5   \n",
       "2  2017-06-30       3                1        19             0      6   \n",
       "3  2017-07-31       4                1        19             1      7   \n",
       "4  2017-08-31       5                1        25             1      8   \n",
       "\n",
       "   isPartial  \n",
       "0      False  \n",
       "1      False  \n",
       "2      False  \n",
       "3      False  \n",
       "4      False  "
      ]
     },
     "execution_count": 28,
     "metadata": {},
     "output_type": "execute_result"
    }
   ],
   "source": [
    "monthly_max_interest_df = search_df.resample('M').max().reset_index()\n",
    "monthly_max_interest_df['date'] = monthly_max_interest_df['date'].astype(str)\n",
    "monthly_max_interest_df.head()"
   ]
  },
  {
   "cell_type": "markdown",
   "metadata": {},
   "source": [
    "get_search_trends also uses related_queries which return related search terms. It it worth noting that some related queries could be too general. As shown 'symptoms' or 'fever' are general terms that may not be of interest.\n",
    "```\n",
    "...\n",
    "related_queries = pytrend.related_queries()\n",
    "...\n",
    "```"
   ]
  }
 ],
 "metadata": {
  "interpreter": {
   "hash": "40ebd1f8f6f84e99f17363208471865cabae43d8a32ab20c37a6d40f82d3161f"
  },
  "kernelspec": {
   "display_name": "Python 3",
   "language": "python",
   "name": "python3"
  },
  "language_info": {
   "codemirror_mode": {
    "name": "ipython",
    "version": 3
   },
   "file_extension": ".py",
   "mimetype": "text/x-python",
   "name": "python",
   "nbconvert_exporter": "python",
   "pygments_lexer": "ipython3",
   "version": "3.8.5"
  }
 },
 "nbformat": 4,
 "nbformat_minor": 2
}
