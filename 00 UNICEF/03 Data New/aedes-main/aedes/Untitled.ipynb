{
 "cells": [
  {
   "cell_type": "code",
   "execution_count": 2,
   "id": "73d15ca5",
   "metadata": {},
   "outputs": [],
   "source": [
    "import pandas as pd                        \n",
    "from pytrends.request import TrendReq\n",
    "pytrend = TrendReq()"
   ]
  },
  {
   "cell_type": "code",
   "execution_count": 6,
   "id": "7bea2503",
   "metadata": {},
   "outputs": [],
   "source": [
    "geo_tag = \"PH-00\" "
   ]
  },
  {
   "cell_type": "code",
   "execution_count": 11,
   "id": "9afae1c1",
   "metadata": {},
   "outputs": [],
   "source": [
    "def get_search_trends(geo_tag):\n",
    "    # Instantiate dengue payload with one keyword\n",
    "    pytrend.build_payload(kw_list=['dengue'], geo=geo_tag)"
   ]
  },
  {
   "cell_type": "code",
   "execution_count": 13,
   "id": "59b08fe1",
   "metadata": {},
   "outputs": [],
   "source": [
    "# Get all related queries (top and rising)\n",
    "related_queries = pytrend.related_queries()"
   ]
  },
  {
   "cell_type": "code",
   "execution_count": 16,
   "id": "884b9a64",
   "metadata": {},
   "outputs": [
    {
     "data": {
      "text/plain": [
       "{}"
      ]
     },
     "execution_count": 16,
     "metadata": {},
     "output_type": "execute_result"
    }
   ],
   "source": [
    "related_queries"
   ]
  },
  {
   "cell_type": "code",
   "execution_count": 18,
   "id": "e49e75a1",
   "metadata": {},
   "outputs": [
    {
     "ename": "KeyError",
     "evalue": "'dengue'",
     "output_type": "error",
     "traceback": [
      "\u001b[1;31m---------------------------------------------------------------------------\u001b[0m",
      "\u001b[1;31mKeyError\u001b[0m                                  Traceback (most recent call last)",
      "\u001b[1;32m<ipython-input-18-90141a6eb913>\u001b[0m in \u001b[0;36m<module>\u001b[1;34m\u001b[0m\n\u001b[1;32m----> 1\u001b[1;33m \u001b[0msearch\u001b[0m \u001b[1;33m=\u001b[0m \u001b[0mrelated_queries\u001b[0m\u001b[1;33m[\u001b[0m\u001b[1;34m'dengue'\u001b[0m\u001b[1;33m]\u001b[0m\u001b[1;33m[\u001b[0m\u001b[1;34m'top'\u001b[0m\u001b[1;33m]\u001b[0m\u001b[1;33m.\u001b[0m\u001b[0mhead\u001b[0m\u001b[1;33m(\u001b[0m\u001b[1;36m4\u001b[0m\u001b[1;33m)\u001b[0m\u001b[1;33m[\u001b[0m\u001b[1;34m'query'\u001b[0m\u001b[1;33m]\u001b[0m\u001b[1;33m.\u001b[0m\u001b[0mvalues\u001b[0m\u001b[1;33m.\u001b[0m\u001b[0mflatten\u001b[0m\u001b[1;33m(\u001b[0m\u001b[1;33m)\u001b[0m\u001b[1;33m.\u001b[0m\u001b[0mtolist\u001b[0m\u001b[1;33m(\u001b[0m\u001b[1;33m)\u001b[0m\u001b[1;33m\u001b[0m\u001b[1;33m\u001b[0m\u001b[0m\n\u001b[0m",
      "\u001b[1;31mKeyError\u001b[0m: 'dengue'"
     ]
    }
   ],
   "source": [
    "search = related_queries['dengue']['top'].head(4)['query'].values.flatten().tolist()"
   ]
  },
  {
   "cell_type": "code",
   "execution_count": null,
   "id": "4f7a75d8",
   "metadata": {},
   "outputs": [],
   "source": []
  }
 ],
 "metadata": {
  "kernelspec": {
   "display_name": "Python 3",
   "language": "python",
   "name": "python3"
  },
  "language_info": {
   "codemirror_mode": {
    "name": "ipython",
    "version": 3
   },
   "file_extension": ".py",
   "mimetype": "text/x-python",
   "name": "python",
   "nbconvert_exporter": "python",
   "pygments_lexer": "ipython3",
   "version": "3.8.8"
  }
 },
 "nbformat": 4,
 "nbformat_minor": 5
}
